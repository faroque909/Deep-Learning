{
  "nbformat": 4,
  "nbformat_minor": 0,
  "metadata": {
    "colab": {
      "provenance": []
    },
    "kernelspec": {
      "name": "python3",
      "display_name": "Python 3"
    },
    "language_info": {
      "name": "python"
    }
  },
  "cells": [
    {
      "cell_type": "markdown",
      "source": [],
      "metadata": {
        "id": "4PnsxX-i35Ix"
      }
    },
    {
      "cell_type": "markdown",
      "source": [
        "Module 4- Deep Neural Networks with Tensorflow and Keras"
      ],
      "metadata": {
        "id": "vnlnTWZ-4Re7"
      }
    },
    {
      "cell_type": "code",
      "source": [
        "import tensorflow\n",
        "tensorflow.__version__"
      ],
      "metadata": {
        "colab": {
          "base_uri": "https://localhost:8080/",
          "height": 35
        },
        "id": "6sTqCDKZ4Sn7",
        "outputId": "5cd1ba01-47c3-4991-fd17-013e6c5ea98f"
      },
      "execution_count": 1,
      "outputs": [
        {
          "output_type": "execute_result",
          "data": {
            "text/plain": [
              "'2.11.0'"
            ],
            "application/vnd.google.colaboratory.intrinsic+json": {
              "type": "string"
            }
          },
          "metadata": {},
          "execution_count": 1
        }
      ]
    },
    {
      "cell_type": "markdown",
      "source": [
        "Preparing the data\n",
        "Importing Dataset"
      ],
      "metadata": {
        "id": "XXAKH9lW5PEE"
      }
    },
    {
      "cell_type": "code",
      "source": [
        "import pandas as pd\n",
        "import numpy as np\n",
        "import matplotlib.pyplot as plt\n",
        "import seaborn as sns"
      ],
      "metadata": {
        "id": "6zCPNPly5SoP"
      },
      "execution_count": 2,
      "outputs": []
    },
    {
      "cell_type": "code",
      "source": [
        "dataset = pd.read_csv(\"https://raw.githubusercontent.com/PJalgotrader/Deep_Learning-USU/main/Lectures%20and%20codes/DL%20Spring%202023/Module%204-%20Deep%20Neural%20Networks/DNN_python/employee.csv\")\n",
        "dataset.head()"
      ],
      "metadata": {
        "colab": {
          "base_uri": "https://localhost:8080/",
          "height": 270
        },
        "id": "F9kEyIS35ZOJ",
        "outputId": "94e2dca2-02b7-4b32-e757-6adf6bf53106"
      },
      "execution_count": 3,
      "outputs": [
        {
          "output_type": "execute_result",
          "data": {
            "text/plain": [
              "   satisfaction_level  last_evaluation  number_project  average_montly_hours  \\\n",
              "0                0.38             0.53               2                   157   \n",
              "1                0.80             0.86               5                   262   \n",
              "2                0.11             0.88               7                   272   \n",
              "3                0.72             0.87               5                   223   \n",
              "4                0.37             0.52               2                   159   \n",
              "\n",
              "   time_spend_company  Work_accident  promotion_last_5years department  \\\n",
              "0                   3              0                      0      sales   \n",
              "1                   6              0                      0      sales   \n",
              "2                   4              0                      0      sales   \n",
              "3                   5              0                      0      sales   \n",
              "4                   3              0                      0      sales   \n",
              "\n",
              "   salary  left  \n",
              "0     low     1  \n",
              "1  medium     1  \n",
              "2  medium     1  \n",
              "3     low     1  \n",
              "4     low     1  "
            ],
            "text/html": [
              "\n",
              "  <div id=\"df-834db2d2-186a-48b1-a8a9-464744babda0\">\n",
              "    <div class=\"colab-df-container\">\n",
              "      <div>\n",
              "<style scoped>\n",
              "    .dataframe tbody tr th:only-of-type {\n",
              "        vertical-align: middle;\n",
              "    }\n",
              "\n",
              "    .dataframe tbody tr th {\n",
              "        vertical-align: top;\n",
              "    }\n",
              "\n",
              "    .dataframe thead th {\n",
              "        text-align: right;\n",
              "    }\n",
              "</style>\n",
              "<table border=\"1\" class=\"dataframe\">\n",
              "  <thead>\n",
              "    <tr style=\"text-align: right;\">\n",
              "      <th></th>\n",
              "      <th>satisfaction_level</th>\n",
              "      <th>last_evaluation</th>\n",
              "      <th>number_project</th>\n",
              "      <th>average_montly_hours</th>\n",
              "      <th>time_spend_company</th>\n",
              "      <th>Work_accident</th>\n",
              "      <th>promotion_last_5years</th>\n",
              "      <th>department</th>\n",
              "      <th>salary</th>\n",
              "      <th>left</th>\n",
              "    </tr>\n",
              "  </thead>\n",
              "  <tbody>\n",
              "    <tr>\n",
              "      <th>0</th>\n",
              "      <td>0.38</td>\n",
              "      <td>0.53</td>\n",
              "      <td>2</td>\n",
              "      <td>157</td>\n",
              "      <td>3</td>\n",
              "      <td>0</td>\n",
              "      <td>0</td>\n",
              "      <td>sales</td>\n",
              "      <td>low</td>\n",
              "      <td>1</td>\n",
              "    </tr>\n",
              "    <tr>\n",
              "      <th>1</th>\n",
              "      <td>0.80</td>\n",
              "      <td>0.86</td>\n",
              "      <td>5</td>\n",
              "      <td>262</td>\n",
              "      <td>6</td>\n",
              "      <td>0</td>\n",
              "      <td>0</td>\n",
              "      <td>sales</td>\n",
              "      <td>medium</td>\n",
              "      <td>1</td>\n",
              "    </tr>\n",
              "    <tr>\n",
              "      <th>2</th>\n",
              "      <td>0.11</td>\n",
              "      <td>0.88</td>\n",
              "      <td>7</td>\n",
              "      <td>272</td>\n",
              "      <td>4</td>\n",
              "      <td>0</td>\n",
              "      <td>0</td>\n",
              "      <td>sales</td>\n",
              "      <td>medium</td>\n",
              "      <td>1</td>\n",
              "    </tr>\n",
              "    <tr>\n",
              "      <th>3</th>\n",
              "      <td>0.72</td>\n",
              "      <td>0.87</td>\n",
              "      <td>5</td>\n",
              "      <td>223</td>\n",
              "      <td>5</td>\n",
              "      <td>0</td>\n",
              "      <td>0</td>\n",
              "      <td>sales</td>\n",
              "      <td>low</td>\n",
              "      <td>1</td>\n",
              "    </tr>\n",
              "    <tr>\n",
              "      <th>4</th>\n",
              "      <td>0.37</td>\n",
              "      <td>0.52</td>\n",
              "      <td>2</td>\n",
              "      <td>159</td>\n",
              "      <td>3</td>\n",
              "      <td>0</td>\n",
              "      <td>0</td>\n",
              "      <td>sales</td>\n",
              "      <td>low</td>\n",
              "      <td>1</td>\n",
              "    </tr>\n",
              "  </tbody>\n",
              "</table>\n",
              "</div>\n",
              "      <button class=\"colab-df-convert\" onclick=\"convertToInteractive('df-834db2d2-186a-48b1-a8a9-464744babda0')\"\n",
              "              title=\"Convert this dataframe to an interactive table.\"\n",
              "              style=\"display:none;\">\n",
              "        \n",
              "  <svg xmlns=\"http://www.w3.org/2000/svg\" height=\"24px\"viewBox=\"0 0 24 24\"\n",
              "       width=\"24px\">\n",
              "    <path d=\"M0 0h24v24H0V0z\" fill=\"none\"/>\n",
              "    <path d=\"M18.56 5.44l.94 2.06.94-2.06 2.06-.94-2.06-.94-.94-2.06-.94 2.06-2.06.94zm-11 1L8.5 8.5l.94-2.06 2.06-.94-2.06-.94L8.5 2.5l-.94 2.06-2.06.94zm10 10l.94 2.06.94-2.06 2.06-.94-2.06-.94-.94-2.06-.94 2.06-2.06.94z\"/><path d=\"M17.41 7.96l-1.37-1.37c-.4-.4-.92-.59-1.43-.59-.52 0-1.04.2-1.43.59L10.3 9.45l-7.72 7.72c-.78.78-.78 2.05 0 2.83L4 21.41c.39.39.9.59 1.41.59.51 0 1.02-.2 1.41-.59l7.78-7.78 2.81-2.81c.8-.78.8-2.07 0-2.86zM5.41 20L4 18.59l7.72-7.72 1.47 1.35L5.41 20z\"/>\n",
              "  </svg>\n",
              "      </button>\n",
              "      \n",
              "  <style>\n",
              "    .colab-df-container {\n",
              "      display:flex;\n",
              "      flex-wrap:wrap;\n",
              "      gap: 12px;\n",
              "    }\n",
              "\n",
              "    .colab-df-convert {\n",
              "      background-color: #E8F0FE;\n",
              "      border: none;\n",
              "      border-radius: 50%;\n",
              "      cursor: pointer;\n",
              "      display: none;\n",
              "      fill: #1967D2;\n",
              "      height: 32px;\n",
              "      padding: 0 0 0 0;\n",
              "      width: 32px;\n",
              "    }\n",
              "\n",
              "    .colab-df-convert:hover {\n",
              "      background-color: #E2EBFA;\n",
              "      box-shadow: 0px 1px 2px rgba(60, 64, 67, 0.3), 0px 1px 3px 1px rgba(60, 64, 67, 0.15);\n",
              "      fill: #174EA6;\n",
              "    }\n",
              "\n",
              "    [theme=dark] .colab-df-convert {\n",
              "      background-color: #3B4455;\n",
              "      fill: #D2E3FC;\n",
              "    }\n",
              "\n",
              "    [theme=dark] .colab-df-convert:hover {\n",
              "      background-color: #434B5C;\n",
              "      box-shadow: 0px 1px 3px 1px rgba(0, 0, 0, 0.15);\n",
              "      filter: drop-shadow(0px 1px 2px rgba(0, 0, 0, 0.3));\n",
              "      fill: #FFFFFF;\n",
              "    }\n",
              "  </style>\n",
              "\n",
              "      <script>\n",
              "        const buttonEl =\n",
              "          document.querySelector('#df-834db2d2-186a-48b1-a8a9-464744babda0 button.colab-df-convert');\n",
              "        buttonEl.style.display =\n",
              "          google.colab.kernel.accessAllowed ? 'block' : 'none';\n",
              "\n",
              "        async function convertToInteractive(key) {\n",
              "          const element = document.querySelector('#df-834db2d2-186a-48b1-a8a9-464744babda0');\n",
              "          const dataTable =\n",
              "            await google.colab.kernel.invokeFunction('convertToInteractive',\n",
              "                                                     [key], {});\n",
              "          if (!dataTable) return;\n",
              "\n",
              "          const docLinkHtml = 'Like what you see? Visit the ' +\n",
              "            '<a target=\"_blank\" href=https://colab.research.google.com/notebooks/data_table.ipynb>data table notebook</a>'\n",
              "            + ' to learn more about interactive tables.';\n",
              "          element.innerHTML = '';\n",
              "          dataTable['output_type'] = 'display_data';\n",
              "          await google.colab.output.renderOutput(dataTable, element);\n",
              "          const docLink = document.createElement('div');\n",
              "          docLink.innerHTML = docLinkHtml;\n",
              "          element.appendChild(docLink);\n",
              "        }\n",
              "      </script>\n",
              "    </div>\n",
              "  </div>\n",
              "  "
            ]
          },
          "metadata": {},
          "execution_count": 3
        }
      ]
    },
    {
      "cell_type": "markdown",
      "source": [
        "For a classification problem, it is always good to start to check if the target is balanced or not!"
      ],
      "metadata": {
        "id": "rV4latyj692d"
      }
    },
    {
      "cell_type": "code",
      "source": [
        "dataset['left'].value_counts()/len(dataset)"
      ],
      "metadata": {
        "colab": {
          "base_uri": "https://localhost:8080/"
        },
        "id": "6jvQxX577BeW",
        "outputId": "7fbf8f65-cd21-413b-d541-748258dd5761"
      },
      "execution_count": 4,
      "outputs": [
        {
          "output_type": "execute_result",
          "data": {
            "text/plain": [
              "0    0.761917\n",
              "1    0.238083\n",
              "Name: left, dtype: float64"
            ]
          },
          "metadata": {},
          "execution_count": 4
        }
      ]
    },
    {
      "cell_type": "markdown",
      "source": [
        "This data set is not that bad! (not very unbalanced). If anything, your accuracy must be greater that 76%. Why?"
      ],
      "metadata": {
        "id": "kDrJufwV8ACm"
      }
    },
    {
      "cell_type": "code",
      "source": [
        "dataset.nunique()"
      ],
      "metadata": {
        "colab": {
          "base_uri": "https://localhost:8080/"
        },
        "id": "dLafIdrr73X0",
        "outputId": "6cc1b5ee-3f08-4f12-ccd0-4285891efb71"
      },
      "execution_count": 5,
      "outputs": [
        {
          "output_type": "execute_result",
          "data": {
            "text/plain": [
              "satisfaction_level        92\n",
              "last_evaluation           65\n",
              "number_project             6\n",
              "average_montly_hours     215\n",
              "time_spend_company         8\n",
              "Work_accident              2\n",
              "promotion_last_5years      2\n",
              "department                10\n",
              "salary                     3\n",
              "left                       2\n",
              "dtype: int64"
            ]
          },
          "metadata": {},
          "execution_count": 5
        }
      ]
    },
    {
      "cell_type": "code",
      "source": [
        "dataset.columns"
      ],
      "metadata": {
        "colab": {
          "base_uri": "https://localhost:8080/"
        },
        "id": "lFzJwRic8QY9",
        "outputId": "b8a96cce-11ef-4b6f-80ea-b8bcf3152669"
      },
      "execution_count": 6,
      "outputs": [
        {
          "output_type": "execute_result",
          "data": {
            "text/plain": [
              "Index(['satisfaction_level', 'last_evaluation', 'number_project',\n",
              "       'average_montly_hours', 'time_spend_company', 'Work_accident',\n",
              "       'promotion_last_5years', 'department', 'salary', 'left'],\n",
              "      dtype='object')"
            ]
          },
          "metadata": {},
          "execution_count": 6
        }
      ]
    },
    {
      "cell_type": "code",
      "source": [
        "categoricals = ['Work_accident','promotion_last_5years', 'department', 'salary']"
      ],
      "metadata": {
        "id": "rcc9Qp7R8lQI"
      },
      "execution_count": 7,
      "outputs": []
    },
    {
      "cell_type": "code",
      "source": [
        "for col in categoricals:\n",
        "  dataset[col]=dataset[col].astype('category')"
      ],
      "metadata": {
        "id": "Rne5MVy79PK1"
      },
      "execution_count": 8,
      "outputs": []
    },
    {
      "cell_type": "code",
      "source": [
        "dataset.info()"
      ],
      "metadata": {
        "colab": {
          "base_uri": "https://localhost:8080/"
        },
        "id": "1JRK6zfm9nS9",
        "outputId": "fa5c3003-364c-4baf-9360-604ec16bd5c8"
      },
      "execution_count": 9,
      "outputs": [
        {
          "output_type": "stream",
          "name": "stdout",
          "text": [
            "<class 'pandas.core.frame.DataFrame'>\n",
            "RangeIndex: 14999 entries, 0 to 14998\n",
            "Data columns (total 10 columns):\n",
            " #   Column                 Non-Null Count  Dtype   \n",
            "---  ------                 --------------  -----   \n",
            " 0   satisfaction_level     14999 non-null  float64 \n",
            " 1   last_evaluation        14999 non-null  float64 \n",
            " 2   number_project         14999 non-null  int64   \n",
            " 3   average_montly_hours   14999 non-null  int64   \n",
            " 4   time_spend_company     14999 non-null  int64   \n",
            " 5   Work_accident          14999 non-null  category\n",
            " 6   promotion_last_5years  14999 non-null  category\n",
            " 7   department             14999 non-null  category\n",
            " 8   salary                 14999 non-null  category\n",
            " 9   left                   14999 non-null  int64   \n",
            "dtypes: category(4), float64(2), int64(4)\n",
            "memory usage: 762.5 KB\n"
          ]
        }
      ]
    },
    {
      "cell_type": "code",
      "source": [
        "dataset.describe()"
      ],
      "metadata": {
        "colab": {
          "base_uri": "https://localhost:8080/",
          "height": 300
        },
        "id": "qLuCHvGV9yid",
        "outputId": "ae191df8-c110-44e5-f206-850ee4c70367"
      },
      "execution_count": 10,
      "outputs": [
        {
          "output_type": "execute_result",
          "data": {
            "text/plain": [
              "       satisfaction_level  last_evaluation  number_project  \\\n",
              "count        14999.000000     14999.000000    14999.000000   \n",
              "mean             0.612834         0.716102        3.803054   \n",
              "std              0.248631         0.171169        1.232592   \n",
              "min              0.090000         0.360000        2.000000   \n",
              "25%              0.440000         0.560000        3.000000   \n",
              "50%              0.640000         0.720000        4.000000   \n",
              "75%              0.820000         0.870000        5.000000   \n",
              "max              1.000000         1.000000        7.000000   \n",
              "\n",
              "       average_montly_hours  time_spend_company          left  \n",
              "count          14999.000000        14999.000000  14999.000000  \n",
              "mean             201.050337            3.498233      0.238083  \n",
              "std               49.943099            1.460136      0.425924  \n",
              "min               96.000000            2.000000      0.000000  \n",
              "25%              156.000000            3.000000      0.000000  \n",
              "50%              200.000000            3.000000      0.000000  \n",
              "75%              245.000000            4.000000      0.000000  \n",
              "max              310.000000           10.000000      1.000000  "
            ],
            "text/html": [
              "\n",
              "  <div id=\"df-4c83b49d-f69c-43e4-9eea-695e1e2e5935\">\n",
              "    <div class=\"colab-df-container\">\n",
              "      <div>\n",
              "<style scoped>\n",
              "    .dataframe tbody tr th:only-of-type {\n",
              "        vertical-align: middle;\n",
              "    }\n",
              "\n",
              "    .dataframe tbody tr th {\n",
              "        vertical-align: top;\n",
              "    }\n",
              "\n",
              "    .dataframe thead th {\n",
              "        text-align: right;\n",
              "    }\n",
              "</style>\n",
              "<table border=\"1\" class=\"dataframe\">\n",
              "  <thead>\n",
              "    <tr style=\"text-align: right;\">\n",
              "      <th></th>\n",
              "      <th>satisfaction_level</th>\n",
              "      <th>last_evaluation</th>\n",
              "      <th>number_project</th>\n",
              "      <th>average_montly_hours</th>\n",
              "      <th>time_spend_company</th>\n",
              "      <th>left</th>\n",
              "    </tr>\n",
              "  </thead>\n",
              "  <tbody>\n",
              "    <tr>\n",
              "      <th>count</th>\n",
              "      <td>14999.000000</td>\n",
              "      <td>14999.000000</td>\n",
              "      <td>14999.000000</td>\n",
              "      <td>14999.000000</td>\n",
              "      <td>14999.000000</td>\n",
              "      <td>14999.000000</td>\n",
              "    </tr>\n",
              "    <tr>\n",
              "      <th>mean</th>\n",
              "      <td>0.612834</td>\n",
              "      <td>0.716102</td>\n",
              "      <td>3.803054</td>\n",
              "      <td>201.050337</td>\n",
              "      <td>3.498233</td>\n",
              "      <td>0.238083</td>\n",
              "    </tr>\n",
              "    <tr>\n",
              "      <th>std</th>\n",
              "      <td>0.248631</td>\n",
              "      <td>0.171169</td>\n",
              "      <td>1.232592</td>\n",
              "      <td>49.943099</td>\n",
              "      <td>1.460136</td>\n",
              "      <td>0.425924</td>\n",
              "    </tr>\n",
              "    <tr>\n",
              "      <th>min</th>\n",
              "      <td>0.090000</td>\n",
              "      <td>0.360000</td>\n",
              "      <td>2.000000</td>\n",
              "      <td>96.000000</td>\n",
              "      <td>2.000000</td>\n",
              "      <td>0.000000</td>\n",
              "    </tr>\n",
              "    <tr>\n",
              "      <th>25%</th>\n",
              "      <td>0.440000</td>\n",
              "      <td>0.560000</td>\n",
              "      <td>3.000000</td>\n",
              "      <td>156.000000</td>\n",
              "      <td>3.000000</td>\n",
              "      <td>0.000000</td>\n",
              "    </tr>\n",
              "    <tr>\n",
              "      <th>50%</th>\n",
              "      <td>0.640000</td>\n",
              "      <td>0.720000</td>\n",
              "      <td>4.000000</td>\n",
              "      <td>200.000000</td>\n",
              "      <td>3.000000</td>\n",
              "      <td>0.000000</td>\n",
              "    </tr>\n",
              "    <tr>\n",
              "      <th>75%</th>\n",
              "      <td>0.820000</td>\n",
              "      <td>0.870000</td>\n",
              "      <td>5.000000</td>\n",
              "      <td>245.000000</td>\n",
              "      <td>4.000000</td>\n",
              "      <td>0.000000</td>\n",
              "    </tr>\n",
              "    <tr>\n",
              "      <th>max</th>\n",
              "      <td>1.000000</td>\n",
              "      <td>1.000000</td>\n",
              "      <td>7.000000</td>\n",
              "      <td>310.000000</td>\n",
              "      <td>10.000000</td>\n",
              "      <td>1.000000</td>\n",
              "    </tr>\n",
              "  </tbody>\n",
              "</table>\n",
              "</div>\n",
              "      <button class=\"colab-df-convert\" onclick=\"convertToInteractive('df-4c83b49d-f69c-43e4-9eea-695e1e2e5935')\"\n",
              "              title=\"Convert this dataframe to an interactive table.\"\n",
              "              style=\"display:none;\">\n",
              "        \n",
              "  <svg xmlns=\"http://www.w3.org/2000/svg\" height=\"24px\"viewBox=\"0 0 24 24\"\n",
              "       width=\"24px\">\n",
              "    <path d=\"M0 0h24v24H0V0z\" fill=\"none\"/>\n",
              "    <path d=\"M18.56 5.44l.94 2.06.94-2.06 2.06-.94-2.06-.94-.94-2.06-.94 2.06-2.06.94zm-11 1L8.5 8.5l.94-2.06 2.06-.94-2.06-.94L8.5 2.5l-.94 2.06-2.06.94zm10 10l.94 2.06.94-2.06 2.06-.94-2.06-.94-.94-2.06-.94 2.06-2.06.94z\"/><path d=\"M17.41 7.96l-1.37-1.37c-.4-.4-.92-.59-1.43-.59-.52 0-1.04.2-1.43.59L10.3 9.45l-7.72 7.72c-.78.78-.78 2.05 0 2.83L4 21.41c.39.39.9.59 1.41.59.51 0 1.02-.2 1.41-.59l7.78-7.78 2.81-2.81c.8-.78.8-2.07 0-2.86zM5.41 20L4 18.59l7.72-7.72 1.47 1.35L5.41 20z\"/>\n",
              "  </svg>\n",
              "      </button>\n",
              "      \n",
              "  <style>\n",
              "    .colab-df-container {\n",
              "      display:flex;\n",
              "      flex-wrap:wrap;\n",
              "      gap: 12px;\n",
              "    }\n",
              "\n",
              "    .colab-df-convert {\n",
              "      background-color: #E8F0FE;\n",
              "      border: none;\n",
              "      border-radius: 50%;\n",
              "      cursor: pointer;\n",
              "      display: none;\n",
              "      fill: #1967D2;\n",
              "      height: 32px;\n",
              "      padding: 0 0 0 0;\n",
              "      width: 32px;\n",
              "    }\n",
              "\n",
              "    .colab-df-convert:hover {\n",
              "      background-color: #E2EBFA;\n",
              "      box-shadow: 0px 1px 2px rgba(60, 64, 67, 0.3), 0px 1px 3px 1px rgba(60, 64, 67, 0.15);\n",
              "      fill: #174EA6;\n",
              "    }\n",
              "\n",
              "    [theme=dark] .colab-df-convert {\n",
              "      background-color: #3B4455;\n",
              "      fill: #D2E3FC;\n",
              "    }\n",
              "\n",
              "    [theme=dark] .colab-df-convert:hover {\n",
              "      background-color: #434B5C;\n",
              "      box-shadow: 0px 1px 3px 1px rgba(0, 0, 0, 0.15);\n",
              "      filter: drop-shadow(0px 1px 2px rgba(0, 0, 0, 0.3));\n",
              "      fill: #FFFFFF;\n",
              "    }\n",
              "  </style>\n",
              "\n",
              "      <script>\n",
              "        const buttonEl =\n",
              "          document.querySelector('#df-4c83b49d-f69c-43e4-9eea-695e1e2e5935 button.colab-df-convert');\n",
              "        buttonEl.style.display =\n",
              "          google.colab.kernel.accessAllowed ? 'block' : 'none';\n",
              "\n",
              "        async function convertToInteractive(key) {\n",
              "          const element = document.querySelector('#df-4c83b49d-f69c-43e4-9eea-695e1e2e5935');\n",
              "          const dataTable =\n",
              "            await google.colab.kernel.invokeFunction('convertToInteractive',\n",
              "                                                     [key], {});\n",
              "          if (!dataTable) return;\n",
              "\n",
              "          const docLinkHtml = 'Like what you see? Visit the ' +\n",
              "            '<a target=\"_blank\" href=https://colab.research.google.com/notebooks/data_table.ipynb>data table notebook</a>'\n",
              "            + ' to learn more about interactive tables.';\n",
              "          element.innerHTML = '';\n",
              "          dataTable['output_type'] = 'display_data';\n",
              "          await google.colab.output.renderOutput(dataTable, element);\n",
              "          const docLink = document.createElement('div');\n",
              "          docLink.innerHTML = docLinkHtml;\n",
              "          element.appendChild(docLink);\n",
              "        }\n",
              "      </script>\n",
              "    </div>\n",
              "  </div>\n",
              "  "
            ]
          },
          "metadata": {},
          "execution_count": 10
        }
      ]
    },
    {
      "cell_type": "code",
      "source": [
        "# We need to one-hot encode all the categorical variables. \n",
        "dataset=pd.get_dummies(dataset,drop_first=True)"
      ],
      "metadata": {
        "id": "2KkfYAeF-Elw"
      },
      "execution_count": 11,
      "outputs": []
    },
    {
      "cell_type": "code",
      "source": [
        "df=dataset.copy()"
      ],
      "metadata": {
        "id": "IipgGV1i-t51"
      },
      "execution_count": 12,
      "outputs": []
    },
    {
      "cell_type": "code",
      "source": [
        "df.head()"
      ],
      "metadata": {
        "colab": {
          "base_uri": "https://localhost:8080/",
          "height": 270
        },
        "id": "xdKpsgej_GJ5",
        "outputId": "c997ac0f-f073-4656-8821-1801528f64d1"
      },
      "execution_count": 13,
      "outputs": [
        {
          "output_type": "execute_result",
          "data": {
            "text/plain": [
              "   satisfaction_level  last_evaluation  number_project  average_montly_hours  \\\n",
              "0                0.38             0.53               2                   157   \n",
              "1                0.80             0.86               5                   262   \n",
              "2                0.11             0.88               7                   272   \n",
              "3                0.72             0.87               5                   223   \n",
              "4                0.37             0.52               2                   159   \n",
              "\n",
              "   time_spend_company  left  Work_accident_1  promotion_last_5years_1  \\\n",
              "0                   3     1                0                        0   \n",
              "1                   6     1                0                        0   \n",
              "2                   4     1                0                        0   \n",
              "3                   5     1                0                        0   \n",
              "4                   3     1                0                        0   \n",
              "\n",
              "   department_RandD  department_accounting  department_hr  \\\n",
              "0                 0                      0              0   \n",
              "1                 0                      0              0   \n",
              "2                 0                      0              0   \n",
              "3                 0                      0              0   \n",
              "4                 0                      0              0   \n",
              "\n",
              "   department_management  department_marketing  department_product_mng  \\\n",
              "0                      0                     0                       0   \n",
              "1                      0                     0                       0   \n",
              "2                      0                     0                       0   \n",
              "3                      0                     0                       0   \n",
              "4                      0                     0                       0   \n",
              "\n",
              "   department_sales  department_support  department_technical  salary_low  \\\n",
              "0                 1                   0                     0           1   \n",
              "1                 1                   0                     0           0   \n",
              "2                 1                   0                     0           0   \n",
              "3                 1                   0                     0           1   \n",
              "4                 1                   0                     0           1   \n",
              "\n",
              "   salary_medium  \n",
              "0              0  \n",
              "1              1  \n",
              "2              1  \n",
              "3              0  \n",
              "4              0  "
            ],
            "text/html": [
              "\n",
              "  <div id=\"df-91198e33-e529-47cc-82e3-954f948bb06c\">\n",
              "    <div class=\"colab-df-container\">\n",
              "      <div>\n",
              "<style scoped>\n",
              "    .dataframe tbody tr th:only-of-type {\n",
              "        vertical-align: middle;\n",
              "    }\n",
              "\n",
              "    .dataframe tbody tr th {\n",
              "        vertical-align: top;\n",
              "    }\n",
              "\n",
              "    .dataframe thead th {\n",
              "        text-align: right;\n",
              "    }\n",
              "</style>\n",
              "<table border=\"1\" class=\"dataframe\">\n",
              "  <thead>\n",
              "    <tr style=\"text-align: right;\">\n",
              "      <th></th>\n",
              "      <th>satisfaction_level</th>\n",
              "      <th>last_evaluation</th>\n",
              "      <th>number_project</th>\n",
              "      <th>average_montly_hours</th>\n",
              "      <th>time_spend_company</th>\n",
              "      <th>left</th>\n",
              "      <th>Work_accident_1</th>\n",
              "      <th>promotion_last_5years_1</th>\n",
              "      <th>department_RandD</th>\n",
              "      <th>department_accounting</th>\n",
              "      <th>department_hr</th>\n",
              "      <th>department_management</th>\n",
              "      <th>department_marketing</th>\n",
              "      <th>department_product_mng</th>\n",
              "      <th>department_sales</th>\n",
              "      <th>department_support</th>\n",
              "      <th>department_technical</th>\n",
              "      <th>salary_low</th>\n",
              "      <th>salary_medium</th>\n",
              "    </tr>\n",
              "  </thead>\n",
              "  <tbody>\n",
              "    <tr>\n",
              "      <th>0</th>\n",
              "      <td>0.38</td>\n",
              "      <td>0.53</td>\n",
              "      <td>2</td>\n",
              "      <td>157</td>\n",
              "      <td>3</td>\n",
              "      <td>1</td>\n",
              "      <td>0</td>\n",
              "      <td>0</td>\n",
              "      <td>0</td>\n",
              "      <td>0</td>\n",
              "      <td>0</td>\n",
              "      <td>0</td>\n",
              "      <td>0</td>\n",
              "      <td>0</td>\n",
              "      <td>1</td>\n",
              "      <td>0</td>\n",
              "      <td>0</td>\n",
              "      <td>1</td>\n",
              "      <td>0</td>\n",
              "    </tr>\n",
              "    <tr>\n",
              "      <th>1</th>\n",
              "      <td>0.80</td>\n",
              "      <td>0.86</td>\n",
              "      <td>5</td>\n",
              "      <td>262</td>\n",
              "      <td>6</td>\n",
              "      <td>1</td>\n",
              "      <td>0</td>\n",
              "      <td>0</td>\n",
              "      <td>0</td>\n",
              "      <td>0</td>\n",
              "      <td>0</td>\n",
              "      <td>0</td>\n",
              "      <td>0</td>\n",
              "      <td>0</td>\n",
              "      <td>1</td>\n",
              "      <td>0</td>\n",
              "      <td>0</td>\n",
              "      <td>0</td>\n",
              "      <td>1</td>\n",
              "    </tr>\n",
              "    <tr>\n",
              "      <th>2</th>\n",
              "      <td>0.11</td>\n",
              "      <td>0.88</td>\n",
              "      <td>7</td>\n",
              "      <td>272</td>\n",
              "      <td>4</td>\n",
              "      <td>1</td>\n",
              "      <td>0</td>\n",
              "      <td>0</td>\n",
              "      <td>0</td>\n",
              "      <td>0</td>\n",
              "      <td>0</td>\n",
              "      <td>0</td>\n",
              "      <td>0</td>\n",
              "      <td>0</td>\n",
              "      <td>1</td>\n",
              "      <td>0</td>\n",
              "      <td>0</td>\n",
              "      <td>0</td>\n",
              "      <td>1</td>\n",
              "    </tr>\n",
              "    <tr>\n",
              "      <th>3</th>\n",
              "      <td>0.72</td>\n",
              "      <td>0.87</td>\n",
              "      <td>5</td>\n",
              "      <td>223</td>\n",
              "      <td>5</td>\n",
              "      <td>1</td>\n",
              "      <td>0</td>\n",
              "      <td>0</td>\n",
              "      <td>0</td>\n",
              "      <td>0</td>\n",
              "      <td>0</td>\n",
              "      <td>0</td>\n",
              "      <td>0</td>\n",
              "      <td>0</td>\n",
              "      <td>1</td>\n",
              "      <td>0</td>\n",
              "      <td>0</td>\n",
              "      <td>1</td>\n",
              "      <td>0</td>\n",
              "    </tr>\n",
              "    <tr>\n",
              "      <th>4</th>\n",
              "      <td>0.37</td>\n",
              "      <td>0.52</td>\n",
              "      <td>2</td>\n",
              "      <td>159</td>\n",
              "      <td>3</td>\n",
              "      <td>1</td>\n",
              "      <td>0</td>\n",
              "      <td>0</td>\n",
              "      <td>0</td>\n",
              "      <td>0</td>\n",
              "      <td>0</td>\n",
              "      <td>0</td>\n",
              "      <td>0</td>\n",
              "      <td>0</td>\n",
              "      <td>1</td>\n",
              "      <td>0</td>\n",
              "      <td>0</td>\n",
              "      <td>1</td>\n",
              "      <td>0</td>\n",
              "    </tr>\n",
              "  </tbody>\n",
              "</table>\n",
              "</div>\n",
              "      <button class=\"colab-df-convert\" onclick=\"convertToInteractive('df-91198e33-e529-47cc-82e3-954f948bb06c')\"\n",
              "              title=\"Convert this dataframe to an interactive table.\"\n",
              "              style=\"display:none;\">\n",
              "        \n",
              "  <svg xmlns=\"http://www.w3.org/2000/svg\" height=\"24px\"viewBox=\"0 0 24 24\"\n",
              "       width=\"24px\">\n",
              "    <path d=\"M0 0h24v24H0V0z\" fill=\"none\"/>\n",
              "    <path d=\"M18.56 5.44l.94 2.06.94-2.06 2.06-.94-2.06-.94-.94-2.06-.94 2.06-2.06.94zm-11 1L8.5 8.5l.94-2.06 2.06-.94-2.06-.94L8.5 2.5l-.94 2.06-2.06.94zm10 10l.94 2.06.94-2.06 2.06-.94-2.06-.94-.94-2.06-.94 2.06-2.06.94z\"/><path d=\"M17.41 7.96l-1.37-1.37c-.4-.4-.92-.59-1.43-.59-.52 0-1.04.2-1.43.59L10.3 9.45l-7.72 7.72c-.78.78-.78 2.05 0 2.83L4 21.41c.39.39.9.59 1.41.59.51 0 1.02-.2 1.41-.59l7.78-7.78 2.81-2.81c.8-.78.8-2.07 0-2.86zM5.41 20L4 18.59l7.72-7.72 1.47 1.35L5.41 20z\"/>\n",
              "  </svg>\n",
              "      </button>\n",
              "      \n",
              "  <style>\n",
              "    .colab-df-container {\n",
              "      display:flex;\n",
              "      flex-wrap:wrap;\n",
              "      gap: 12px;\n",
              "    }\n",
              "\n",
              "    .colab-df-convert {\n",
              "      background-color: #E8F0FE;\n",
              "      border: none;\n",
              "      border-radius: 50%;\n",
              "      cursor: pointer;\n",
              "      display: none;\n",
              "      fill: #1967D2;\n",
              "      height: 32px;\n",
              "      padding: 0 0 0 0;\n",
              "      width: 32px;\n",
              "    }\n",
              "\n",
              "    .colab-df-convert:hover {\n",
              "      background-color: #E2EBFA;\n",
              "      box-shadow: 0px 1px 2px rgba(60, 64, 67, 0.3), 0px 1px 3px 1px rgba(60, 64, 67, 0.15);\n",
              "      fill: #174EA6;\n",
              "    }\n",
              "\n",
              "    [theme=dark] .colab-df-convert {\n",
              "      background-color: #3B4455;\n",
              "      fill: #D2E3FC;\n",
              "    }\n",
              "\n",
              "    [theme=dark] .colab-df-convert:hover {\n",
              "      background-color: #434B5C;\n",
              "      box-shadow: 0px 1px 3px 1px rgba(0, 0, 0, 0.15);\n",
              "      filter: drop-shadow(0px 1px 2px rgba(0, 0, 0, 0.3));\n",
              "      fill: #FFFFFF;\n",
              "    }\n",
              "  </style>\n",
              "\n",
              "      <script>\n",
              "        const buttonEl =\n",
              "          document.querySelector('#df-91198e33-e529-47cc-82e3-954f948bb06c button.colab-df-convert');\n",
              "        buttonEl.style.display =\n",
              "          google.colab.kernel.accessAllowed ? 'block' : 'none';\n",
              "\n",
              "        async function convertToInteractive(key) {\n",
              "          const element = document.querySelector('#df-91198e33-e529-47cc-82e3-954f948bb06c');\n",
              "          const dataTable =\n",
              "            await google.colab.kernel.invokeFunction('convertToInteractive',\n",
              "                                                     [key], {});\n",
              "          if (!dataTable) return;\n",
              "\n",
              "          const docLinkHtml = 'Like what you see? Visit the ' +\n",
              "            '<a target=\"_blank\" href=https://colab.research.google.com/notebooks/data_table.ipynb>data table notebook</a>'\n",
              "            + ' to learn more about interactive tables.';\n",
              "          element.innerHTML = '';\n",
              "          dataTable['output_type'] = 'display_data';\n",
              "          await google.colab.output.renderOutput(dataTable, element);\n",
              "          const docLink = document.createElement('div');\n",
              "          docLink.innerHTML = docLinkHtml;\n",
              "          element.appendChild(docLink);\n",
              "        }\n",
              "      </script>\n",
              "    </div>\n",
              "  </div>\n",
              "  "
            ]
          },
          "metadata": {},
          "execution_count": 13
        }
      ]
    },
    {
      "cell_type": "code",
      "source": [
        "df.columns"
      ],
      "metadata": {
        "colab": {
          "base_uri": "https://localhost:8080/"
        },
        "id": "Y35ZJCww_LUT",
        "outputId": "5d38bf93-846d-4d5c-f670-6426edf531ce"
      },
      "execution_count": 14,
      "outputs": [
        {
          "output_type": "execute_result",
          "data": {
            "text/plain": [
              "Index(['satisfaction_level', 'last_evaluation', 'number_project',\n",
              "       'average_montly_hours', 'time_spend_company', 'left', 'Work_accident_1',\n",
              "       'promotion_last_5years_1', 'department_RandD', 'department_accounting',\n",
              "       'department_hr', 'department_management', 'department_marketing',\n",
              "       'department_product_mng', 'department_sales', 'department_support',\n",
              "       'department_technical', 'salary_low', 'salary_medium'],\n",
              "      dtype='object')"
            ]
          },
          "metadata": {},
          "execution_count": 14
        }
      ]
    },
    {
      "cell_type": "code",
      "source": [
        "df.shape"
      ],
      "metadata": {
        "colab": {
          "base_uri": "https://localhost:8080/"
        },
        "id": "kEt7SgIK_TAQ",
        "outputId": "e6932c85-2017-42f7-8e8a-769e5c3706c9"
      },
      "execution_count": 15,
      "outputs": [
        {
          "output_type": "execute_result",
          "data": {
            "text/plain": [
              "(14999, 19)"
            ]
          },
          "metadata": {},
          "execution_count": 15
        }
      ]
    },
    {
      "cell_type": "markdown",
      "source": [],
      "metadata": {
        "id": "FkCtNaFw_qDC"
      }
    },
    {
      "cell_type": "markdown",
      "source": [
        "Train-Test split"
      ],
      "metadata": {
        "id": "sXKuig9A_uH9"
      }
    },
    {
      "cell_type": "markdown",
      "source": [
        "We are going to use sklearn train_test_split function which is really easy to work with. "
      ],
      "metadata": {
        "id": "BXBlFUAP_3yP"
      }
    },
    {
      "cell_type": "code",
      "source": [
        "from sklearn.model_selection import train_test_split"
      ],
      "metadata": {
        "id": "I7-Udb9K_488"
      },
      "execution_count": 16,
      "outputs": []
    },
    {
      "cell_type": "code",
      "source": [
        "X=df.drop('left',axis=1,inplace=False).values # tensorflow works with np.array instead of pandas series or dataframe. So we had to add the .value to the end. "
      ],
      "metadata": {
        "id": "T2T8WpH5A5Lk"
      },
      "execution_count": 17,
      "outputs": []
    },
    {
      "cell_type": "code",
      "source": [
        "X"
      ],
      "metadata": {
        "colab": {
          "base_uri": "https://localhost:8080/"
        },
        "id": "7ahgR7iwBsna",
        "outputId": "3b06a03f-f073-40bf-a28c-6b12da9b3655"
      },
      "execution_count": 18,
      "outputs": [
        {
          "output_type": "execute_result",
          "data": {
            "text/plain": [
              "array([[0.38, 0.53, 2.  , ..., 0.  , 1.  , 0.  ],\n",
              "       [0.8 , 0.86, 5.  , ..., 0.  , 0.  , 1.  ],\n",
              "       [0.11, 0.88, 7.  , ..., 0.  , 0.  , 1.  ],\n",
              "       ...,\n",
              "       [0.37, 0.53, 2.  , ..., 0.  , 1.  , 0.  ],\n",
              "       [0.11, 0.96, 6.  , ..., 0.  , 1.  , 0.  ],\n",
              "       [0.37, 0.52, 2.  , ..., 0.  , 1.  , 0.  ]])"
            ]
          },
          "metadata": {},
          "execution_count": 18
        }
      ]
    },
    {
      "cell_type": "code",
      "source": [
        "X.shape"
      ],
      "metadata": {
        "colab": {
          "base_uri": "https://localhost:8080/"
        },
        "id": "kr5nzWx5BvIb",
        "outputId": "be03f8dd-a18e-4300-a91d-78597f0a9fd9"
      },
      "execution_count": 19,
      "outputs": [
        {
          "output_type": "execute_result",
          "data": {
            "text/plain": [
              "(14999, 18)"
            ]
          },
          "metadata": {},
          "execution_count": 19
        }
      ]
    },
    {
      "cell_type": "code",
      "source": [
        "y=df['left'].values\n",
        "y"
      ],
      "metadata": {
        "colab": {
          "base_uri": "https://localhost:8080/"
        },
        "id": "jhNAJNAYCC39",
        "outputId": "8837cab7-dd6a-4bc8-95b8-e94f00e41af4"
      },
      "execution_count": 20,
      "outputs": [
        {
          "output_type": "execute_result",
          "data": {
            "text/plain": [
              "array([1, 1, 1, ..., 1, 1, 1])"
            ]
          },
          "metadata": {},
          "execution_count": 20
        }
      ]
    },
    {
      "cell_type": "code",
      "source": [
        "X_train,X_test,y_train,y_test=train_test_split(X,y,test_size=0.2,random_state=500)"
      ],
      "metadata": {
        "id": "0PM5GblSCTa8"
      },
      "execution_count": 21,
      "outputs": []
    },
    {
      "cell_type": "code",
      "source": [
        "X_train.shape"
      ],
      "metadata": {
        "colab": {
          "base_uri": "https://localhost:8080/"
        },
        "id": "whgG4mo5DE_i",
        "outputId": "c85f2f2c-45e6-4c33-c4cf-a00e7df4ab29"
      },
      "execution_count": 22,
      "outputs": [
        {
          "output_type": "execute_result",
          "data": {
            "text/plain": [
              "(11999, 18)"
            ]
          },
          "metadata": {},
          "execution_count": 22
        }
      ]
    },
    {
      "cell_type": "code",
      "source": [
        "y_test.shape"
      ],
      "metadata": {
        "colab": {
          "base_uri": "https://localhost:8080/"
        },
        "id": "_QvojeBPDMZj",
        "outputId": "7dd9671f-400a-46b9-ef50-0a2ecb6d9634"
      },
      "execution_count": 23,
      "outputs": [
        {
          "output_type": "execute_result",
          "data": {
            "text/plain": [
              "(3000,)"
            ]
          },
          "metadata": {},
          "execution_count": 23
        }
      ]
    },
    {
      "cell_type": "markdown",
      "source": [
        "Scaling features\n",
        "\n",
        "To avoid gradient vanishing or exploding, we should normalize the features:\n",
        "\n",
        "It depends on the problem and the data. Both MinMaxScaler and StandardScaler are techniques used to normalize data in a preprocessing step, but they have different objectives. MinMaxScaler scales the data between a specified minimum and maximum value (usually 0 and 1). It is often used for problems that have a defined range for the input features, such as image data. StandardScaler, on the other hand, scales the data to have a mean of 0 and a standard deviation of 1. This makes it useful for Gaussian-distributed data, where the mean and standard deviation are meaningful statistics. In deep learning, the choice of normalization technique often depends on the distribution of the input data. If the data is Gaussian-distributed, StandardScaler may be a better choice. If the data has a well-defined range, MinMaxScaler may be more appropriate. Ultimately, it is important to experiment with different normalization techniques and see which one works best for a specific problem.\n"
      ],
      "metadata": {
        "id": "eajW-OkFDmt6"
      }
    },
    {
      "cell_type": "code",
      "source": [
        "from sklearn.preprocessing import MinMaxScaler, StandardScaler"
      ],
      "metadata": {
        "id": "h_17aCnjDntx"
      },
      "execution_count": 24,
      "outputs": []
    },
    {
      "cell_type": "code",
      "source": [
        "scaler=StandardScaler()"
      ],
      "metadata": {
        "id": "WKdsYhC3EneD"
      },
      "execution_count": 25,
      "outputs": []
    },
    {
      "cell_type": "code",
      "source": [
        "# remember we scale the features using the train set to avoid data leakage to the test set. \n",
        "X_train=scaler.fit_transform(X_train)\n",
        "X_test=scaler.transform(X_test)"
      ],
      "metadata": {
        "id": "JAa4jIY6EzNf"
      },
      "execution_count": 26,
      "outputs": []
    },
    {
      "cell_type": "code",
      "source": [
        "X_train"
      ],
      "metadata": {
        "colab": {
          "base_uri": "https://localhost:8080/"
        },
        "id": "404eK8fLFia5",
        "outputId": "c6b56aca-99d3-4f6d-83d8-977150d46e5f"
      },
      "execution_count": 27,
      "outputs": [
        {
          "output_type": "execute_result",
          "data": {
            "text/plain": [
              "array([[ 0.42457559, -0.79730715,  0.16300478, ..., -0.47277248,\n",
              "         1.01672455, -0.86434249],\n",
              "       [-2.06204425,  0.60345986,  1.78817666, ..., -0.47277248,\n",
              "         1.01672455, -0.86434249],\n",
              "       [-0.13691922,  0.72019044,  0.16300478, ..., -0.47277248,\n",
              "         1.01672455, -0.86434249],\n",
              "       ...,\n",
              "       [ 0.90585684, -1.38096007, -0.64958116, ..., -0.47277248,\n",
              "        -0.98355056,  1.15694879],\n",
              "       [-2.06204425,  0.72019044,  1.78817666, ..., -0.47277248,\n",
              "         1.01672455, -0.86434249],\n",
              "       [-1.01926819, -1.1474989 , -1.4621671 , ...,  2.11518234,\n",
              "         1.01672455, -0.86434249]])"
            ]
          },
          "metadata": {},
          "execution_count": 27
        }
      ]
    },
    {
      "cell_type": "markdown",
      "source": [
        "Tensorflow imports"
      ],
      "metadata": {
        "id": "Va4Cd58kFyUm"
      }
    },
    {
      "cell_type": "code",
      "source": [
        "import tensorflow as tf\n",
        "from tensorflow import keras"
      ],
      "metadata": {
        "id": "Y2gY-T_9FzOH"
      },
      "execution_count": 28,
      "outputs": []
    },
    {
      "cell_type": "code",
      "source": [
        "# help(keras.Sequential)"
      ],
      "metadata": {
        "id": "plh6665YGJDD"
      },
      "execution_count": 29,
      "outputs": []
    },
    {
      "cell_type": "markdown",
      "source": [
        "# Creating a NN model:\n",
        "\n",
        "There are 3 ways of creating a model with Keras:\n",
        "1. Sequential class (easiest and least flexible)\n",
        "2. Functional API (LEGO style and more flexible)\n",
        "3. Subclassing API (Fully customized and most advance)\n",
        "\n",
        "In this course we will start with the Sequential class and for more advanced topics we will go over the functional api version. We will NOT cover the Subclassing API which is beyond the scope of this course."
      ],
      "metadata": {
        "id": "0T7glw0OJX5E"
      }
    },
    {
      "cell_type": "markdown",
      "source": [
        "1. Sequential class\n",
        "\n",
        "We can do either create a model as a list of layers or as adding layers one by one. The second approach is more preferred as it is a little more flexible.\n"
      ],
      "metadata": {
        "id": "YMxOBU8bJexq"
      }
    },
    {
      "cell_type": "code",
      "source": [
        "from tensorflow.keras import layers\n",
        "from tensorflow import keras"
      ],
      "metadata": {
        "id": "Xlk4wcpfJf83"
      },
      "execution_count": 30,
      "outputs": []
    },
    {
      "cell_type": "code",
      "source": [
        "X_train.shape"
      ],
      "metadata": {
        "colab": {
          "base_uri": "https://localhost:8080/"
        },
        "id": "cPnJDAMoKYSh",
        "outputId": "ef5a247b-4746-4ab3-a8b3-2dcf139592eb"
      },
      "execution_count": 31,
      "outputs": [
        {
          "output_type": "execute_result",
          "data": {
            "text/plain": [
              "(11999, 18)"
            ]
          },
          "metadata": {},
          "execution_count": 31
        }
      ]
    },
    {
      "cell_type": "code",
      "source": [
        "# List of layers\n",
        "model_ll=keras.Sequential([\n",
        "    layers.Dense(units=20,activation='relu'),\n",
        "    layers.Dense(units=8,activation='relu'),\n",
        "    # output layer \n",
        "    layers.Dense(units=1,activation='sigmoid')\n",
        "]\n",
        "    \n",
        ")"
      ],
      "metadata": {
        "id": "5VDxH5kuKhC1"
      },
      "execution_count": 32,
      "outputs": []
    },
    {
      "cell_type": "code",
      "source": [
        "model_ll.build(input_shape=(None,X_train.shape[1])) # This is the shape of data"
      ],
      "metadata": {
        "id": "hXpGvAI5MbRq"
      },
      "execution_count": 33,
      "outputs": []
    },
    {
      "cell_type": "code",
      "source": [
        "model_ll.summary()"
      ],
      "metadata": {
        "colab": {
          "base_uri": "https://localhost:8080/"
        },
        "id": "nQ9yQ8wQNl2i",
        "outputId": "7ef1daf9-9a32-4463-8c47-52f1398de88d"
      },
      "execution_count": 34,
      "outputs": [
        {
          "output_type": "stream",
          "name": "stdout",
          "text": [
            "Model: \"sequential\"\n",
            "_________________________________________________________________\n",
            " Layer (type)                Output Shape              Param #   \n",
            "=================================================================\n",
            " dense (Dense)               (None, 20)                380       \n",
            "                                                                 \n",
            " dense_1 (Dense)             (None, 8)                 168       \n",
            "                                                                 \n",
            " dense_2 (Dense)             (None, 1)                 9         \n",
            "                                                                 \n",
            "=================================================================\n",
            "Total params: 557\n",
            "Trainable params: 557\n",
            "Non-trainable params: 0\n",
            "_________________________________________________________________\n"
          ]
        }
      ]
    },
    {
      "cell_type": "code",
      "source": [
        "18*20+20"
      ],
      "metadata": {
        "colab": {
          "base_uri": "https://localhost:8080/"
        },
        "id": "IXZI7POfODbX",
        "outputId": "ad1503a3-fb4c-45df-af15-2c1f8b4af30b"
      },
      "execution_count": 35,
      "outputs": [
        {
          "output_type": "execute_result",
          "data": {
            "text/plain": [
              "380"
            ]
          },
          "metadata": {},
          "execution_count": 35
        }
      ]
    },
    {
      "cell_type": "code",
      "source": [
        "20 * 8 + 8 "
      ],
      "metadata": {
        "colab": {
          "base_uri": "https://localhost:8080/"
        },
        "id": "1szrV2JoO49V",
        "outputId": "e2ff71d0-6a88-4da2-c5dc-cb791ec848d8"
      },
      "execution_count": 36,
      "outputs": [
        {
          "output_type": "execute_result",
          "data": {
            "text/plain": [
              "168"
            ]
          },
          "metadata": {},
          "execution_count": 36
        }
      ]
    },
    {
      "cell_type": "code",
      "source": [
        "8 *1 + 1 "
      ],
      "metadata": {
        "colab": {
          "base_uri": "https://localhost:8080/"
        },
        "id": "UPLaQzzWPQqZ",
        "outputId": "61410dc4-5939-480c-ffdc-63d62ad7d654"
      },
      "execution_count": 37,
      "outputs": [
        {
          "output_type": "execute_result",
          "data": {
            "text/plain": [
              "9"
            ]
          },
          "metadata": {},
          "execution_count": 37
        }
      ]
    },
    {
      "cell_type": "markdown",
      "source": [
        "Now let's add layers one by one and built the model on the fly. We also rename the layers and the model itself."
      ],
      "metadata": {
        "id": "G9mo-9GnPb5e"
      }
    },
    {
      "cell_type": "code",
      "source": [
        "# adding layers one by one\n",
        "model=keras.Sequential(name='my_classification_model')\n",
        "model.add(layers.Input(shape=(X_train.shape[1],)))# this is the shape of each sample!\n",
        "model.add(layers.Dense(units=20,activation='relu',name='first_layer'))\n",
        "model.add(layers.Dense(units = 8, activation = 'relu', name=\"second_layer\"))\n",
        "#output layer\n",
        "model.add(layers.Dense(units = 1, activation = 'sigmoid', name=\"output_layer\"))\n"
      ],
      "metadata": {
        "id": "RjXMmjoyPc5t"
      },
      "execution_count": 38,
      "outputs": []
    },
    {
      "cell_type": "code",
      "source": [
        "model.summary()"
      ],
      "metadata": {
        "colab": {
          "base_uri": "https://localhost:8080/"
        },
        "id": "8SZ3HJkiRde9",
        "outputId": "85e913b8-8893-4f1c-adb3-91321b8ff51f"
      },
      "execution_count": 39,
      "outputs": [
        {
          "output_type": "stream",
          "name": "stdout",
          "text": [
            "Model: \"my_classification_model\"\n",
            "_________________________________________________________________\n",
            " Layer (type)                Output Shape              Param #   \n",
            "=================================================================\n",
            " first_layer (Dense)         (None, 20)                380       \n",
            "                                                                 \n",
            " second_layer (Dense)        (None, 8)                 168       \n",
            "                                                                 \n",
            " output_layer (Dense)        (None, 1)                 9         \n",
            "                                                                 \n",
            "=================================================================\n",
            "Total params: 557\n",
            "Trainable params: 557\n",
            "Non-trainable params: 0\n",
            "_________________________________________________________________\n"
          ]
        }
      ]
    },
    {
      "cell_type": "code",
      "source": [
        "model.weights"
      ],
      "metadata": {
        "colab": {
          "base_uri": "https://localhost:8080/"
        },
        "id": "1w_uT59cR0AQ",
        "outputId": "6b20a87d-8a91-48ea-95dc-ab31db98808f"
      },
      "execution_count": 40,
      "outputs": [
        {
          "output_type": "execute_result",
          "data": {
            "text/plain": [
              "[<tf.Variable 'first_layer/kernel:0' shape=(18, 20) dtype=float32, numpy=\n",
              " array([[-0.2959996 ,  0.33196732, -0.39528334, -0.09980139, -0.09342381,\n",
              "         -0.07529327, -0.24096139, -0.03109923,  0.08382469,  0.07908145,\n",
              "          0.32004264,  0.04434097,  0.11638233, -0.02319583, -0.12626824,\n",
              "          0.22462222,  0.2402592 ,  0.26043972, -0.31626177, -0.27073044],\n",
              "        [-0.38364336, -0.2796191 , -0.1519892 , -0.07929567, -0.29339352,\n",
              "          0.29318747, -0.24126418,  0.34211108,  0.31768814, -0.26975322,\n",
              "          0.26745042, -0.31992906, -0.09360856,  0.09122524,  0.38359562,\n",
              "          0.19414786, -0.16873072, -0.19118598,  0.09281448, -0.20534286],\n",
              "        [-0.33158344, -0.13323355,  0.24576917, -0.10995692, -0.31773275,\n",
              "          0.38301143,  0.13347748, -0.078823  , -0.28243235,  0.17677274,\n",
              "          0.0534341 , -0.37234643,  0.15713993, -0.16611302,  0.38704064,\n",
              "          0.09386995,  0.15099779,  0.3927361 , -0.13692927, -0.25553378],\n",
              "        [-0.04686734, -0.37734857,  0.16339299,  0.322688  ,  0.37304035,\n",
              "          0.14105758,  0.07512575, -0.32453588,  0.24830672,  0.3151693 ,\n",
              "          0.03255489,  0.05845398,  0.32303247,  0.3081574 ,  0.3830804 ,\n",
              "         -0.21105395,  0.11460552,  0.05946606, -0.3439165 ,  0.30592754],\n",
              "        [ 0.24651244, -0.12689918,  0.24120393,  0.11486962, -0.04497609,\n",
              "         -0.29413372, -0.33221534, -0.38791555,  0.37480667, -0.24326731,\n",
              "          0.37148556, -0.33484572,  0.21650311, -0.27231708, -0.38761523,\n",
              "         -0.395401  , -0.3736361 , -0.17441605, -0.23285978, -0.10529476],\n",
              "        [-0.01700452,  0.26589158, -0.05056846,  0.38560715, -0.03393626,\n",
              "          0.11628577, -0.12750798,  0.03423667, -0.03811601,  0.13163903,\n",
              "         -0.16170259, -0.29694593, -0.02826071, -0.33571523,  0.24590167,\n",
              "         -0.34527543, -0.17160565,  0.12259081,  0.3907201 , -0.3199892 ],\n",
              "        [-0.2035778 , -0.00998092,  0.24789098, -0.21407628,  0.27500328,\n",
              "         -0.10435998, -0.26944852,  0.3928205 , -0.11811224,  0.08208966,\n",
              "          0.24322703,  0.2446883 , -0.31940448,  0.3130792 ,  0.15790454,\n",
              "          0.00467286, -0.3109284 , -0.20316778,  0.13042578, -0.34360927],\n",
              "        [ 0.39335093,  0.06515458, -0.36307034,  0.09808493,  0.00563538,\n",
              "          0.05278248,  0.30895242, -0.30889398,  0.21069232, -0.16098534,\n",
              "         -0.01968625,  0.23710933, -0.11937463,  0.30740878,  0.35334966,\n",
              "          0.3109102 , -0.3224002 , -0.38004208,  0.3119658 , -0.3607931 ],\n",
              "        [-0.38409808, -0.26813906,  0.20647827, -0.30585498,  0.34460685,\n",
              "         -0.18353656,  0.02531475, -0.06683013,  0.14660665, -0.28014946,\n",
              "         -0.25538504, -0.04275742, -0.25890088,  0.27953473, -0.06674108,\n",
              "         -0.06314975, -0.15173274,  0.3804904 ,  0.09160012, -0.13545886],\n",
              "        [ 0.23575422, -0.1561842 ,  0.03345755, -0.14428759,  0.1814057 ,\n",
              "          0.25613716,  0.20783672,  0.288232  ,  0.21530756, -0.01891035,\n",
              "          0.26592842, -0.34151292, -0.1684162 ,  0.1386461 , -0.16450825,\n",
              "         -0.15009312, -0.17500834,  0.34686437,  0.18690243, -0.17166126],\n",
              "        [-0.3561901 ,  0.07521302, -0.3705927 ,  0.34853426, -0.21579292,\n",
              "          0.0433121 ,  0.06050381,  0.32974294,  0.20425937,  0.25902405,\n",
              "         -0.03867334,  0.3493497 ,  0.13625011, -0.19727659,  0.17629829,\n",
              "         -0.32189515,  0.1689004 ,  0.31691906,  0.30820337, -0.3935877 ],\n",
              "        [ 0.0505659 ,  0.28717795, -0.31799746,  0.373899  , -0.25473392,\n",
              "         -0.22448419, -0.18561606,  0.14895001, -0.36379385,  0.29426673,\n",
              "          0.01666147,  0.05728784, -0.10225511,  0.10152599, -0.3674156 ,\n",
              "         -0.29951057,  0.01271242, -0.05499631, -0.39161432, -0.20411174],\n",
              "        [ 0.268212  , -0.02694026, -0.39390782, -0.3255044 , -0.17671098,\n",
              "         -0.19118911, -0.18918702, -0.11225867,  0.27869806, -0.2928468 ,\n",
              "         -0.16892153, -0.16409189, -0.3442713 , -0.09021971,  0.07709301,\n",
              "          0.17013362,  0.02475217, -0.12073126, -0.05691287,  0.20763323],\n",
              "        [ 0.17994276,  0.03623819, -0.07216188, -0.21968135, -0.22823335,\n",
              "         -0.10529563,  0.39276764,  0.24099264,  0.31128082, -0.2385432 ,\n",
              "          0.08429167,  0.17139372,  0.12475553, -0.18993099, -0.07410696,\n",
              "          0.30938187,  0.00571781, -0.2706172 ,  0.09799248,  0.31069043],\n",
              "        [ 0.156643  ,  0.09734854, -0.31718686,  0.15995798,  0.38474688,\n",
              "         -0.06018984,  0.3400961 ,  0.2610351 ,  0.04907206,  0.3107758 ,\n",
              "         -0.08665034,  0.08794361, -0.05224296,  0.34947327,  0.07680187,\n",
              "         -0.1952995 ,  0.166634  , -0.07067442,  0.19424716, -0.06825566],\n",
              "        [ 0.00310323, -0.18854517, -0.15935726, -0.10132903, -0.3738412 ,\n",
              "          0.3190767 , -0.07830232,  0.11535737,  0.15268156, -0.3372622 ,\n",
              "         -0.27511925,  0.3365585 ,  0.0171037 , -0.14484787,  0.03798547,\n",
              "          0.34400472, -0.28200698,  0.13909945,  0.28815404,  0.0843989 ],\n",
              "        [-0.22221749, -0.02384156,  0.32286867, -0.10626441,  0.17300954,\n",
              "         -0.23901178,  0.38101724,  0.13736847,  0.08475056, -0.33328304,\n",
              "          0.19463077,  0.24634829, -0.10007489,  0.35343352,  0.01379707,\n",
              "          0.37853435,  0.21862856, -0.25306386,  0.216741  , -0.18959174],\n",
              "        [-0.3587461 , -0.2178892 , -0.18697697,  0.39012894, -0.22587664,\n",
              "         -0.20136814, -0.31635487,  0.3523207 , -0.23255737,  0.34927848,\n",
              "          0.00243807,  0.19979861, -0.37873545,  0.0310244 ,  0.17549947,\n",
              "          0.17839685, -0.07192183, -0.21943039, -0.02391982, -0.01086217]],\n",
              "       dtype=float32)>,\n",
              " <tf.Variable 'first_layer/bias:0' shape=(20,) dtype=float32, numpy=\n",
              " array([0., 0., 0., 0., 0., 0., 0., 0., 0., 0., 0., 0., 0., 0., 0., 0., 0.,\n",
              "        0., 0., 0.], dtype=float32)>,\n",
              " <tf.Variable 'second_layer/kernel:0' shape=(20, 8) dtype=float32, numpy=\n",
              " array([[-0.10374549, -0.42893255,  0.20067394,  0.15063417, -0.42241433,\n",
              "          0.13010395,  0.30821353, -0.01559973],\n",
              "        [-0.2832866 ,  0.1714738 ,  0.26431984,  0.11378807,  0.0990411 ,\n",
              "         -0.02846062, -0.3977787 ,  0.08891988],\n",
              "        [ 0.02718258, -0.36475584,  0.08055091, -0.09620315,  0.01739517,\n",
              "          0.4455458 , -0.32772917, -0.2425815 ],\n",
              "        [-0.38685217,  0.4295537 , -0.39990014,  0.06582052, -0.07950714,\n",
              "          0.13363236, -0.14759645, -0.4021611 ],\n",
              "        [-0.3513183 , -0.25843927, -0.05360869, -0.43804464,  0.42830867,\n",
              "          0.03400806,  0.33161616,  0.10642785],\n",
              "        [ 0.2510326 ,  0.30473948, -0.2507134 , -0.05782977, -0.17702687,\n",
              "         -0.35842612,  0.14766026,  0.00047591],\n",
              "        [ 0.41860205, -0.02625957, -0.2475141 ,  0.2066108 ,  0.31545842,\n",
              "          0.08893013,  0.20773971,  0.2519247 ],\n",
              "        [ 0.08545405, -0.2763918 , -0.12878165,  0.33519036,  0.06290245,\n",
              "         -0.0078305 , -0.42033878, -0.22685517],\n",
              "        [ 0.22851586, -0.0530487 ,  0.15967041,  0.00244296, -0.13111094,\n",
              "         -0.06852007,  0.18621099, -0.00698179],\n",
              "        [ 0.12856424,  0.05308425,  0.10266578, -0.20831385,  0.10524082,\n",
              "         -0.36965072, -0.26450688,  0.44714016],\n",
              "        [ 0.45341015, -0.16733605,  0.09941131, -0.05573213, -0.25633383,\n",
              "         -0.42314   ,  0.06028187, -0.3748346 ],\n",
              "        [-0.3372818 ,  0.39295733,  0.28732306,  0.07767344, -0.29553926,\n",
              "         -0.25422615,  0.09019876,  0.2062096 ],\n",
              "        [ 0.3421527 , -0.39469814,  0.4585358 ,  0.01194993, -0.24875572,\n",
              "         -0.13970956, -0.19082189, -0.13632926],\n",
              "        [ 0.13412881,  0.08838779,  0.41434973,  0.23242843, -0.31560287,\n",
              "         -0.13032323, -0.08695665,  0.19831568],\n",
              "        [-0.36916268, -0.0433923 ,  0.06013286,  0.07119435, -0.36834672,\n",
              "         -0.32590878, -0.39915946,  0.19789207],\n",
              "        [-0.3138104 , -0.08379665, -0.0387004 ,  0.290322  , -0.1032795 ,\n",
              "         -0.15069589,  0.16727233, -0.14903641],\n",
              "        [-0.35975537, -0.4423678 ,  0.01428428, -0.29903048,  0.255863  ,\n",
              "         -0.2026023 , -0.13337433, -0.11836085],\n",
              "        [ 0.11990386, -0.13655707,  0.3497917 ,  0.0302321 , -0.14980379,\n",
              "         -0.45462838,  0.32638258, -0.3153689 ],\n",
              "        [ 0.42516828,  0.3109944 ,  0.39352292,  0.25406379,  0.28694558,\n",
              "          0.3653803 ,  0.32878184, -0.39418724],\n",
              "        [-0.31687206, -0.2050395 ,  0.28780288,  0.38844204, -0.32336086,\n",
              "          0.37043488,  0.29604352,  0.29641843]], dtype=float32)>,\n",
              " <tf.Variable 'second_layer/bias:0' shape=(8,) dtype=float32, numpy=array([0., 0., 0., 0., 0., 0., 0., 0.], dtype=float32)>,\n",
              " <tf.Variable 'output_layer/kernel:0' shape=(8, 1) dtype=float32, numpy=\n",
              " array([[ 0.76537013],\n",
              "        [ 0.72736394],\n",
              "        [-0.6736954 ],\n",
              "        [ 0.14754295],\n",
              "        [-0.52136385],\n",
              "        [ 0.7489245 ],\n",
              "        [-0.56523454],\n",
              "        [-0.4843627 ]], dtype=float32)>,\n",
              " <tf.Variable 'output_layer/bias:0' shape=(1,) dtype=float32, numpy=array([0.], dtype=float32)>]"
            ]
          },
          "metadata": {},
          "execution_count": 40
        }
      ]
    },
    {
      "cell_type": "markdown",
      "source": [
        "The sequential model is easy to use, but its applicability is extremely limited. It can only express models with a single input and a single output. In practice, we will deal with models with multiple input (image with its meta data) and multiple output. This is like LEGO"
      ],
      "metadata": {
        "id": "kDbLsZ6ch8oh"
      }
    },
    {
      "cell_type": "code",
      "source": [
        "inputs =keras.Input(shape=(X_train.shape[1]),name='my_input')\n",
        "features=layers.Dense(20,activation='relu',name='first_layer')(inputs)\n",
        "features=layers.Dense(8,activation='relu',name='second_layer')(features)\n",
        "outputs=layers.Dense(1,activation='sigmoid',name='output_layer')(features)\n",
        "model_functional=keras.Model(inputs=inputs,outputs=outputs)"
      ],
      "metadata": {
        "id": "glg6tYGRh9ir"
      },
      "execution_count": 41,
      "outputs": []
    },
    {
      "cell_type": "code",
      "source": [
        "model_functional.summary()"
      ],
      "metadata": {
        "colab": {
          "base_uri": "https://localhost:8080/"
        },
        "id": "xiQN6Gayk7-2",
        "outputId": "ebc3daf2-d570-454b-e14f-7dcb01764aeb"
      },
      "execution_count": 42,
      "outputs": [
        {
          "output_type": "stream",
          "name": "stdout",
          "text": [
            "Model: \"model\"\n",
            "_________________________________________________________________\n",
            " Layer (type)                Output Shape              Param #   \n",
            "=================================================================\n",
            " my_input (InputLayer)       [(None, 18)]              0         \n",
            "                                                                 \n",
            " first_layer (Dense)         (None, 20)                380       \n",
            "                                                                 \n",
            " second_layer (Dense)        (None, 8)                 168       \n",
            "                                                                 \n",
            " output_layer (Dense)        (None, 1)                 9         \n",
            "                                                                 \n",
            "=================================================================\n",
            "Total params: 557\n",
            "Trainable params: 557\n",
            "Non-trainable params: 0\n",
            "_________________________________________________________________\n"
          ]
        }
      ]
    },
    {
      "cell_type": "code",
      "source": [
        "keras.utils.plot_model(model_functional, \"ticket_classifier.png\" , \n",
        "                       show_dtype=True, show_layer_activations=True, show_layer_names=True, show_shapes=True)"
      ],
      "metadata": {
        "colab": {
          "base_uri": "https://localhost:8080/",
          "height": 545
        },
        "id": "oMCASeKCmiPw",
        "outputId": "766753ef-71a1-4e0a-fd64-519cec6c3faf"
      },
      "execution_count": 43,
      "outputs": [
        {
          "output_type": "execute_result",
          "data": {
            "image/png": "[encoded data removed]",
            "text/plain": [
              "<IPython.core.display.Image object>"
            ]
          },
          "metadata": {},
          "execution_count": 43
        }
      ]
    },
    {
      "cell_type": "markdown",
      "source": [],
      "metadata": {
        "id": "TnRXmBFDsRkf"
      }
    },
    {
      "cell_type": "markdown",
      "metadata": {
        "id": "_-CQB0O5pE_U"
      },
      "source": [
        "One of the power of functional api is access to the inputs and outputs of different layers. For example, let's add another output layer without re-creating the entire model"
      ]
    },
    {
      "cell_type": "code",
      "source": [
        "model_functional.layers"
      ],
      "metadata": {
        "colab": {
          "base_uri": "https://localhost:8080/"
        },
        "id": "kbJpGCzRsSne",
        "outputId": "0246b715-3a43-45dd-8a92-79939dffb2eb"
      },
      "execution_count": 44,
      "outputs": [
        {
          "output_type": "execute_result",
          "data": {
            "text/plain": [
              "[<keras.engine.input_layer.InputLayer at 0x7fadfc48df70>,\n",
              " <keras.layers.core.dense.Dense at 0x7fadfc48df40>,\n",
              " <keras.layers.core.dense.Dense at 0x7fadfc46dc70>,\n",
              " <keras.layers.core.dense.Dense at 0x7fadfc4a4ac0>]"
            ]
          },
          "metadata": {},
          "execution_count": 44
        }
      ]
    },
    {
      "cell_type": "code",
      "source": [
        "features=model_functional.layers[2].output\n",
        "new_output=layers.Dense(3,activation='softmax',name='new_output_layer')(features)\n",
        "new_model_functional=keras.Model(inputs=inputs,outputs=[outputs,new_output])"
      ],
      "metadata": {
        "id": "_LpNFNR_sXrS"
      },
      "execution_count": 45,
      "outputs": []
    },
    {
      "cell_type": "code",
      "source": [
        "new_model_functional.summary()"
      ],
      "metadata": {
        "colab": {
          "base_uri": "https://localhost:8080/"
        },
        "id": "Y3Gc9sNDt97O",
        "outputId": "1876ca1e-3fc5-4b9a-f632-9051da533745"
      },
      "execution_count": 46,
      "outputs": [
        {
          "output_type": "stream",
          "name": "stdout",
          "text": [
            "Model: \"model_1\"\n",
            "__________________________________________________________________________________________________\n",
            " Layer (type)                   Output Shape         Param #     Connected to                     \n",
            "==================================================================================================\n",
            " my_input (InputLayer)          [(None, 18)]         0           []                               \n",
            "                                                                                                  \n",
            " first_layer (Dense)            (None, 20)           380         ['my_input[0][0]']               \n",
            "                                                                                                  \n",
            " second_layer (Dense)           (None, 8)            168         ['first_layer[0][0]']            \n",
            "                                                                                                  \n",
            " output_layer (Dense)           (None, 1)            9           ['second_layer[0][0]']           \n",
            "                                                                                                  \n",
            " new_output_layer (Dense)       (None, 3)            27          ['second_layer[0][0]']           \n",
            "                                                                                                  \n",
            "==================================================================================================\n",
            "Total params: 584\n",
            "Trainable params: 584\n",
            "Non-trainable params: 0\n",
            "__________________________________________________________________________________________________\n"
          ]
        }
      ]
    },
    {
      "cell_type": "code",
      "source": [
        "8*3+3"
      ],
      "metadata": {
        "colab": {
          "base_uri": "https://localhost:8080/"
        },
        "id": "3ZPQi7rjuD9x",
        "outputId": "b93793b4-88f9-435c-8956-40efc6465172"
      },
      "execution_count": 47,
      "outputs": [
        {
          "output_type": "execute_result",
          "data": {
            "text/plain": [
              "27"
            ]
          },
          "metadata": {},
          "execution_count": 47
        }
      ]
    },
    {
      "cell_type": "markdown",
      "source": [
        "For the rest of this notebook, we will work with the \"model\" model. The sequential one with adding one layer at a time."
      ],
      "metadata": {
        "id": "YRdKBTCqxF4i"
      }
    },
    {
      "cell_type": "code",
      "source": [
        "model.summary()"
      ],
      "metadata": {
        "colab": {
          "base_uri": "https://localhost:8080/"
        },
        "id": "oQMcQX_fxHBb",
        "outputId": "d9dd7a89-e44c-4b9c-ef77-ef7c415fa3e7"
      },
      "execution_count": 48,
      "outputs": [
        {
          "output_type": "stream",
          "name": "stdout",
          "text": [
            "Model: \"my_classification_model\"\n",
            "_________________________________________________________________\n",
            " Layer (type)                Output Shape              Param #   \n",
            "=================================================================\n",
            " first_layer (Dense)         (None, 20)                380       \n",
            "                                                                 \n",
            " second_layer (Dense)        (None, 8)                 168       \n",
            "                                                                 \n",
            " output_layer (Dense)        (None, 1)                 9         \n",
            "                                                                 \n",
            "=================================================================\n",
            "Total params: 557\n",
            "Trainable params: 557\n",
            "Non-trainable params: 0\n",
            "_________________________________________________________________\n"
          ]
        }
      ]
    },
    {
      "cell_type": "markdown",
      "source": [
        "Model Compile\n",
        "\n",
        "Now it is time to choose the optimizer and the loss function. We will also pick our performance metric as well.\n",
        "\n",
        "keras optimizers: https://keras.io/api/optimizers/\n",
        "\n",
        "keras loss functions: https://keras.io/api/losses/\n",
        "\n",
        "keras metrics: https://keras.io/api/metrics/"
      ],
      "metadata": {
        "id": "KtsH7mLYxVLT"
      }
    },
    {
      "cell_type": "code",
      "source": [
        "# For a multi-class classification problem (one-hot encoded output)\n",
        "model.compile(optimizer='rmsprop',\n",
        "              loss='categorical_crossentropy',\n",
        "              metrics=[tf.keras.metrics.Accuracy()])\n",
        "\n",
        "# For a multi-class classification problem (integer output)\n",
        "model.compile(optimizer='rmsprop',\n",
        "              loss='sparse_categorical_crossentropy',\n",
        "              metrics=['accuracy'])\n",
        "\n",
        "# For a binary classification problem\n",
        "model.compile(optimizer='rmsprop',\n",
        "              loss='binary_crossentropy',\n",
        "              metrics=['accuracy'])\n",
        "\n",
        "# For a mean squared error regression problem\n",
        "model.compile(optimizer='rmsprop',\n",
        "              loss='mse', \n",
        "              metrics=['mean_squared_error']) # we don't need to pass the metrics for regression."
      ],
      "metadata": {
        "id": "DjwpfM3IxWHy"
      },
      "execution_count": 49,
      "outputs": []
    },
    {
      "cell_type": "code",
      "source": [
        "model.compile(optimizer='rmsprop', loss='binary_crossentropy', metrics=['accuracy'])"
      ],
      "metadata": {
        "id": "XTWchBOby6Gj"
      },
      "execution_count": 50,
      "outputs": []
    },
    {
      "cell_type": "code",
      "source": [
        "# let's make a function to create the model. This is an important step, because \n",
        "# every time you want to fit (train) a new model, you don't want to retrain it on the existing one! \n",
        "def build_model():\n",
        "    model = keras.Sequential(name=\"my_classification_model\")\n",
        "    model.add(layers.Input(shape=(X_train.shape[1],))) # this is the shape of each sample! \n",
        "    model.add(layers.Dense(units = 20, activation = 'relu', name=\"first_layer\"))\n",
        "    model.add(layers.Dense(units = 8, activation = 'relu', name=\"second_layer\"))\n",
        "\n",
        "    #output layer\n",
        "    model.add(layers.Dense(units = 1, activation = 'sigmoid', name=\"output_layer\"))\n",
        "    model.compile(optimizer='rmsprop', loss='binary_crossentropy', metrics=['accuracy'])\n",
        "    return model"
      ],
      "metadata": {
        "id": "SuHHijmp1-bx"
      },
      "execution_count": 51,
      "outputs": []
    },
    {
      "cell_type": "code",
      "source": [
        "model=build_model()\n",
        "build_model().summary()"
      ],
      "metadata": {
        "colab": {
          "base_uri": "https://localhost:8080/"
        },
        "id": "44seaNd55itg",
        "outputId": "94a2d8f4-4435-405a-aff6-6fc15b47cdd7"
      },
      "execution_count": 52,
      "outputs": [
        {
          "output_type": "stream",
          "name": "stdout",
          "text": [
            "Model: \"my_classification_model\"\n",
            "_________________________________________________________________\n",
            " Layer (type)                Output Shape              Param #   \n",
            "=================================================================\n",
            " first_layer (Dense)         (None, 20)                380       \n",
            "                                                                 \n",
            " second_layer (Dense)        (None, 8)                 168       \n",
            "                                                                 \n",
            " output_layer (Dense)        (None, 1)                 9         \n",
            "                                                                 \n",
            "=================================================================\n",
            "Total params: 557\n",
            "Trainable params: 557\n",
            "Non-trainable params: 0\n",
            "_________________________________________________________________\n"
          ]
        }
      ]
    },
    {
      "cell_type": "markdown",
      "source": [
        "Model fit\n",
        "\n",
        "This is the training part"
      ],
      "metadata": {
        "id": "zWLjkG2s6rlm"
      }
    },
    {
      "cell_type": "code",
      "source": [
        "model.fit(X_train,y_train, validation_data=(X_test, y_test), epochs=400, batch_size=128)"
      ],
      "metadata": {
        "colab": {
          "base_uri": "https://localhost:8080/"
        },
        "id": "nHmIh9zu6sf4",
        "outputId": "4a80018d-c8f1-4a14-e61a-28d38c57b89f"
      },
      "execution_count": 53,
      "outputs": [
        {
          "output_type": "stream",
          "name": "stdout",
          "text": [
            "Epoch 1/400\n",
            "94/94 [==============================] - 1s 4ms/step - loss: 0.5205 - accuracy: 0.7566 - val_loss: 0.4675 - val_accuracy: 0.7693\n",
            "Epoch 2/400\n",
            "94/94 [==============================] - 0s 2ms/step - loss: 0.4094 - accuracy: 0.8133 - val_loss: 0.3735 - val_accuracy: 0.8470\n",
            "Epoch 3/400\n",
            "94/94 [==============================] - 0s 2ms/step - loss: 0.3300 - accuracy: 0.8692 - val_loss: 0.3038 - val_accuracy: 0.8813\n",
            "Epoch 4/400\n",
            "94/94 [==============================] - 0s 2ms/step - loss: 0.2746 - accuracy: 0.8971 - val_loss: 0.2538 - val_accuracy: 0.9110\n",
            "Epoch 5/400\n",
            "94/94 [==============================] - 0s 2ms/step - loss: 0.2379 - accuracy: 0.9170 - val_loss: 0.2216 - val_accuracy: 0.9240\n",
            "Epoch 6/400\n",
            "94/94 [==============================] - 0s 2ms/step - loss: 0.2139 - accuracy: 0.9303 - val_loss: 0.2032 - val_accuracy: 0.9377\n",
            "Epoch 7/400\n",
            "94/94 [==============================] - 0s 2ms/step - loss: 0.1984 - accuracy: 0.9365 - val_loss: 0.1885 - val_accuracy: 0.9427\n",
            "Epoch 8/400\n",
            "94/94 [==============================] - 0s 2ms/step - loss: 0.1878 - accuracy: 0.9420 - val_loss: 0.1796 - val_accuracy: 0.9450\n",
            "Epoch 9/400\n",
            "94/94 [==============================] - 0s 2ms/step - loss: 0.1806 - accuracy: 0.9437 - val_loss: 0.1747 - val_accuracy: 0.9467\n",
            "Epoch 10/400\n",
            "94/94 [==============================] - 0s 2ms/step - loss: 0.1750 - accuracy: 0.9455 - val_loss: 0.1701 - val_accuracy: 0.9483\n",
            "Epoch 11/400\n",
            "94/94 [==============================] - 0s 2ms/step - loss: 0.1703 - accuracy: 0.9472 - val_loss: 0.1652 - val_accuracy: 0.9540\n",
            "Epoch 12/400\n",
            "94/94 [==============================] - 0s 2ms/step - loss: 0.1664 - accuracy: 0.9501 - val_loss: 0.1632 - val_accuracy: 0.9523\n",
            "Epoch 13/400\n",
            "94/94 [==============================] - 0s 2ms/step - loss: 0.1634 - accuracy: 0.9511 - val_loss: 0.1612 - val_accuracy: 0.9527\n",
            "Epoch 14/400\n",
            "94/94 [==============================] - 0s 2ms/step - loss: 0.1608 - accuracy: 0.9521 - val_loss: 0.1591 - val_accuracy: 0.9520\n",
            "Epoch 15/400\n",
            "94/94 [==============================] - 0s 2ms/step - loss: 0.1585 - accuracy: 0.9522 - val_loss: 0.1574 - val_accuracy: 0.9520\n",
            "Epoch 16/400\n",
            "94/94 [==============================] - 0s 3ms/step - loss: 0.1568 - accuracy: 0.9525 - val_loss: 0.1535 - val_accuracy: 0.9523\n",
            "Epoch 17/400\n",
            "94/94 [==============================] - 0s 2ms/step - loss: 0.1549 - accuracy: 0.9537 - val_loss: 0.1517 - val_accuracy: 0.9543\n",
            "Epoch 18/400\n",
            "94/94 [==============================] - 0s 2ms/step - loss: 0.1533 - accuracy: 0.9540 - val_loss: 0.1514 - val_accuracy: 0.9547\n",
            "Epoch 19/400\n",
            "94/94 [==============================] - 0s 2ms/step - loss: 0.1516 - accuracy: 0.9553 - val_loss: 0.1499 - val_accuracy: 0.9543\n",
            "Epoch 20/400\n",
            "94/94 [==============================] - 0s 2ms/step - loss: 0.1500 - accuracy: 0.9552 - val_loss: 0.1483 - val_accuracy: 0.9547\n",
            "Epoch 21/400\n",
            "94/94 [==============================] - 0s 2ms/step - loss: 0.1486 - accuracy: 0.9566 - val_loss: 0.1462 - val_accuracy: 0.9563\n",
            "Epoch 22/400\n",
            "94/94 [==============================] - 0s 2ms/step - loss: 0.1471 - accuracy: 0.9567 - val_loss: 0.1451 - val_accuracy: 0.9583\n",
            "Epoch 23/400\n",
            "94/94 [==============================] - 0s 2ms/step - loss: 0.1455 - accuracy: 0.9571 - val_loss: 0.1444 - val_accuracy: 0.9570\n",
            "Epoch 24/400\n",
            "94/94 [==============================] - 0s 2ms/step - loss: 0.1442 - accuracy: 0.9575 - val_loss: 0.1423 - val_accuracy: 0.9567\n",
            "Epoch 25/400\n",
            "94/94 [==============================] - 0s 2ms/step - loss: 0.1429 - accuracy: 0.9576 - val_loss: 0.1416 - val_accuracy: 0.9577\n",
            "Epoch 26/400\n",
            "94/94 [==============================] - 0s 3ms/step - loss: 0.1417 - accuracy: 0.9576 - val_loss: 0.1412 - val_accuracy: 0.9583\n",
            "Epoch 27/400\n",
            "94/94 [==============================] - 0s 3ms/step - loss: 0.1407 - accuracy: 0.9587 - val_loss: 0.1406 - val_accuracy: 0.9587\n",
            "Epoch 28/400\n",
            "94/94 [==============================] - 0s 3ms/step - loss: 0.1396 - accuracy: 0.9577 - val_loss: 0.1384 - val_accuracy: 0.9583\n",
            "Epoch 29/400\n",
            "94/94 [==============================] - 0s 3ms/step - loss: 0.1385 - accuracy: 0.9588 - val_loss: 0.1376 - val_accuracy: 0.9583\n",
            "Epoch 30/400\n",
            "94/94 [==============================] - 0s 3ms/step - loss: 0.1374 - accuracy: 0.9585 - val_loss: 0.1372 - val_accuracy: 0.9583\n",
            "Epoch 31/400\n",
            "94/94 [==============================] - 0s 3ms/step - loss: 0.1366 - accuracy: 0.9592 - val_loss: 0.1363 - val_accuracy: 0.9580\n",
            "Epoch 32/400\n",
            "94/94 [==============================] - 0s 3ms/step - loss: 0.1355 - accuracy: 0.9587 - val_loss: 0.1376 - val_accuracy: 0.9577\n",
            "Epoch 33/400\n",
            "94/94 [==============================] - 0s 2ms/step - loss: 0.1344 - accuracy: 0.9592 - val_loss: 0.1344 - val_accuracy: 0.9590\n",
            "Epoch 34/400\n",
            "94/94 [==============================] - 0s 3ms/step - loss: 0.1339 - accuracy: 0.9596 - val_loss: 0.1342 - val_accuracy: 0.9590\n",
            "Epoch 35/400\n",
            "94/94 [==============================] - 0s 3ms/step - loss: 0.1329 - accuracy: 0.9594 - val_loss: 0.1335 - val_accuracy: 0.9603\n",
            "Epoch 36/400\n",
            "94/94 [==============================] - 0s 3ms/step - loss: 0.1323 - accuracy: 0.9597 - val_loss: 0.1328 - val_accuracy: 0.9620\n",
            "Epoch 37/400\n",
            "94/94 [==============================] - 0s 3ms/step - loss: 0.1314 - accuracy: 0.9600 - val_loss: 0.1330 - val_accuracy: 0.9593\n",
            "Epoch 38/400\n",
            "94/94 [==============================] - 0s 2ms/step - loss: 0.1305 - accuracy: 0.9603 - val_loss: 0.1314 - val_accuracy: 0.9603\n",
            "Epoch 39/400\n",
            "94/94 [==============================] - 0s 2ms/step - loss: 0.1298 - accuracy: 0.9603 - val_loss: 0.1318 - val_accuracy: 0.9610\n",
            "Epoch 40/400\n",
            "94/94 [==============================] - 0s 2ms/step - loss: 0.1293 - accuracy: 0.9607 - val_loss: 0.1322 - val_accuracy: 0.9613\n",
            "Epoch 41/400\n",
            "94/94 [==============================] - 0s 2ms/step - loss: 0.1287 - accuracy: 0.9608 - val_loss: 0.1324 - val_accuracy: 0.9597\n",
            "Epoch 42/400\n",
            "94/94 [==============================] - 0s 2ms/step - loss: 0.1282 - accuracy: 0.9607 - val_loss: 0.1303 - val_accuracy: 0.9600\n",
            "Epoch 43/400\n",
            "94/94 [==============================] - 0s 2ms/step - loss: 0.1277 - accuracy: 0.9612 - val_loss: 0.1291 - val_accuracy: 0.9623\n",
            "Epoch 44/400\n",
            "94/94 [==============================] - 0s 2ms/step - loss: 0.1269 - accuracy: 0.9607 - val_loss: 0.1296 - val_accuracy: 0.9613\n",
            "Epoch 45/400\n",
            "94/94 [==============================] - 0s 2ms/step - loss: 0.1264 - accuracy: 0.9613 - val_loss: 0.1292 - val_accuracy: 0.9613\n",
            "Epoch 46/400\n",
            "94/94 [==============================] - 0s 2ms/step - loss: 0.1258 - accuracy: 0.9606 - val_loss: 0.1281 - val_accuracy: 0.9630\n",
            "Epoch 47/400\n",
            "94/94 [==============================] - 0s 2ms/step - loss: 0.1251 - accuracy: 0.9613 - val_loss: 0.1280 - val_accuracy: 0.9630\n",
            "Epoch 48/400\n",
            "94/94 [==============================] - 0s 2ms/step - loss: 0.1245 - accuracy: 0.9616 - val_loss: 0.1284 - val_accuracy: 0.9630\n",
            "Epoch 49/400\n",
            "94/94 [==============================] - 0s 2ms/step - loss: 0.1240 - accuracy: 0.9614 - val_loss: 0.1274 - val_accuracy: 0.9630\n",
            "Epoch 50/400\n",
            "94/94 [==============================] - 0s 2ms/step - loss: 0.1234 - accuracy: 0.9624 - val_loss: 0.1278 - val_accuracy: 0.9617\n",
            "Epoch 51/400\n",
            "94/94 [==============================] - 0s 2ms/step - loss: 0.1229 - accuracy: 0.9617 - val_loss: 0.1276 - val_accuracy: 0.9633\n",
            "Epoch 52/400\n",
            "94/94 [==============================] - 0s 2ms/step - loss: 0.1224 - accuracy: 0.9621 - val_loss: 0.1265 - val_accuracy: 0.9627\n",
            "Epoch 53/400\n",
            "94/94 [==============================] - 0s 2ms/step - loss: 0.1219 - accuracy: 0.9624 - val_loss: 0.1276 - val_accuracy: 0.9620\n",
            "Epoch 54/400\n",
            "94/94 [==============================] - 0s 2ms/step - loss: 0.1213 - accuracy: 0.9623 - val_loss: 0.1277 - val_accuracy: 0.9630\n",
            "Epoch 55/400\n",
            "94/94 [==============================] - 0s 2ms/step - loss: 0.1208 - accuracy: 0.9625 - val_loss: 0.1257 - val_accuracy: 0.9633\n",
            "Epoch 56/400\n",
            "94/94 [==============================] - 0s 2ms/step - loss: 0.1200 - accuracy: 0.9626 - val_loss: 0.1251 - val_accuracy: 0.9637\n",
            "Epoch 57/400\n",
            "94/94 [==============================] - 0s 2ms/step - loss: 0.1199 - accuracy: 0.9622 - val_loss: 0.1245 - val_accuracy: 0.9647\n",
            "Epoch 58/400\n",
            "94/94 [==============================] - 0s 2ms/step - loss: 0.1194 - accuracy: 0.9630 - val_loss: 0.1249 - val_accuracy: 0.9640\n",
            "Epoch 59/400\n",
            "94/94 [==============================] - 0s 2ms/step - loss: 0.1190 - accuracy: 0.9632 - val_loss: 0.1244 - val_accuracy: 0.9643\n",
            "Epoch 60/400\n",
            "94/94 [==============================] - 0s 2ms/step - loss: 0.1183 - accuracy: 0.9622 - val_loss: 0.1245 - val_accuracy: 0.9643\n",
            "Epoch 61/400\n",
            "94/94 [==============================] - 0s 2ms/step - loss: 0.1180 - accuracy: 0.9626 - val_loss: 0.1241 - val_accuracy: 0.9637\n",
            "Epoch 62/400\n",
            "94/94 [==============================] - 0s 2ms/step - loss: 0.1175 - accuracy: 0.9631 - val_loss: 0.1238 - val_accuracy: 0.9630\n",
            "Epoch 63/400\n",
            "94/94 [==============================] - 0s 2ms/step - loss: 0.1172 - accuracy: 0.9630 - val_loss: 0.1229 - val_accuracy: 0.9653\n",
            "Epoch 64/400\n",
            "94/94 [==============================] - 0s 2ms/step - loss: 0.1164 - accuracy: 0.9628 - val_loss: 0.1224 - val_accuracy: 0.9630\n",
            "Epoch 65/400\n",
            "94/94 [==============================] - 0s 2ms/step - loss: 0.1163 - accuracy: 0.9635 - val_loss: 0.1223 - val_accuracy: 0.9653\n",
            "Epoch 66/400\n",
            "94/94 [==============================] - 0s 2ms/step - loss: 0.1158 - accuracy: 0.9637 - val_loss: 0.1216 - val_accuracy: 0.9657\n",
            "Epoch 67/400\n",
            "94/94 [==============================] - 0s 2ms/step - loss: 0.1157 - accuracy: 0.9638 - val_loss: 0.1221 - val_accuracy: 0.9640\n",
            "Epoch 68/400\n",
            "94/94 [==============================] - 0s 2ms/step - loss: 0.1151 - accuracy: 0.9636 - val_loss: 0.1221 - val_accuracy: 0.9643\n",
            "Epoch 69/400\n",
            "94/94 [==============================] - 0s 2ms/step - loss: 0.1148 - accuracy: 0.9640 - val_loss: 0.1219 - val_accuracy: 0.9643\n",
            "Epoch 70/400\n",
            "94/94 [==============================] - 0s 3ms/step - loss: 0.1145 - accuracy: 0.9641 - val_loss: 0.1219 - val_accuracy: 0.9647\n",
            "Epoch 71/400\n",
            "94/94 [==============================] - 0s 2ms/step - loss: 0.1137 - accuracy: 0.9642 - val_loss: 0.1215 - val_accuracy: 0.9640\n",
            "Epoch 72/400\n",
            "94/94 [==============================] - 0s 2ms/step - loss: 0.1141 - accuracy: 0.9639 - val_loss: 0.1203 - val_accuracy: 0.9657\n",
            "Epoch 73/400\n",
            "94/94 [==============================] - 0s 2ms/step - loss: 0.1133 - accuracy: 0.9634 - val_loss: 0.1219 - val_accuracy: 0.9643\n",
            "Epoch 74/400\n",
            "94/94 [==============================] - 0s 2ms/step - loss: 0.1133 - accuracy: 0.9644 - val_loss: 0.1205 - val_accuracy: 0.9657\n",
            "Epoch 75/400\n",
            "94/94 [==============================] - 0s 2ms/step - loss: 0.1129 - accuracy: 0.9641 - val_loss: 0.1205 - val_accuracy: 0.9647\n",
            "Epoch 76/400\n",
            "94/94 [==============================] - 0s 2ms/step - loss: 0.1124 - accuracy: 0.9651 - val_loss: 0.1208 - val_accuracy: 0.9640\n",
            "Epoch 77/400\n",
            "94/94 [==============================] - 0s 2ms/step - loss: 0.1124 - accuracy: 0.9638 - val_loss: 0.1200 - val_accuracy: 0.9643\n",
            "Epoch 78/400\n",
            "94/94 [==============================] - 0s 2ms/step - loss: 0.1121 - accuracy: 0.9645 - val_loss: 0.1198 - val_accuracy: 0.9653\n",
            "Epoch 79/400\n",
            "94/94 [==============================] - 0s 2ms/step - loss: 0.1117 - accuracy: 0.9652 - val_loss: 0.1187 - val_accuracy: 0.9647\n",
            "Epoch 80/400\n",
            "94/94 [==============================] - 0s 2ms/step - loss: 0.1116 - accuracy: 0.9646 - val_loss: 0.1196 - val_accuracy: 0.9640\n",
            "Epoch 81/400\n",
            "94/94 [==============================] - 0s 2ms/step - loss: 0.1111 - accuracy: 0.9643 - val_loss: 0.1194 - val_accuracy: 0.9643\n",
            "Epoch 82/400\n",
            "94/94 [==============================] - 0s 2ms/step - loss: 0.1110 - accuracy: 0.9652 - val_loss: 0.1176 - val_accuracy: 0.9650\n",
            "Epoch 83/400\n",
            "94/94 [==============================] - 0s 3ms/step - loss: 0.1105 - accuracy: 0.9658 - val_loss: 0.1182 - val_accuracy: 0.9647\n",
            "Epoch 84/400\n",
            "94/94 [==============================] - 0s 2ms/step - loss: 0.1106 - accuracy: 0.9652 - val_loss: 0.1190 - val_accuracy: 0.9640\n",
            "Epoch 85/400\n",
            "94/94 [==============================] - 0s 2ms/step - loss: 0.1103 - accuracy: 0.9652 - val_loss: 0.1176 - val_accuracy: 0.9650\n",
            "Epoch 86/400\n",
            "94/94 [==============================] - 0s 3ms/step - loss: 0.1102 - accuracy: 0.9653 - val_loss: 0.1191 - val_accuracy: 0.9650\n",
            "Epoch 87/400\n",
            "94/94 [==============================] - 0s 3ms/step - loss: 0.1098 - accuracy: 0.9656 - val_loss: 0.1185 - val_accuracy: 0.9640\n",
            "Epoch 88/400\n",
            "94/94 [==============================] - 0s 3ms/step - loss: 0.1094 - accuracy: 0.9657 - val_loss: 0.1172 - val_accuracy: 0.9643\n",
            "Epoch 89/400\n",
            "94/94 [==============================] - 0s 3ms/step - loss: 0.1094 - accuracy: 0.9652 - val_loss: 0.1174 - val_accuracy: 0.9637\n",
            "Epoch 90/400\n",
            "94/94 [==============================] - 0s 3ms/step - loss: 0.1090 - accuracy: 0.9655 - val_loss: 0.1184 - val_accuracy: 0.9643\n",
            "Epoch 91/400\n",
            "94/94 [==============================] - 0s 3ms/step - loss: 0.1086 - accuracy: 0.9661 - val_loss: 0.1176 - val_accuracy: 0.9637\n",
            "Epoch 92/400\n",
            "94/94 [==============================] - 0s 2ms/step - loss: 0.1087 - accuracy: 0.9655 - val_loss: 0.1166 - val_accuracy: 0.9650\n",
            "Epoch 93/400\n",
            "94/94 [==============================] - 0s 2ms/step - loss: 0.1083 - accuracy: 0.9657 - val_loss: 0.1181 - val_accuracy: 0.9643\n",
            "Epoch 94/400\n",
            "94/94 [==============================] - 0s 2ms/step - loss: 0.1081 - accuracy: 0.9659 - val_loss: 0.1190 - val_accuracy: 0.9637\n",
            "Epoch 95/400\n",
            "94/94 [==============================] - 0s 2ms/step - loss: 0.1077 - accuracy: 0.9662 - val_loss: 0.1185 - val_accuracy: 0.9647\n",
            "Epoch 96/400\n",
            "94/94 [==============================] - 0s 2ms/step - loss: 0.1076 - accuracy: 0.9662 - val_loss: 0.1163 - val_accuracy: 0.9643\n",
            "Epoch 97/400\n",
            "94/94 [==============================] - 0s 2ms/step - loss: 0.1073 - accuracy: 0.9671 - val_loss: 0.1155 - val_accuracy: 0.9653\n",
            "Epoch 98/400\n",
            "94/94 [==============================] - 0s 2ms/step - loss: 0.1070 - accuracy: 0.9659 - val_loss: 0.1184 - val_accuracy: 0.9633\n",
            "Epoch 99/400\n",
            "94/94 [==============================] - 0s 2ms/step - loss: 0.1070 - accuracy: 0.9664 - val_loss: 0.1167 - val_accuracy: 0.9643\n",
            "Epoch 100/400\n",
            "94/94 [==============================] - 0s 2ms/step - loss: 0.1069 - accuracy: 0.9657 - val_loss: 0.1164 - val_accuracy: 0.9650\n",
            "Epoch 101/400\n",
            "94/94 [==============================] - 0s 2ms/step - loss: 0.1064 - accuracy: 0.9661 - val_loss: 0.1165 - val_accuracy: 0.9647\n",
            "Epoch 102/400\n",
            "94/94 [==============================] - 0s 2ms/step - loss: 0.1065 - accuracy: 0.9665 - val_loss: 0.1173 - val_accuracy: 0.9663\n",
            "Epoch 103/400\n",
            "94/94 [==============================] - 0s 2ms/step - loss: 0.1065 - accuracy: 0.9665 - val_loss: 0.1170 - val_accuracy: 0.9653\n",
            "Epoch 104/400\n",
            "94/94 [==============================] - 0s 2ms/step - loss: 0.1062 - accuracy: 0.9660 - val_loss: 0.1150 - val_accuracy: 0.9653\n",
            "Epoch 105/400\n",
            "94/94 [==============================] - 0s 2ms/step - loss: 0.1058 - accuracy: 0.9659 - val_loss: 0.1161 - val_accuracy: 0.9660\n",
            "Epoch 106/400\n",
            "94/94 [==============================] - 0s 2ms/step - loss: 0.1055 - accuracy: 0.9667 - val_loss: 0.1167 - val_accuracy: 0.9670\n",
            "Epoch 107/400\n",
            "94/94 [==============================] - 0s 2ms/step - loss: 0.1058 - accuracy: 0.9662 - val_loss: 0.1153 - val_accuracy: 0.9643\n",
            "Epoch 108/400\n",
            "94/94 [==============================] - 0s 2ms/step - loss: 0.1053 - accuracy: 0.9669 - val_loss: 0.1172 - val_accuracy: 0.9653\n",
            "Epoch 109/400\n",
            "94/94 [==============================] - 0s 2ms/step - loss: 0.1050 - accuracy: 0.9668 - val_loss: 0.1143 - val_accuracy: 0.9667\n",
            "Epoch 110/400\n",
            "94/94 [==============================] - 0s 2ms/step - loss: 0.1048 - accuracy: 0.9667 - val_loss: 0.1149 - val_accuracy: 0.9670\n",
            "Epoch 111/400\n",
            "94/94 [==============================] - 0s 2ms/step - loss: 0.1047 - accuracy: 0.9667 - val_loss: 0.1153 - val_accuracy: 0.9660\n",
            "Epoch 112/400\n",
            "94/94 [==============================] - 0s 2ms/step - loss: 0.1044 - accuracy: 0.9662 - val_loss: 0.1151 - val_accuracy: 0.9663\n",
            "Epoch 113/400\n",
            "94/94 [==============================] - 0s 2ms/step - loss: 0.1047 - accuracy: 0.9664 - val_loss: 0.1149 - val_accuracy: 0.9653\n",
            "Epoch 114/400\n",
            "94/94 [==============================] - 0s 2ms/step - loss: 0.1042 - accuracy: 0.9672 - val_loss: 0.1142 - val_accuracy: 0.9667\n",
            "Epoch 115/400\n",
            "94/94 [==============================] - 0s 2ms/step - loss: 0.1042 - accuracy: 0.9668 - val_loss: 0.1149 - val_accuracy: 0.9657\n",
            "Epoch 116/400\n",
            "94/94 [==============================] - 0s 2ms/step - loss: 0.1039 - accuracy: 0.9666 - val_loss: 0.1157 - val_accuracy: 0.9673\n",
            "Epoch 117/400\n",
            "94/94 [==============================] - 0s 2ms/step - loss: 0.1036 - accuracy: 0.9667 - val_loss: 0.1142 - val_accuracy: 0.9670\n",
            "Epoch 118/400\n",
            "94/94 [==============================] - 0s 2ms/step - loss: 0.1033 - accuracy: 0.9667 - val_loss: 0.1143 - val_accuracy: 0.9680\n",
            "Epoch 119/400\n",
            "94/94 [==============================] - 0s 2ms/step - loss: 0.1033 - accuracy: 0.9670 - val_loss: 0.1156 - val_accuracy: 0.9670\n",
            "Epoch 120/400\n",
            "94/94 [==============================] - 0s 2ms/step - loss: 0.1031 - accuracy: 0.9677 - val_loss: 0.1156 - val_accuracy: 0.9667\n",
            "Epoch 121/400\n",
            "94/94 [==============================] - 0s 2ms/step - loss: 0.1030 - accuracy: 0.9673 - val_loss: 0.1155 - val_accuracy: 0.9657\n",
            "Epoch 122/400\n",
            "94/94 [==============================] - 0s 2ms/step - loss: 0.1028 - accuracy: 0.9679 - val_loss: 0.1144 - val_accuracy: 0.9677\n",
            "Epoch 123/400\n",
            "94/94 [==============================] - 0s 2ms/step - loss: 0.1027 - accuracy: 0.9679 - val_loss: 0.1142 - val_accuracy: 0.9667\n",
            "Epoch 124/400\n",
            "94/94 [==============================] - 0s 2ms/step - loss: 0.1024 - accuracy: 0.9672 - val_loss: 0.1151 - val_accuracy: 0.9670\n",
            "Epoch 125/400\n",
            "94/94 [==============================] - 0s 2ms/step - loss: 0.1022 - accuracy: 0.9672 - val_loss: 0.1158 - val_accuracy: 0.9663\n",
            "Epoch 126/400\n",
            "94/94 [==============================] - 0s 3ms/step - loss: 0.1022 - accuracy: 0.9677 - val_loss: 0.1148 - val_accuracy: 0.9653\n",
            "Epoch 127/400\n",
            "94/94 [==============================] - 0s 2ms/step - loss: 0.1019 - accuracy: 0.9673 - val_loss: 0.1144 - val_accuracy: 0.9677\n",
            "Epoch 128/400\n",
            "94/94 [==============================] - 0s 2ms/step - loss: 0.1020 - accuracy: 0.9672 - val_loss: 0.1142 - val_accuracy: 0.9663\n",
            "Epoch 129/400\n",
            "94/94 [==============================] - 0s 2ms/step - loss: 0.1019 - accuracy: 0.9676 - val_loss: 0.1146 - val_accuracy: 0.9683\n",
            "Epoch 130/400\n",
            "94/94 [==============================] - 0s 2ms/step - loss: 0.1014 - accuracy: 0.9686 - val_loss: 0.1143 - val_accuracy: 0.9683\n",
            "Epoch 131/400\n",
            "94/94 [==============================] - 0s 2ms/step - loss: 0.1010 - accuracy: 0.9674 - val_loss: 0.1149 - val_accuracy: 0.9667\n",
            "Epoch 132/400\n",
            "94/94 [==============================] - 0s 3ms/step - loss: 0.1010 - accuracy: 0.9686 - val_loss: 0.1142 - val_accuracy: 0.9683\n",
            "Epoch 133/400\n",
            "94/94 [==============================] - 0s 2ms/step - loss: 0.1008 - accuracy: 0.9674 - val_loss: 0.1149 - val_accuracy: 0.9660\n",
            "Epoch 134/400\n",
            "94/94 [==============================] - 0s 2ms/step - loss: 0.1007 - accuracy: 0.9677 - val_loss: 0.1159 - val_accuracy: 0.9663\n",
            "Epoch 135/400\n",
            "94/94 [==============================] - 0s 2ms/step - loss: 0.1004 - accuracy: 0.9672 - val_loss: 0.1145 - val_accuracy: 0.9677\n",
            "Epoch 136/400\n",
            "94/94 [==============================] - 0s 2ms/step - loss: 0.1006 - accuracy: 0.9682 - val_loss: 0.1138 - val_accuracy: 0.9683\n",
            "Epoch 137/400\n",
            "94/94 [==============================] - 0s 2ms/step - loss: 0.0999 - accuracy: 0.9679 - val_loss: 0.1130 - val_accuracy: 0.9687\n",
            "Epoch 138/400\n",
            "94/94 [==============================] - 0s 2ms/step - loss: 0.1002 - accuracy: 0.9676 - val_loss: 0.1129 - val_accuracy: 0.9683\n",
            "Epoch 139/400\n",
            "94/94 [==============================] - 0s 3ms/step - loss: 0.0997 - accuracy: 0.9679 - val_loss: 0.1138 - val_accuracy: 0.9670\n",
            "Epoch 140/400\n",
            "94/94 [==============================] - 0s 3ms/step - loss: 0.0994 - accuracy: 0.9677 - val_loss: 0.1131 - val_accuracy: 0.9670\n",
            "Epoch 141/400\n",
            "94/94 [==============================] - 0s 3ms/step - loss: 0.0995 - accuracy: 0.9682 - val_loss: 0.1131 - val_accuracy: 0.9680\n",
            "Epoch 142/400\n",
            "94/94 [==============================] - 0s 3ms/step - loss: 0.0992 - accuracy: 0.9685 - val_loss: 0.1125 - val_accuracy: 0.9703\n",
            "Epoch 143/400\n",
            "94/94 [==============================] - 0s 3ms/step - loss: 0.0989 - accuracy: 0.9680 - val_loss: 0.1139 - val_accuracy: 0.9683\n",
            "Epoch 144/400\n",
            "94/94 [==============================] - 0s 3ms/step - loss: 0.0990 - accuracy: 0.9681 - val_loss: 0.1129 - val_accuracy: 0.9707\n",
            "Epoch 145/400\n",
            "94/94 [==============================] - 0s 3ms/step - loss: 0.0983 - accuracy: 0.9689 - val_loss: 0.1140 - val_accuracy: 0.9687\n",
            "Epoch 146/400\n",
            "94/94 [==============================] - 0s 2ms/step - loss: 0.0988 - accuracy: 0.9683 - val_loss: 0.1136 - val_accuracy: 0.9690\n",
            "Epoch 147/400\n",
            "94/94 [==============================] - 0s 2ms/step - loss: 0.0983 - accuracy: 0.9696 - val_loss: 0.1142 - val_accuracy: 0.9660\n",
            "Epoch 148/400\n",
            "94/94 [==============================] - 0s 2ms/step - loss: 0.0984 - accuracy: 0.9687 - val_loss: 0.1144 - val_accuracy: 0.9693\n",
            "Epoch 149/400\n",
            "94/94 [==============================] - 0s 2ms/step - loss: 0.0981 - accuracy: 0.9687 - val_loss: 0.1134 - val_accuracy: 0.9687\n",
            "Epoch 150/400\n",
            "94/94 [==============================] - 0s 2ms/step - loss: 0.0979 - accuracy: 0.9684 - val_loss: 0.1140 - val_accuracy: 0.9700\n",
            "Epoch 151/400\n",
            "94/94 [==============================] - 0s 2ms/step - loss: 0.0977 - accuracy: 0.9689 - val_loss: 0.1122 - val_accuracy: 0.9687\n",
            "Epoch 152/400\n",
            "94/94 [==============================] - 0s 2ms/step - loss: 0.0977 - accuracy: 0.9686 - val_loss: 0.1134 - val_accuracy: 0.9690\n",
            "Epoch 153/400\n",
            "94/94 [==============================] - 0s 2ms/step - loss: 0.0975 - accuracy: 0.9685 - val_loss: 0.1135 - val_accuracy: 0.9687\n",
            "Epoch 154/400\n",
            "94/94 [==============================] - 0s 2ms/step - loss: 0.0970 - accuracy: 0.9684 - val_loss: 0.1133 - val_accuracy: 0.9683\n",
            "Epoch 155/400\n",
            "94/94 [==============================] - 0s 2ms/step - loss: 0.0972 - accuracy: 0.9692 - val_loss: 0.1142 - val_accuracy: 0.9680\n",
            "Epoch 156/400\n",
            "94/94 [==============================] - 0s 2ms/step - loss: 0.0968 - accuracy: 0.9687 - val_loss: 0.1141 - val_accuracy: 0.9667\n",
            "Epoch 157/400\n",
            "94/94 [==============================] - 0s 2ms/step - loss: 0.0970 - accuracy: 0.9687 - val_loss: 0.1123 - val_accuracy: 0.9693\n",
            "Epoch 158/400\n",
            "94/94 [==============================] - 0s 2ms/step - loss: 0.0965 - accuracy: 0.9687 - val_loss: 0.1122 - val_accuracy: 0.9683\n",
            "Epoch 159/400\n",
            "94/94 [==============================] - 0s 2ms/step - loss: 0.0964 - accuracy: 0.9691 - val_loss: 0.1147 - val_accuracy: 0.9690\n",
            "Epoch 160/400\n",
            "94/94 [==============================] - 0s 3ms/step - loss: 0.0966 - accuracy: 0.9696 - val_loss: 0.1151 - val_accuracy: 0.9687\n",
            "Epoch 161/400\n",
            "94/94 [==============================] - 0s 2ms/step - loss: 0.0963 - accuracy: 0.9696 - val_loss: 0.1130 - val_accuracy: 0.9690\n",
            "Epoch 162/400\n",
            "94/94 [==============================] - 0s 2ms/step - loss: 0.0962 - accuracy: 0.9696 - val_loss: 0.1160 - val_accuracy: 0.9677\n",
            "Epoch 163/400\n",
            "94/94 [==============================] - 0s 2ms/step - loss: 0.0959 - accuracy: 0.9693 - val_loss: 0.1153 - val_accuracy: 0.9663\n",
            "Epoch 164/400\n",
            "94/94 [==============================] - 0s 2ms/step - loss: 0.0958 - accuracy: 0.9698 - val_loss: 0.1133 - val_accuracy: 0.9683\n",
            "Epoch 165/400\n",
            "94/94 [==============================] - 0s 2ms/step - loss: 0.0957 - accuracy: 0.9696 - val_loss: 0.1152 - val_accuracy: 0.9687\n",
            "Epoch 166/400\n",
            "94/94 [==============================] - 0s 2ms/step - loss: 0.0955 - accuracy: 0.9688 - val_loss: 0.1128 - val_accuracy: 0.9700\n",
            "Epoch 167/400\n",
            "94/94 [==============================] - 0s 2ms/step - loss: 0.0956 - accuracy: 0.9699 - val_loss: 0.1142 - val_accuracy: 0.9693\n",
            "Epoch 168/400\n",
            "94/94 [==============================] - 0s 2ms/step - loss: 0.0953 - accuracy: 0.9694 - val_loss: 0.1145 - val_accuracy: 0.9700\n",
            "Epoch 169/400\n",
            "94/94 [==============================] - 0s 2ms/step - loss: 0.0952 - accuracy: 0.9691 - val_loss: 0.1130 - val_accuracy: 0.9697\n",
            "Epoch 170/400\n",
            "94/94 [==============================] - 0s 2ms/step - loss: 0.0949 - accuracy: 0.9694 - val_loss: 0.1142 - val_accuracy: 0.9673\n",
            "Epoch 171/400\n",
            "94/94 [==============================] - 0s 2ms/step - loss: 0.0950 - accuracy: 0.9693 - val_loss: 0.1148 - val_accuracy: 0.9687\n",
            "Epoch 172/400\n",
            "94/94 [==============================] - 0s 2ms/step - loss: 0.0947 - accuracy: 0.9696 - val_loss: 0.1131 - val_accuracy: 0.9690\n",
            "Epoch 173/400\n",
            "94/94 [==============================] - 0s 2ms/step - loss: 0.0946 - accuracy: 0.9698 - val_loss: 0.1138 - val_accuracy: 0.9687\n",
            "Epoch 174/400\n",
            "94/94 [==============================] - 0s 2ms/step - loss: 0.0943 - accuracy: 0.9692 - val_loss: 0.1150 - val_accuracy: 0.9680\n",
            "Epoch 175/400\n",
            "94/94 [==============================] - 0s 2ms/step - loss: 0.0940 - accuracy: 0.9693 - val_loss: 0.1133 - val_accuracy: 0.9700\n",
            "Epoch 176/400\n",
            "94/94 [==============================] - 0s 2ms/step - loss: 0.0942 - accuracy: 0.9707 - val_loss: 0.1135 - val_accuracy: 0.9677\n",
            "Epoch 177/400\n",
            "94/94 [==============================] - 0s 2ms/step - loss: 0.0938 - accuracy: 0.9696 - val_loss: 0.1159 - val_accuracy: 0.9673\n",
            "Epoch 178/400\n",
            "94/94 [==============================] - 0s 2ms/step - loss: 0.0938 - accuracy: 0.9699 - val_loss: 0.1137 - val_accuracy: 0.9677\n",
            "Epoch 179/400\n",
            "94/94 [==============================] - 0s 2ms/step - loss: 0.0935 - accuracy: 0.9701 - val_loss: 0.1135 - val_accuracy: 0.9677\n",
            "Epoch 180/400\n",
            "94/94 [==============================] - 0s 2ms/step - loss: 0.0933 - accuracy: 0.9699 - val_loss: 0.1130 - val_accuracy: 0.9687\n",
            "Epoch 181/400\n",
            "94/94 [==============================] - 0s 2ms/step - loss: 0.0933 - accuracy: 0.9705 - val_loss: 0.1127 - val_accuracy: 0.9680\n",
            "Epoch 182/400\n",
            "94/94 [==============================] - 0s 2ms/step - loss: 0.0931 - accuracy: 0.9700 - val_loss: 0.1141 - val_accuracy: 0.9680\n",
            "Epoch 183/400\n",
            "94/94 [==============================] - 0s 2ms/step - loss: 0.0931 - accuracy: 0.9704 - val_loss: 0.1133 - val_accuracy: 0.9673\n",
            "Epoch 184/400\n",
            "94/94 [==============================] - 0s 2ms/step - loss: 0.0930 - accuracy: 0.9692 - val_loss: 0.1138 - val_accuracy: 0.9663\n",
            "Epoch 185/400\n",
            "94/94 [==============================] - 0s 2ms/step - loss: 0.0926 - accuracy: 0.9697 - val_loss: 0.1124 - val_accuracy: 0.9670\n",
            "Epoch 186/400\n",
            "94/94 [==============================] - 0s 2ms/step - loss: 0.0924 - accuracy: 0.9700 - val_loss: 0.1134 - val_accuracy: 0.9670\n",
            "Epoch 187/400\n",
            "94/94 [==============================] - 0s 2ms/step - loss: 0.0926 - accuracy: 0.9699 - val_loss: 0.1139 - val_accuracy: 0.9670\n",
            "Epoch 188/400\n",
            "94/94 [==============================] - 0s 2ms/step - loss: 0.0922 - accuracy: 0.9699 - val_loss: 0.1154 - val_accuracy: 0.9673\n",
            "Epoch 189/400\n",
            "94/94 [==============================] - 0s 2ms/step - loss: 0.0920 - accuracy: 0.9694 - val_loss: 0.1128 - val_accuracy: 0.9670\n",
            "Epoch 190/400\n",
            "94/94 [==============================] - 0s 2ms/step - loss: 0.0923 - accuracy: 0.9696 - val_loss: 0.1133 - val_accuracy: 0.9657\n",
            "Epoch 191/400\n",
            "94/94 [==============================] - 0s 2ms/step - loss: 0.0918 - accuracy: 0.9695 - val_loss: 0.1139 - val_accuracy: 0.9663\n",
            "Epoch 192/400\n",
            "94/94 [==============================] - 0s 2ms/step - loss: 0.0920 - accuracy: 0.9700 - val_loss: 0.1147 - val_accuracy: 0.9653\n",
            "Epoch 193/400\n",
            "94/94 [==============================] - 0s 2ms/step - loss: 0.0919 - accuracy: 0.9705 - val_loss: 0.1145 - val_accuracy: 0.9650\n",
            "Epoch 194/400\n",
            "94/94 [==============================] - 0s 3ms/step - loss: 0.0914 - accuracy: 0.9710 - val_loss: 0.1141 - val_accuracy: 0.9683\n",
            "Epoch 195/400\n",
            "94/94 [==============================] - 0s 3ms/step - loss: 0.0916 - accuracy: 0.9697 - val_loss: 0.1143 - val_accuracy: 0.9677\n",
            "Epoch 196/400\n",
            "94/94 [==============================] - 0s 3ms/step - loss: 0.0914 - accuracy: 0.9702 - val_loss: 0.1136 - val_accuracy: 0.9670\n",
            "Epoch 197/400\n",
            "94/94 [==============================] - 0s 3ms/step - loss: 0.0911 - accuracy: 0.9707 - val_loss: 0.1145 - val_accuracy: 0.9663\n",
            "Epoch 198/400\n",
            "94/94 [==============================] - 0s 4ms/step - loss: 0.0910 - accuracy: 0.9700 - val_loss: 0.1136 - val_accuracy: 0.9657\n",
            "Epoch 199/400\n",
            "94/94 [==============================] - 0s 3ms/step - loss: 0.0910 - accuracy: 0.9704 - val_loss: 0.1133 - val_accuracy: 0.9667\n",
            "Epoch 200/400\n",
            "94/94 [==============================] - 0s 2ms/step - loss: 0.0907 - accuracy: 0.9702 - val_loss: 0.1138 - val_accuracy: 0.9653\n",
            "Epoch 201/400\n",
            "94/94 [==============================] - 0s 3ms/step - loss: 0.0905 - accuracy: 0.9703 - val_loss: 0.1143 - val_accuracy: 0.9660\n",
            "Epoch 202/400\n",
            "94/94 [==============================] - 0s 2ms/step - loss: 0.0905 - accuracy: 0.9708 - val_loss: 0.1142 - val_accuracy: 0.9653\n",
            "Epoch 203/400\n",
            "94/94 [==============================] - 0s 2ms/step - loss: 0.0906 - accuracy: 0.9701 - val_loss: 0.1148 - val_accuracy: 0.9647\n",
            "Epoch 204/400\n",
            "94/94 [==============================] - 0s 2ms/step - loss: 0.0901 - accuracy: 0.9704 - val_loss: 0.1143 - val_accuracy: 0.9657\n",
            "Epoch 205/400\n",
            "94/94 [==============================] - 0s 2ms/step - loss: 0.0904 - accuracy: 0.9702 - val_loss: 0.1146 - val_accuracy: 0.9657\n",
            "Epoch 206/400\n",
            "94/94 [==============================] - 0s 2ms/step - loss: 0.0899 - accuracy: 0.9702 - val_loss: 0.1138 - val_accuracy: 0.9660\n",
            "Epoch 207/400\n",
            "94/94 [==============================] - 0s 2ms/step - loss: 0.0899 - accuracy: 0.9703 - val_loss: 0.1146 - val_accuracy: 0.9657\n",
            "Epoch 208/400\n",
            "94/94 [==============================] - 0s 3ms/step - loss: 0.0896 - accuracy: 0.9703 - val_loss: 0.1185 - val_accuracy: 0.9647\n",
            "Epoch 209/400\n",
            "94/94 [==============================] - 0s 2ms/step - loss: 0.0899 - accuracy: 0.9710 - val_loss: 0.1151 - val_accuracy: 0.9647\n",
            "Epoch 210/400\n",
            "94/94 [==============================] - 0s 2ms/step - loss: 0.0897 - accuracy: 0.9712 - val_loss: 0.1146 - val_accuracy: 0.9653\n",
            "Epoch 211/400\n",
            "94/94 [==============================] - 0s 2ms/step - loss: 0.0895 - accuracy: 0.9708 - val_loss: 0.1154 - val_accuracy: 0.9660\n",
            "Epoch 212/400\n",
            "94/94 [==============================] - 0s 2ms/step - loss: 0.0898 - accuracy: 0.9707 - val_loss: 0.1146 - val_accuracy: 0.9667\n",
            "Epoch 213/400\n",
            "94/94 [==============================] - 0s 2ms/step - loss: 0.0894 - accuracy: 0.9708 - val_loss: 0.1146 - val_accuracy: 0.9657\n",
            "Epoch 214/400\n",
            "94/94 [==============================] - 0s 2ms/step - loss: 0.0893 - accuracy: 0.9706 - val_loss: 0.1131 - val_accuracy: 0.9663\n",
            "Epoch 215/400\n",
            "94/94 [==============================] - 0s 2ms/step - loss: 0.0894 - accuracy: 0.9712 - val_loss: 0.1132 - val_accuracy: 0.9653\n",
            "Epoch 216/400\n",
            "94/94 [==============================] - 0s 2ms/step - loss: 0.0890 - accuracy: 0.9699 - val_loss: 0.1147 - val_accuracy: 0.9673\n",
            "Epoch 217/400\n",
            "94/94 [==============================] - 0s 2ms/step - loss: 0.0891 - accuracy: 0.9708 - val_loss: 0.1131 - val_accuracy: 0.9660\n",
            "Epoch 218/400\n",
            "94/94 [==============================] - 0s 2ms/step - loss: 0.0891 - accuracy: 0.9717 - val_loss: 0.1146 - val_accuracy: 0.9660\n",
            "Epoch 219/400\n",
            "94/94 [==============================] - 0s 2ms/step - loss: 0.0889 - accuracy: 0.9707 - val_loss: 0.1144 - val_accuracy: 0.9667\n",
            "Epoch 220/400\n",
            "94/94 [==============================] - 0s 2ms/step - loss: 0.0888 - accuracy: 0.9708 - val_loss: 0.1156 - val_accuracy: 0.9663\n",
            "Epoch 221/400\n",
            "94/94 [==============================] - 0s 3ms/step - loss: 0.0886 - accuracy: 0.9712 - val_loss: 0.1156 - val_accuracy: 0.9663\n",
            "Epoch 222/400\n",
            "94/94 [==============================] - 0s 2ms/step - loss: 0.0887 - accuracy: 0.9712 - val_loss: 0.1158 - val_accuracy: 0.9660\n",
            "Epoch 223/400\n",
            "94/94 [==============================] - 0s 2ms/step - loss: 0.0889 - accuracy: 0.9698 - val_loss: 0.1149 - val_accuracy: 0.9660\n",
            "Epoch 224/400\n",
            "94/94 [==============================] - 0s 2ms/step - loss: 0.0884 - accuracy: 0.9713 - val_loss: 0.1156 - val_accuracy: 0.9660\n",
            "Epoch 225/400\n",
            "94/94 [==============================] - 0s 2ms/step - loss: 0.0879 - accuracy: 0.9709 - val_loss: 0.1151 - val_accuracy: 0.9663\n",
            "Epoch 226/400\n",
            "94/94 [==============================] - 0s 3ms/step - loss: 0.0884 - accuracy: 0.9710 - val_loss: 0.1146 - val_accuracy: 0.9653\n",
            "Epoch 227/400\n",
            "94/94 [==============================] - 0s 2ms/step - loss: 0.0884 - accuracy: 0.9705 - val_loss: 0.1144 - val_accuracy: 0.9660\n",
            "Epoch 228/400\n",
            "94/94 [==============================] - 0s 3ms/step - loss: 0.0879 - accuracy: 0.9710 - val_loss: 0.1150 - val_accuracy: 0.9670\n",
            "Epoch 229/400\n",
            "94/94 [==============================] - 0s 2ms/step - loss: 0.0878 - accuracy: 0.9707 - val_loss: 0.1143 - val_accuracy: 0.9657\n",
            "Epoch 230/400\n",
            "94/94 [==============================] - 0s 2ms/step - loss: 0.0875 - accuracy: 0.9708 - val_loss: 0.1150 - val_accuracy: 0.9660\n",
            "Epoch 231/400\n",
            "94/94 [==============================] - 0s 2ms/step - loss: 0.0880 - accuracy: 0.9711 - val_loss: 0.1148 - val_accuracy: 0.9657\n",
            "Epoch 232/400\n",
            "94/94 [==============================] - 0s 3ms/step - loss: 0.0873 - accuracy: 0.9709 - val_loss: 0.1162 - val_accuracy: 0.9653\n",
            "Epoch 233/400\n",
            "94/94 [==============================] - 0s 2ms/step - loss: 0.0875 - accuracy: 0.9709 - val_loss: 0.1156 - val_accuracy: 0.9650\n",
            "Epoch 234/400\n",
            "94/94 [==============================] - 0s 2ms/step - loss: 0.0876 - accuracy: 0.9706 - val_loss: 0.1147 - val_accuracy: 0.9667\n",
            "Epoch 235/400\n",
            "94/94 [==============================] - 0s 2ms/step - loss: 0.0872 - accuracy: 0.9712 - val_loss: 0.1145 - val_accuracy: 0.9660\n",
            "Epoch 236/400\n",
            "94/94 [==============================] - 0s 2ms/step - loss: 0.0870 - accuracy: 0.9710 - val_loss: 0.1157 - val_accuracy: 0.9653\n",
            "Epoch 237/400\n",
            "94/94 [==============================] - 0s 2ms/step - loss: 0.0868 - accuracy: 0.9713 - val_loss: 0.1152 - val_accuracy: 0.9673\n",
            "Epoch 238/400\n",
            "94/94 [==============================] - 0s 2ms/step - loss: 0.0869 - accuracy: 0.9712 - val_loss: 0.1155 - val_accuracy: 0.9653\n",
            "Epoch 239/400\n",
            "94/94 [==============================] - 0s 2ms/step - loss: 0.0868 - accuracy: 0.9707 - val_loss: 0.1167 - val_accuracy: 0.9650\n",
            "Epoch 240/400\n",
            "94/94 [==============================] - 0s 2ms/step - loss: 0.0866 - accuracy: 0.9709 - val_loss: 0.1177 - val_accuracy: 0.9647\n",
            "Epoch 241/400\n",
            "94/94 [==============================] - 0s 2ms/step - loss: 0.0865 - accuracy: 0.9706 - val_loss: 0.1157 - val_accuracy: 0.9680\n",
            "Epoch 242/400\n",
            "94/94 [==============================] - 0s 3ms/step - loss: 0.0863 - accuracy: 0.9713 - val_loss: 0.1162 - val_accuracy: 0.9657\n",
            "Epoch 243/400\n",
            "94/94 [==============================] - 0s 2ms/step - loss: 0.0864 - accuracy: 0.9706 - val_loss: 0.1163 - val_accuracy: 0.9653\n",
            "Epoch 244/400\n",
            "94/94 [==============================] - 0s 3ms/step - loss: 0.0862 - accuracy: 0.9710 - val_loss: 0.1150 - val_accuracy: 0.9670\n",
            "Epoch 245/400\n",
            "94/94 [==============================] - 0s 3ms/step - loss: 0.0861 - accuracy: 0.9715 - val_loss: 0.1156 - val_accuracy: 0.9657\n",
            "Epoch 246/400\n",
            "94/94 [==============================] - 0s 4ms/step - loss: 0.0861 - accuracy: 0.9711 - val_loss: 0.1149 - val_accuracy: 0.9673\n",
            "Epoch 247/400\n",
            "94/94 [==============================] - 0s 3ms/step - loss: 0.0864 - accuracy: 0.9710 - val_loss: 0.1148 - val_accuracy: 0.9667\n",
            "Epoch 248/400\n",
            "94/94 [==============================] - 0s 3ms/step - loss: 0.0860 - accuracy: 0.9711 - val_loss: 0.1155 - val_accuracy: 0.9653\n",
            "Epoch 249/400\n",
            "94/94 [==============================] - 0s 3ms/step - loss: 0.0859 - accuracy: 0.9711 - val_loss: 0.1150 - val_accuracy: 0.9670\n",
            "Epoch 250/400\n",
            "94/94 [==============================] - 0s 3ms/step - loss: 0.0854 - accuracy: 0.9716 - val_loss: 0.1148 - val_accuracy: 0.9650\n",
            "Epoch 251/400\n",
            "94/94 [==============================] - 0s 3ms/step - loss: 0.0857 - accuracy: 0.9717 - val_loss: 0.1167 - val_accuracy: 0.9657\n",
            "Epoch 252/400\n",
            "94/94 [==============================] - 0s 2ms/step - loss: 0.0851 - accuracy: 0.9719 - val_loss: 0.1148 - val_accuracy: 0.9673\n",
            "Epoch 253/400\n",
            "94/94 [==============================] - 0s 2ms/step - loss: 0.0853 - accuracy: 0.9711 - val_loss: 0.1166 - val_accuracy: 0.9657\n",
            "Epoch 254/400\n",
            "94/94 [==============================] - 0s 3ms/step - loss: 0.0855 - accuracy: 0.9712 - val_loss: 0.1150 - val_accuracy: 0.9663\n",
            "Epoch 255/400\n",
            "94/94 [==============================] - 0s 2ms/step - loss: 0.0847 - accuracy: 0.9716 - val_loss: 0.1189 - val_accuracy: 0.9660\n",
            "Epoch 256/400\n",
            "94/94 [==============================] - 0s 3ms/step - loss: 0.0851 - accuracy: 0.9718 - val_loss: 0.1165 - val_accuracy: 0.9657\n",
            "Epoch 257/400\n",
            "94/94 [==============================] - 0s 3ms/step - loss: 0.0847 - accuracy: 0.9708 - val_loss: 0.1158 - val_accuracy: 0.9653\n",
            "Epoch 258/400\n",
            "94/94 [==============================] - 0s 2ms/step - loss: 0.0849 - accuracy: 0.9716 - val_loss: 0.1157 - val_accuracy: 0.9657\n",
            "Epoch 259/400\n",
            "94/94 [==============================] - 0s 2ms/step - loss: 0.0847 - accuracy: 0.9717 - val_loss: 0.1160 - val_accuracy: 0.9653\n",
            "Epoch 260/400\n",
            "94/94 [==============================] - 0s 3ms/step - loss: 0.0847 - accuracy: 0.9722 - val_loss: 0.1154 - val_accuracy: 0.9657\n",
            "Epoch 261/400\n",
            "94/94 [==============================] - 0s 3ms/step - loss: 0.0843 - accuracy: 0.9714 - val_loss: 0.1160 - val_accuracy: 0.9653\n",
            "Epoch 262/400\n",
            "94/94 [==============================] - 0s 2ms/step - loss: 0.0847 - accuracy: 0.9722 - val_loss: 0.1155 - val_accuracy: 0.9657\n",
            "Epoch 263/400\n",
            "94/94 [==============================] - 0s 3ms/step - loss: 0.0843 - accuracy: 0.9720 - val_loss: 0.1156 - val_accuracy: 0.9663\n",
            "Epoch 264/400\n",
            "94/94 [==============================] - 0s 2ms/step - loss: 0.0844 - accuracy: 0.9717 - val_loss: 0.1161 - val_accuracy: 0.9660\n",
            "Epoch 265/400\n",
            "94/94 [==============================] - 0s 2ms/step - loss: 0.0843 - accuracy: 0.9713 - val_loss: 0.1166 - val_accuracy: 0.9653\n",
            "Epoch 266/400\n",
            "94/94 [==============================] - 0s 2ms/step - loss: 0.0842 - accuracy: 0.9720 - val_loss: 0.1158 - val_accuracy: 0.9657\n",
            "Epoch 267/400\n",
            "94/94 [==============================] - 0s 3ms/step - loss: 0.0837 - accuracy: 0.9722 - val_loss: 0.1156 - val_accuracy: 0.9663\n",
            "Epoch 268/400\n",
            "94/94 [==============================] - 0s 3ms/step - loss: 0.0840 - accuracy: 0.9711 - val_loss: 0.1156 - val_accuracy: 0.9653\n",
            "Epoch 269/400\n",
            "94/94 [==============================] - 0s 2ms/step - loss: 0.0837 - accuracy: 0.9724 - val_loss: 0.1163 - val_accuracy: 0.9657\n",
            "Epoch 270/400\n",
            "94/94 [==============================] - 0s 2ms/step - loss: 0.0844 - accuracy: 0.9712 - val_loss: 0.1154 - val_accuracy: 0.9650\n",
            "Epoch 271/400\n",
            "94/94 [==============================] - 0s 2ms/step - loss: 0.0841 - accuracy: 0.9717 - val_loss: 0.1167 - val_accuracy: 0.9667\n",
            "Epoch 272/400\n",
            "94/94 [==============================] - 0s 2ms/step - loss: 0.0838 - accuracy: 0.9721 - val_loss: 0.1159 - val_accuracy: 0.9653\n",
            "Epoch 273/400\n",
            "94/94 [==============================] - 0s 2ms/step - loss: 0.0840 - accuracy: 0.9719 - val_loss: 0.1178 - val_accuracy: 0.9653\n",
            "Epoch 274/400\n",
            "94/94 [==============================] - 0s 2ms/step - loss: 0.0837 - accuracy: 0.9717 - val_loss: 0.1158 - val_accuracy: 0.9647\n",
            "Epoch 275/400\n",
            "94/94 [==============================] - 0s 2ms/step - loss: 0.0841 - accuracy: 0.9714 - val_loss: 0.1158 - val_accuracy: 0.9650\n",
            "Epoch 276/400\n",
            "94/94 [==============================] - 0s 2ms/step - loss: 0.0838 - accuracy: 0.9716 - val_loss: 0.1170 - val_accuracy: 0.9643\n",
            "Epoch 277/400\n",
            "94/94 [==============================] - 0s 2ms/step - loss: 0.0839 - accuracy: 0.9719 - val_loss: 0.1163 - val_accuracy: 0.9650\n",
            "Epoch 278/400\n",
            "94/94 [==============================] - 0s 2ms/step - loss: 0.0836 - accuracy: 0.9715 - val_loss: 0.1161 - val_accuracy: 0.9657\n",
            "Epoch 279/400\n",
            "94/94 [==============================] - 0s 2ms/step - loss: 0.0837 - accuracy: 0.9712 - val_loss: 0.1156 - val_accuracy: 0.9657\n",
            "Epoch 280/400\n",
            "94/94 [==============================] - 0s 2ms/step - loss: 0.0832 - accuracy: 0.9724 - val_loss: 0.1166 - val_accuracy: 0.9633\n",
            "Epoch 281/400\n",
            "94/94 [==============================] - 0s 2ms/step - loss: 0.0836 - accuracy: 0.9720 - val_loss: 0.1163 - val_accuracy: 0.9650\n",
            "Epoch 282/400\n",
            "94/94 [==============================] - 0s 2ms/step - loss: 0.0830 - accuracy: 0.9717 - val_loss: 0.1182 - val_accuracy: 0.9670\n",
            "Epoch 283/400\n",
            "94/94 [==============================] - 0s 2ms/step - loss: 0.0835 - accuracy: 0.9725 - val_loss: 0.1155 - val_accuracy: 0.9647\n",
            "Epoch 284/400\n",
            "94/94 [==============================] - 0s 2ms/step - loss: 0.0833 - accuracy: 0.9718 - val_loss: 0.1177 - val_accuracy: 0.9617\n",
            "Epoch 285/400\n",
            "94/94 [==============================] - 0s 2ms/step - loss: 0.0829 - accuracy: 0.9714 - val_loss: 0.1167 - val_accuracy: 0.9640\n",
            "Epoch 286/400\n",
            "94/94 [==============================] - 0s 2ms/step - loss: 0.0832 - accuracy: 0.9722 - val_loss: 0.1159 - val_accuracy: 0.9647\n",
            "Epoch 287/400\n",
            "94/94 [==============================] - 0s 2ms/step - loss: 0.0830 - accuracy: 0.9726 - val_loss: 0.1160 - val_accuracy: 0.9647\n",
            "Epoch 288/400\n",
            "94/94 [==============================] - 0s 2ms/step - loss: 0.0829 - accuracy: 0.9722 - val_loss: 0.1202 - val_accuracy: 0.9650\n",
            "Epoch 289/400\n",
            "94/94 [==============================] - 0s 3ms/step - loss: 0.0831 - accuracy: 0.9726 - val_loss: 0.1169 - val_accuracy: 0.9627\n",
            "Epoch 290/400\n",
            "94/94 [==============================] - 0s 2ms/step - loss: 0.0828 - accuracy: 0.9722 - val_loss: 0.1165 - val_accuracy: 0.9643\n",
            "Epoch 291/400\n",
            "94/94 [==============================] - 0s 3ms/step - loss: 0.0826 - accuracy: 0.9725 - val_loss: 0.1184 - val_accuracy: 0.9623\n",
            "Epoch 292/400\n",
            "94/94 [==============================] - 0s 2ms/step - loss: 0.0828 - accuracy: 0.9715 - val_loss: 0.1159 - val_accuracy: 0.9643\n",
            "Epoch 293/400\n",
            "94/94 [==============================] - 0s 2ms/step - loss: 0.0831 - accuracy: 0.9722 - val_loss: 0.1172 - val_accuracy: 0.9633\n",
            "Epoch 294/400\n",
            "94/94 [==============================] - 0s 2ms/step - loss: 0.0824 - accuracy: 0.9722 - val_loss: 0.1156 - val_accuracy: 0.9657\n",
            "Epoch 295/400\n",
            "94/94 [==============================] - 0s 3ms/step - loss: 0.0822 - accuracy: 0.9719 - val_loss: 0.1167 - val_accuracy: 0.9653\n",
            "Epoch 296/400\n",
            "94/94 [==============================] - 0s 3ms/step - loss: 0.0822 - accuracy: 0.9719 - val_loss: 0.1160 - val_accuracy: 0.9657\n",
            "Epoch 297/400\n",
            "94/94 [==============================] - 0s 3ms/step - loss: 0.0819 - accuracy: 0.9724 - val_loss: 0.1156 - val_accuracy: 0.9660\n",
            "Epoch 298/400\n",
            "94/94 [==============================] - 0s 3ms/step - loss: 0.0823 - accuracy: 0.9727 - val_loss: 0.1165 - val_accuracy: 0.9653\n",
            "Epoch 299/400\n",
            "94/94 [==============================] - 0s 3ms/step - loss: 0.0821 - accuracy: 0.9727 - val_loss: 0.1180 - val_accuracy: 0.9653\n",
            "Epoch 300/400\n",
            "94/94 [==============================] - 0s 3ms/step - loss: 0.0824 - accuracy: 0.9723 - val_loss: 0.1181 - val_accuracy: 0.9670\n",
            "Epoch 301/400\n",
            "94/94 [==============================] - 0s 3ms/step - loss: 0.0824 - accuracy: 0.9727 - val_loss: 0.1166 - val_accuracy: 0.9637\n",
            "Epoch 302/400\n",
            "94/94 [==============================] - 0s 3ms/step - loss: 0.0822 - accuracy: 0.9724 - val_loss: 0.1166 - val_accuracy: 0.9630\n",
            "Epoch 303/400\n",
            "94/94 [==============================] - 0s 2ms/step - loss: 0.0819 - accuracy: 0.9722 - val_loss: 0.1169 - val_accuracy: 0.9647\n",
            "Epoch 304/400\n",
            "94/94 [==============================] - 0s 2ms/step - loss: 0.0822 - accuracy: 0.9727 - val_loss: 0.1163 - val_accuracy: 0.9637\n",
            "Epoch 305/400\n",
            "94/94 [==============================] - 0s 2ms/step - loss: 0.0818 - accuracy: 0.9730 - val_loss: 0.1191 - val_accuracy: 0.9637\n",
            "Epoch 306/400\n",
            "94/94 [==============================] - 0s 2ms/step - loss: 0.0818 - accuracy: 0.9729 - val_loss: 0.1196 - val_accuracy: 0.9620\n",
            "Epoch 307/400\n",
            "94/94 [==============================] - 0s 2ms/step - loss: 0.0820 - accuracy: 0.9727 - val_loss: 0.1179 - val_accuracy: 0.9630\n",
            "Epoch 308/400\n",
            "94/94 [==============================] - 0s 2ms/step - loss: 0.0813 - accuracy: 0.9721 - val_loss: 0.1189 - val_accuracy: 0.9653\n",
            "Epoch 309/400\n",
            "94/94 [==============================] - 0s 2ms/step - loss: 0.0816 - accuracy: 0.9731 - val_loss: 0.1168 - val_accuracy: 0.9647\n",
            "Epoch 310/400\n",
            "94/94 [==============================] - 0s 2ms/step - loss: 0.0817 - accuracy: 0.9731 - val_loss: 0.1182 - val_accuracy: 0.9647\n",
            "Epoch 311/400\n",
            "94/94 [==============================] - 0s 3ms/step - loss: 0.0813 - accuracy: 0.9723 - val_loss: 0.1166 - val_accuracy: 0.9653\n",
            "Epoch 312/400\n",
            "94/94 [==============================] - 0s 2ms/step - loss: 0.0814 - accuracy: 0.9727 - val_loss: 0.1158 - val_accuracy: 0.9647\n",
            "Epoch 313/400\n",
            "94/94 [==============================] - 0s 2ms/step - loss: 0.0807 - accuracy: 0.9731 - val_loss: 0.1166 - val_accuracy: 0.9657\n",
            "Epoch 314/400\n",
            "94/94 [==============================] - 0s 2ms/step - loss: 0.0816 - accuracy: 0.9722 - val_loss: 0.1176 - val_accuracy: 0.9633\n",
            "Epoch 315/400\n",
            "94/94 [==============================] - 0s 2ms/step - loss: 0.0811 - accuracy: 0.9722 - val_loss: 0.1174 - val_accuracy: 0.9660\n",
            "Epoch 316/400\n",
            "94/94 [==============================] - 0s 2ms/step - loss: 0.0814 - accuracy: 0.9728 - val_loss: 0.1182 - val_accuracy: 0.9637\n",
            "Epoch 317/400\n",
            "94/94 [==============================] - 0s 2ms/step - loss: 0.0805 - accuracy: 0.9737 - val_loss: 0.1164 - val_accuracy: 0.9647\n",
            "Epoch 318/400\n",
            "94/94 [==============================] - 0s 2ms/step - loss: 0.0807 - accuracy: 0.9726 - val_loss: 0.1161 - val_accuracy: 0.9653\n",
            "Epoch 319/400\n",
            "94/94 [==============================] - 0s 3ms/step - loss: 0.0807 - accuracy: 0.9724 - val_loss: 0.1180 - val_accuracy: 0.9650\n",
            "Epoch 320/400\n",
            "94/94 [==============================] - 0s 2ms/step - loss: 0.0802 - accuracy: 0.9736 - val_loss: 0.1168 - val_accuracy: 0.9637\n",
            "Epoch 321/400\n",
            "94/94 [==============================] - 0s 2ms/step - loss: 0.0805 - accuracy: 0.9733 - val_loss: 0.1162 - val_accuracy: 0.9647\n",
            "Epoch 322/400\n",
            "94/94 [==============================] - 0s 2ms/step - loss: 0.0803 - accuracy: 0.9736 - val_loss: 0.1177 - val_accuracy: 0.9640\n",
            "Epoch 323/400\n",
            "94/94 [==============================] - 0s 2ms/step - loss: 0.0805 - accuracy: 0.9727 - val_loss: 0.1180 - val_accuracy: 0.9643\n",
            "Epoch 324/400\n",
            "94/94 [==============================] - 0s 3ms/step - loss: 0.0800 - accuracy: 0.9727 - val_loss: 0.1179 - val_accuracy: 0.9650\n",
            "Epoch 325/400\n",
            "94/94 [==============================] - 0s 2ms/step - loss: 0.0801 - accuracy: 0.9732 - val_loss: 0.1170 - val_accuracy: 0.9647\n",
            "Epoch 326/400\n",
            "94/94 [==============================] - 0s 2ms/step - loss: 0.0799 - accuracy: 0.9728 - val_loss: 0.1211 - val_accuracy: 0.9633\n",
            "Epoch 327/400\n",
            "94/94 [==============================] - 0s 3ms/step - loss: 0.0799 - accuracy: 0.9729 - val_loss: 0.1174 - val_accuracy: 0.9653\n",
            "Epoch 328/400\n",
            "94/94 [==============================] - 0s 2ms/step - loss: 0.0795 - accuracy: 0.9728 - val_loss: 0.1186 - val_accuracy: 0.9640\n",
            "Epoch 329/400\n",
            "94/94 [==============================] - 0s 3ms/step - loss: 0.0796 - accuracy: 0.9737 - val_loss: 0.1204 - val_accuracy: 0.9637\n",
            "Epoch 330/400\n",
            "94/94 [==============================] - 0s 2ms/step - loss: 0.0796 - accuracy: 0.9725 - val_loss: 0.1173 - val_accuracy: 0.9650\n",
            "Epoch 331/400\n",
            "94/94 [==============================] - 0s 2ms/step - loss: 0.0797 - accuracy: 0.9735 - val_loss: 0.1169 - val_accuracy: 0.9630\n",
            "Epoch 332/400\n",
            "94/94 [==============================] - 0s 3ms/step - loss: 0.0794 - accuracy: 0.9736 - val_loss: 0.1169 - val_accuracy: 0.9647\n",
            "Epoch 333/400\n",
            "94/94 [==============================] - 0s 2ms/step - loss: 0.0793 - accuracy: 0.9739 - val_loss: 0.1177 - val_accuracy: 0.9650\n",
            "Epoch 334/400\n",
            "94/94 [==============================] - 0s 2ms/step - loss: 0.0795 - accuracy: 0.9734 - val_loss: 0.1170 - val_accuracy: 0.9650\n",
            "Epoch 335/400\n",
            "94/94 [==============================] - 0s 2ms/step - loss: 0.0792 - accuracy: 0.9736 - val_loss: 0.1252 - val_accuracy: 0.9620\n",
            "Epoch 336/400\n",
            "94/94 [==============================] - 0s 2ms/step - loss: 0.0784 - accuracy: 0.9736 - val_loss: 0.1192 - val_accuracy: 0.9633\n",
            "Epoch 337/400\n",
            "94/94 [==============================] - 0s 2ms/step - loss: 0.0790 - accuracy: 0.9734 - val_loss: 0.1188 - val_accuracy: 0.9647\n",
            "Epoch 338/400\n",
            "94/94 [==============================] - 0s 2ms/step - loss: 0.0789 - accuracy: 0.9740 - val_loss: 0.1192 - val_accuracy: 0.9627\n",
            "Epoch 339/400\n",
            "94/94 [==============================] - 0s 2ms/step - loss: 0.0789 - accuracy: 0.9737 - val_loss: 0.1173 - val_accuracy: 0.9647\n",
            "Epoch 340/400\n",
            "94/94 [==============================] - 0s 2ms/step - loss: 0.0788 - accuracy: 0.9727 - val_loss: 0.1179 - val_accuracy: 0.9627\n",
            "Epoch 341/400\n",
            "94/94 [==============================] - 0s 3ms/step - loss: 0.0786 - accuracy: 0.9740 - val_loss: 0.1192 - val_accuracy: 0.9643\n",
            "Epoch 342/400\n",
            "94/94 [==============================] - 0s 2ms/step - loss: 0.0784 - accuracy: 0.9738 - val_loss: 0.1166 - val_accuracy: 0.9650\n",
            "Epoch 343/400\n",
            "94/94 [==============================] - 0s 2ms/step - loss: 0.0785 - accuracy: 0.9743 - val_loss: 0.1191 - val_accuracy: 0.9650\n",
            "Epoch 344/400\n",
            "94/94 [==============================] - 0s 2ms/step - loss: 0.0783 - accuracy: 0.9736 - val_loss: 0.1191 - val_accuracy: 0.9640\n",
            "Epoch 345/400\n",
            "94/94 [==============================] - 0s 2ms/step - loss: 0.0781 - accuracy: 0.9746 - val_loss: 0.1184 - val_accuracy: 0.9620\n",
            "Epoch 346/400\n",
            "94/94 [==============================] - 0s 3ms/step - loss: 0.0783 - accuracy: 0.9742 - val_loss: 0.1168 - val_accuracy: 0.9653\n",
            "Epoch 347/400\n",
            "94/94 [==============================] - 0s 3ms/step - loss: 0.0782 - accuracy: 0.9741 - val_loss: 0.1172 - val_accuracy: 0.9640\n",
            "Epoch 348/400\n",
            "94/94 [==============================] - 0s 3ms/step - loss: 0.0785 - accuracy: 0.9747 - val_loss: 0.1187 - val_accuracy: 0.9653\n",
            "Epoch 349/400\n",
            "94/94 [==============================] - 0s 3ms/step - loss: 0.0782 - accuracy: 0.9746 - val_loss: 0.1183 - val_accuracy: 0.9653\n",
            "Epoch 350/400\n",
            "94/94 [==============================] - 0s 3ms/step - loss: 0.0781 - accuracy: 0.9742 - val_loss: 0.1177 - val_accuracy: 0.9637\n",
            "Epoch 351/400\n",
            "94/94 [==============================] - 0s 3ms/step - loss: 0.0778 - accuracy: 0.9752 - val_loss: 0.1178 - val_accuracy: 0.9643\n",
            "Epoch 352/400\n",
            "94/94 [==============================] - 0s 3ms/step - loss: 0.0782 - accuracy: 0.9733 - val_loss: 0.1187 - val_accuracy: 0.9640\n",
            "Epoch 353/400\n",
            "94/94 [==============================] - 0s 2ms/step - loss: 0.0782 - accuracy: 0.9742 - val_loss: 0.1179 - val_accuracy: 0.9663\n",
            "Epoch 354/400\n",
            "94/94 [==============================] - 0s 2ms/step - loss: 0.0774 - accuracy: 0.9751 - val_loss: 0.1178 - val_accuracy: 0.9653\n",
            "Epoch 355/400\n",
            "94/94 [==============================] - 0s 2ms/step - loss: 0.0779 - accuracy: 0.9752 - val_loss: 0.1186 - val_accuracy: 0.9660\n",
            "Epoch 356/400\n",
            "94/94 [==============================] - 0s 2ms/step - loss: 0.0779 - accuracy: 0.9740 - val_loss: 0.1178 - val_accuracy: 0.9637\n",
            "Epoch 357/400\n",
            "94/94 [==============================] - 0s 2ms/step - loss: 0.0781 - accuracy: 0.9750 - val_loss: 0.1173 - val_accuracy: 0.9650\n",
            "Epoch 358/400\n",
            "94/94 [==============================] - 0s 2ms/step - loss: 0.0778 - accuracy: 0.9749 - val_loss: 0.1176 - val_accuracy: 0.9660\n",
            "Epoch 359/400\n",
            "94/94 [==============================] - 0s 2ms/step - loss: 0.0772 - accuracy: 0.9748 - val_loss: 0.1174 - val_accuracy: 0.9643\n",
            "Epoch 360/400\n",
            "94/94 [==============================] - 0s 2ms/step - loss: 0.0777 - accuracy: 0.9752 - val_loss: 0.1159 - val_accuracy: 0.9657\n",
            "Epoch 361/400\n",
            "94/94 [==============================] - 0s 2ms/step - loss: 0.0775 - accuracy: 0.9742 - val_loss: 0.1186 - val_accuracy: 0.9647\n",
            "Epoch 362/400\n",
            "94/94 [==============================] - 0s 2ms/step - loss: 0.0772 - accuracy: 0.9747 - val_loss: 0.1181 - val_accuracy: 0.9643\n",
            "Epoch 363/400\n",
            "94/94 [==============================] - 0s 2ms/step - loss: 0.0772 - accuracy: 0.9752 - val_loss: 0.1191 - val_accuracy: 0.9623\n",
            "Epoch 364/400\n",
            "94/94 [==============================] - 0s 2ms/step - loss: 0.0773 - accuracy: 0.9745 - val_loss: 0.1181 - val_accuracy: 0.9643\n",
            "Epoch 365/400\n",
            "94/94 [==============================] - 0s 2ms/step - loss: 0.0773 - accuracy: 0.9742 - val_loss: 0.1193 - val_accuracy: 0.9643\n",
            "Epoch 366/400\n",
            "94/94 [==============================] - 0s 2ms/step - loss: 0.0770 - accuracy: 0.9748 - val_loss: 0.1163 - val_accuracy: 0.9660\n",
            "Epoch 367/400\n",
            "94/94 [==============================] - 0s 2ms/step - loss: 0.0770 - accuracy: 0.9756 - val_loss: 0.1192 - val_accuracy: 0.9643\n",
            "Epoch 368/400\n",
            "94/94 [==============================] - 0s 2ms/step - loss: 0.0774 - accuracy: 0.9757 - val_loss: 0.1170 - val_accuracy: 0.9650\n",
            "Epoch 369/400\n",
            "94/94 [==============================] - 0s 2ms/step - loss: 0.0772 - accuracy: 0.9750 - val_loss: 0.1179 - val_accuracy: 0.9657\n",
            "Epoch 370/400\n",
            "94/94 [==============================] - 0s 2ms/step - loss: 0.0772 - accuracy: 0.9752 - val_loss: 0.1196 - val_accuracy: 0.9650\n",
            "Epoch 371/400\n",
            "94/94 [==============================] - 0s 2ms/step - loss: 0.0771 - accuracy: 0.9750 - val_loss: 0.1173 - val_accuracy: 0.9653\n",
            "Epoch 372/400\n",
            "94/94 [==============================] - 0s 2ms/step - loss: 0.0770 - accuracy: 0.9752 - val_loss: 0.1190 - val_accuracy: 0.9640\n",
            "Epoch 373/400\n",
            "94/94 [==============================] - 0s 2ms/step - loss: 0.0771 - accuracy: 0.9751 - val_loss: 0.1199 - val_accuracy: 0.9657\n",
            "Epoch 374/400\n",
            "94/94 [==============================] - 0s 2ms/step - loss: 0.0772 - accuracy: 0.9757 - val_loss: 0.1188 - val_accuracy: 0.9647\n",
            "Epoch 375/400\n",
            "94/94 [==============================] - 0s 2ms/step - loss: 0.0770 - accuracy: 0.9757 - val_loss: 0.1178 - val_accuracy: 0.9643\n",
            "Epoch 376/400\n",
            "94/94 [==============================] - 0s 2ms/step - loss: 0.0771 - accuracy: 0.9754 - val_loss: 0.1175 - val_accuracy: 0.9640\n",
            "Epoch 377/400\n",
            "94/94 [==============================] - 0s 2ms/step - loss: 0.0770 - accuracy: 0.9756 - val_loss: 0.1175 - val_accuracy: 0.9653\n",
            "Epoch 378/400\n",
            "94/94 [==============================] - 0s 2ms/step - loss: 0.0766 - accuracy: 0.9758 - val_loss: 0.1188 - val_accuracy: 0.9637\n",
            "Epoch 379/400\n",
            "94/94 [==============================] - 0s 2ms/step - loss: 0.0768 - accuracy: 0.9760 - val_loss: 0.1182 - val_accuracy: 0.9647\n",
            "Epoch 380/400\n",
            "94/94 [==============================] - 0s 2ms/step - loss: 0.0763 - accuracy: 0.9755 - val_loss: 0.1180 - val_accuracy: 0.9667\n",
            "Epoch 381/400\n",
            "94/94 [==============================] - 0s 3ms/step - loss: 0.0765 - accuracy: 0.9750 - val_loss: 0.1180 - val_accuracy: 0.9637\n",
            "Epoch 382/400\n",
            "94/94 [==============================] - 0s 3ms/step - loss: 0.0767 - accuracy: 0.9749 - val_loss: 0.1197 - val_accuracy: 0.9637\n",
            "Epoch 383/400\n",
            "94/94 [==============================] - 0s 2ms/step - loss: 0.0771 - accuracy: 0.9749 - val_loss: 0.1212 - val_accuracy: 0.9640\n",
            "Epoch 384/400\n",
            "94/94 [==============================] - 0s 2ms/step - loss: 0.0763 - accuracy: 0.9746 - val_loss: 0.1180 - val_accuracy: 0.9640\n",
            "Epoch 385/400\n",
            "94/94 [==============================] - 0s 2ms/step - loss: 0.0764 - accuracy: 0.9756 - val_loss: 0.1191 - val_accuracy: 0.9647\n",
            "Epoch 386/400\n",
            "94/94 [==============================] - 0s 2ms/step - loss: 0.0764 - accuracy: 0.9757 - val_loss: 0.1163 - val_accuracy: 0.9653\n",
            "Epoch 387/400\n",
            "94/94 [==============================] - 0s 2ms/step - loss: 0.0765 - accuracy: 0.9752 - val_loss: 0.1171 - val_accuracy: 0.9647\n",
            "Epoch 388/400\n",
            "94/94 [==============================] - 0s 2ms/step - loss: 0.0762 - accuracy: 0.9752 - val_loss: 0.1192 - val_accuracy: 0.9647\n",
            "Epoch 389/400\n",
            "94/94 [==============================] - 0s 3ms/step - loss: 0.0763 - accuracy: 0.9765 - val_loss: 0.1214 - val_accuracy: 0.9637\n",
            "Epoch 390/400\n",
            "94/94 [==============================] - 0s 2ms/step - loss: 0.0758 - accuracy: 0.9757 - val_loss: 0.1177 - val_accuracy: 0.9640\n",
            "Epoch 391/400\n",
            "94/94 [==============================] - 0s 2ms/step - loss: 0.0763 - accuracy: 0.9759 - val_loss: 0.1201 - val_accuracy: 0.9643\n",
            "Epoch 392/400\n",
            "94/94 [==============================] - 0s 3ms/step - loss: 0.0762 - accuracy: 0.9762 - val_loss: 0.1177 - val_accuracy: 0.9650\n",
            "Epoch 393/400\n",
            "94/94 [==============================] - 0s 2ms/step - loss: 0.0764 - accuracy: 0.9757 - val_loss: 0.1187 - val_accuracy: 0.9643\n",
            "Epoch 394/400\n",
            "94/94 [==============================] - 0s 2ms/step - loss: 0.0759 - accuracy: 0.9757 - val_loss: 0.1185 - val_accuracy: 0.9643\n",
            "Epoch 395/400\n",
            "94/94 [==============================] - 0s 2ms/step - loss: 0.0759 - accuracy: 0.9757 - val_loss: 0.1195 - val_accuracy: 0.9627\n",
            "Epoch 396/400\n",
            "94/94 [==============================] - 0s 2ms/step - loss: 0.0762 - accuracy: 0.9754 - val_loss: 0.1202 - val_accuracy: 0.9660\n",
            "Epoch 397/400\n",
            "94/94 [==============================] - 0s 2ms/step - loss: 0.0761 - accuracy: 0.9765 - val_loss: 0.1221 - val_accuracy: 0.9640\n",
            "Epoch 398/400\n",
            "94/94 [==============================] - 0s 3ms/step - loss: 0.0756 - accuracy: 0.9760 - val_loss: 0.1176 - val_accuracy: 0.9640\n",
            "Epoch 399/400\n",
            "94/94 [==============================] - 0s 3ms/step - loss: 0.0763 - accuracy: 0.9755 - val_loss: 0.1192 - val_accuracy: 0.9650\n",
            "Epoch 400/400\n",
            "94/94 [==============================] - 0s 3ms/step - loss: 0.0758 - accuracy: 0.9762 - val_loss: 0.1209 - val_accuracy: 0.9653\n"
          ]
        },
        {
          "output_type": "execute_result",
          "data": {
            "text/plain": [
              "<keras.callbacks.History at 0x7fadfc36bdf0>"
            ]
          },
          "metadata": {},
          "execution_count": 53
        }
      ]
    },
    {
      "cell_type": "markdown",
      "source": [
        "Model Evaluation"
      ],
      "metadata": {
        "id": "Wk7ZlslJ-p4B"
      }
    },
    {
      "cell_type": "code",
      "source": [
        "loss_df=pd.DataFrame(model.history.history)\n",
        "loss_df.tail()"
      ],
      "metadata": {
        "colab": {
          "base_uri": "https://localhost:8080/",
          "height": 206
        },
        "id": "2bTj3yP_-rTb",
        "outputId": "ec532cb8-8031-4298-d714-f959c96c5486"
      },
      "execution_count": 54,
      "outputs": [
        {
          "output_type": "execute_result",
          "data": {
            "text/plain": [
              "         loss  accuracy  val_loss  val_accuracy\n",
              "395  0.076234  0.975415  0.120210      0.966000\n",
              "396  0.076077  0.976498  0.122127      0.964000\n",
              "397  0.075640  0.975998  0.117591      0.964000\n",
              "398  0.076320  0.975498  0.119150      0.965000\n",
              "399  0.075803  0.976248  0.120894      0.965333"
            ],
            "text/html": [
              "\n",
              "  <div id=\"df-727a0bf6-2a1c-478e-a8d8-e41c4b5ec93b\">\n",
              "    <div class=\"colab-df-container\">\n",
              "      <div>\n",
              "<style scoped>\n",
              "    .dataframe tbody tr th:only-of-type {\n",
              "        vertical-align: middle;\n",
              "    }\n",
              "\n",
              "    .dataframe tbody tr th {\n",
              "        vertical-align: top;\n",
              "    }\n",
              "\n",
              "    .dataframe thead th {\n",
              "        text-align: right;\n",
              "    }\n",
              "</style>\n",
              "<table border=\"1\" class=\"dataframe\">\n",
              "  <thead>\n",
              "    <tr style=\"text-align: right;\">\n",
              "      <th></th>\n",
              "      <th>loss</th>\n",
              "      <th>accuracy</th>\n",
              "      <th>val_loss</th>\n",
              "      <th>val_accuracy</th>\n",
              "    </tr>\n",
              "  </thead>\n",
              "  <tbody>\n",
              "    <tr>\n",
              "      <th>395</th>\n",
              "      <td>0.076234</td>\n",
              "      <td>0.975415</td>\n",
              "      <td>0.120210</td>\n",
              "      <td>0.966000</td>\n",
              "    </tr>\n",
              "    <tr>\n",
              "      <th>396</th>\n",
              "      <td>0.076077</td>\n",
              "      <td>0.976498</td>\n",
              "      <td>0.122127</td>\n",
              "      <td>0.964000</td>\n",
              "    </tr>\n",
              "    <tr>\n",
              "      <th>397</th>\n",
              "      <td>0.075640</td>\n",
              "      <td>0.975998</td>\n",
              "      <td>0.117591</td>\n",
              "      <td>0.964000</td>\n",
              "    </tr>\n",
              "    <tr>\n",
              "      <th>398</th>\n",
              "      <td>0.076320</td>\n",
              "      <td>0.975498</td>\n",
              "      <td>0.119150</td>\n",
              "      <td>0.965000</td>\n",
              "    </tr>\n",
              "    <tr>\n",
              "      <th>399</th>\n",
              "      <td>0.075803</td>\n",
              "      <td>0.976248</td>\n",
              "      <td>0.120894</td>\n",
              "      <td>0.965333</td>\n",
              "    </tr>\n",
              "  </tbody>\n",
              "</table>\n",
              "</div>\n",
              "      <button class=\"colab-df-convert\" onclick=\"convertToInteractive('df-727a0bf6-2a1c-478e-a8d8-e41c4b5ec93b')\"\n",
              "              title=\"Convert this dataframe to an interactive table.\"\n",
              "              style=\"display:none;\">\n",
              "        \n",
              "  <svg xmlns=\"http://www.w3.org/2000/svg\" height=\"24px\"viewBox=\"0 0 24 24\"\n",
              "       width=\"24px\">\n",
              "    <path d=\"M0 0h24v24H0V0z\" fill=\"none\"/>\n",
              "    <path d=\"M18.56 5.44l.94 2.06.94-2.06 2.06-.94-2.06-.94-.94-2.06-.94 2.06-2.06.94zm-11 1L8.5 8.5l.94-2.06 2.06-.94-2.06-.94L8.5 2.5l-.94 2.06-2.06.94zm10 10l.94 2.06.94-2.06 2.06-.94-2.06-.94-.94-2.06-.94 2.06-2.06.94z\"/><path d=\"M17.41 7.96l-1.37-1.37c-.4-.4-.92-.59-1.43-.59-.52 0-1.04.2-1.43.59L10.3 9.45l-7.72 7.72c-.78.78-.78 2.05 0 2.83L4 21.41c.39.39.9.59 1.41.59.51 0 1.02-.2 1.41-.59l7.78-7.78 2.81-2.81c.8-.78.8-2.07 0-2.86zM5.41 20L4 18.59l7.72-7.72 1.47 1.35L5.41 20z\"/>\n",
              "  </svg>\n",
              "      </button>\n",
              "      \n",
              "  <style>\n",
              "    .colab-df-container {\n",
              "      display:flex;\n",
              "      flex-wrap:wrap;\n",
              "      gap: 12px;\n",
              "    }\n",
              "\n",
              "    .colab-df-convert {\n",
              "      background-color: #E8F0FE;\n",
              "      border: none;\n",
              "      border-radius: 50%;\n",
              "      cursor: pointer;\n",
              "      display: none;\n",
              "      fill: #1967D2;\n",
              "      height: 32px;\n",
              "      padding: 0 0 0 0;\n",
              "      width: 32px;\n",
              "    }\n",
              "\n",
              "    .colab-df-convert:hover {\n",
              "      background-color: #E2EBFA;\n",
              "      box-shadow: 0px 1px 2px rgba(60, 64, 67, 0.3), 0px 1px 3px 1px rgba(60, 64, 67, 0.15);\n",
              "      fill: #174EA6;\n",
              "    }\n",
              "\n",
              "    [theme=dark] .colab-df-convert {\n",
              "      background-color: #3B4455;\n",
              "      fill: #D2E3FC;\n",
              "    }\n",
              "\n",
              "    [theme=dark] .colab-df-convert:hover {\n",
              "      background-color: #434B5C;\n",
              "      box-shadow: 0px 1px 3px 1px rgba(0, 0, 0, 0.15);\n",
              "      filter: drop-shadow(0px 1px 2px rgba(0, 0, 0, 0.3));\n",
              "      fill: #FFFFFF;\n",
              "    }\n",
              "  </style>\n",
              "\n",
              "      <script>\n",
              "        const buttonEl =\n",
              "          document.querySelector('#df-727a0bf6-2a1c-478e-a8d8-e41c4b5ec93b button.colab-df-convert');\n",
              "        buttonEl.style.display =\n",
              "          google.colab.kernel.accessAllowed ? 'block' : 'none';\n",
              "\n",
              "        async function convertToInteractive(key) {\n",
              "          const element = document.querySelector('#df-727a0bf6-2a1c-478e-a8d8-e41c4b5ec93b');\n",
              "          const dataTable =\n",
              "            await google.colab.kernel.invokeFunction('convertToInteractive',\n",
              "                                                     [key], {});\n",
              "          if (!dataTable) return;\n",
              "\n",
              "          const docLinkHtml = 'Like what you see? Visit the ' +\n",
              "            '<a target=\"_blank\" href=https://colab.research.google.com/notebooks/data_table.ipynb>data table notebook</a>'\n",
              "            + ' to learn more about interactive tables.';\n",
              "          element.innerHTML = '';\n",
              "          dataTable['output_type'] = 'display_data';\n",
              "          await google.colab.output.renderOutput(dataTable, element);\n",
              "          const docLink = document.createElement('div');\n",
              "          docLink.innerHTML = docLinkHtml;\n",
              "          element.appendChild(docLink);\n",
              "        }\n",
              "      </script>\n",
              "    </div>\n",
              "  </div>\n",
              "  "
            ]
          },
          "metadata": {},
          "execution_count": 54
        }
      ]
    },
    {
      "cell_type": "code",
      "source": [
        "loss_df[['loss','val_loss']].plot(legend=True)\n",
        "plt.show()"
      ],
      "metadata": {
        "colab": {
          "base_uri": "https://localhost:8080/",
          "height": 265
        },
        "id": "ih-DSy2B-5sN",
        "outputId": "acb8ccab-1b0f-441f-c75a-343feb0d35bd"
      },
      "execution_count": 55,
      "outputs": [
        {
          "output_type": "display_data",
          "data": {
            "text/plain": [
              "<Figure size 432x288 with 1 Axes>"
            ],
            "image/png": "[encoded data removed]"
          },
          "metadata": {
            "needs_background": "light"
          }
        }
      ]
    },
    {
      "cell_type": "markdown",
      "source": [
        "As you can see, the model is overfitting! we can either use early stopping (preferred here) or drop out regularization."
      ],
      "metadata": {
        "id": "ne_TqGLT_3Iz"
      }
    },
    {
      "cell_type": "markdown",
      "source": [
        "Regularization\n",
        "1. Early stopping!\n",
        "\n",
        "we didn't need to run through all the epochs! at some point, the val_loss is not improving. Let's fix this by introducing callbacks!\n",
        "\n",
        "The keras.callbacks module includes a number of built-in callbacks including\n",
        "\n",
        "    ModelCheckpoint and\n",
        "    EarlyStopping.\n",
        "\n",
        "EarlyStopping is typically used in combination with ModelCheckpoint, which lets you continually save the model during training (and, optionally, save only the current best model so far: the version of the model that achieved the best performance at the end of an epoch).\n"
      ],
      "metadata": {
        "id": "9UyDMxaW_8Q9"
      }
    },
    {
      "cell_type": "code",
      "source": [
        "from tensorflow.keras.callbacks import EarlyStopping, ModelCheckpoint"
      ],
      "metadata": {
        "id": "CmE4lOa8_3_1"
      },
      "execution_count": 56,
      "outputs": []
    },
    {
      "cell_type": "code",
      "source": [
        "early_stopping=EarlyStopping(monitor='val_loss',mode='min',verbose=1,patience=10)\n",
        "model_checkpoint=ModelCheckpoint(monitor='val_loss',save_best_only=True,filepath='model_checkpoint.keras')\n",
        "callback_list=[early_stopping,model_checkpoint]"
      ],
      "metadata": {
        "id": "0-JyjTedtCcC"
      },
      "execution_count": 57,
      "outputs": []
    },
    {
      "cell_type": "code",
      "source": [
        "model=build_model()\n",
        "model.summary()"
      ],
      "metadata": {
        "colab": {
          "base_uri": "https://localhost:8080/"
        },
        "id": "yZhIf19TuATu",
        "outputId": "a0ed30e4-75fa-4073-9241-f6f8fdf5bf4b"
      },
      "execution_count": 58,
      "outputs": [
        {
          "output_type": "stream",
          "name": "stdout",
          "text": [
            "Model: \"my_classification_model\"\n",
            "_________________________________________________________________\n",
            " Layer (type)                Output Shape              Param #   \n",
            "=================================================================\n",
            " first_layer (Dense)         (None, 20)                380       \n",
            "                                                                 \n",
            " second_layer (Dense)        (None, 8)                 168       \n",
            "                                                                 \n",
            " output_layer (Dense)        (None, 1)                 9         \n",
            "                                                                 \n",
            "=================================================================\n",
            "Total params: 557\n",
            "Trainable params: 557\n",
            "Non-trainable params: 0\n",
            "_________________________________________________________________\n"
          ]
        }
      ]
    },
    {
      "cell_type": "code",
      "source": [
        "model.fit(X_train,y_train,validation_data=(X_test,y_test),epochs=400,batch_size=128,callbacks=callback_list)"
      ],
      "metadata": {
        "colab": {
          "base_uri": "https://localhost:8080/"
        },
        "id": "muYNjG0EuO8e",
        "outputId": "98bb6aa3-220d-4153-d78d-7868d324f022"
      },
      "execution_count": 59,
      "outputs": [
        {
          "output_type": "stream",
          "name": "stdout",
          "text": [
            "Epoch 1/400\n",
            "94/94 [==============================] - 1s 3ms/step - loss: 0.5108 - accuracy: 0.7625 - val_loss: 0.4627 - val_accuracy: 0.7580\n",
            "Epoch 2/400\n",
            "94/94 [==============================] - 0s 2ms/step - loss: 0.4120 - accuracy: 0.7767 - val_loss: 0.3824 - val_accuracy: 0.7897\n",
            "Epoch 3/400\n",
            "94/94 [==============================] - 0s 2ms/step - loss: 0.3463 - accuracy: 0.8262 - val_loss: 0.3254 - val_accuracy: 0.8410\n",
            "Epoch 4/400\n",
            "94/94 [==============================] - 0s 2ms/step - loss: 0.2943 - accuracy: 0.8809 - val_loss: 0.2711 - val_accuracy: 0.9063\n",
            "Epoch 5/400\n",
            "94/94 [==============================] - 0s 2ms/step - loss: 0.2425 - accuracy: 0.9233 - val_loss: 0.2253 - val_accuracy: 0.9343\n",
            "Epoch 6/400\n",
            "94/94 [==============================] - 0s 3ms/step - loss: 0.2083 - accuracy: 0.9377 - val_loss: 0.1970 - val_accuracy: 0.9437\n",
            "Epoch 7/400\n",
            "94/94 [==============================] - 0s 2ms/step - loss: 0.1891 - accuracy: 0.9438 - val_loss: 0.1822 - val_accuracy: 0.9430\n",
            "Epoch 8/400\n",
            "94/94 [==============================] - 0s 2ms/step - loss: 0.1785 - accuracy: 0.9467 - val_loss: 0.1726 - val_accuracy: 0.9473\n",
            "Epoch 9/400\n",
            "94/94 [==============================] - 0s 2ms/step - loss: 0.1720 - accuracy: 0.9482 - val_loss: 0.1681 - val_accuracy: 0.9477\n",
            "Epoch 10/400\n",
            "94/94 [==============================] - 0s 2ms/step - loss: 0.1675 - accuracy: 0.9498 - val_loss: 0.1628 - val_accuracy: 0.9500\n",
            "Epoch 11/400\n",
            "94/94 [==============================] - 0s 2ms/step - loss: 0.1642 - accuracy: 0.9504 - val_loss: 0.1593 - val_accuracy: 0.9513\n",
            "Epoch 12/400\n",
            "94/94 [==============================] - 0s 3ms/step - loss: 0.1614 - accuracy: 0.9517 - val_loss: 0.1580 - val_accuracy: 0.9507\n",
            "Epoch 13/400\n",
            "94/94 [==============================] - 0s 2ms/step - loss: 0.1593 - accuracy: 0.9522 - val_loss: 0.1542 - val_accuracy: 0.9547\n",
            "Epoch 14/400\n",
            "94/94 [==============================] - 0s 2ms/step - loss: 0.1569 - accuracy: 0.9517 - val_loss: 0.1525 - val_accuracy: 0.9567\n",
            "Epoch 15/400\n",
            "94/94 [==============================] - 0s 2ms/step - loss: 0.1552 - accuracy: 0.9530 - val_loss: 0.1517 - val_accuracy: 0.9557\n",
            "Epoch 16/400\n",
            "94/94 [==============================] - 0s 2ms/step - loss: 0.1538 - accuracy: 0.9534 - val_loss: 0.1495 - val_accuracy: 0.9553\n",
            "Epoch 17/400\n",
            "94/94 [==============================] - 0s 2ms/step - loss: 0.1521 - accuracy: 0.9540 - val_loss: 0.1483 - val_accuracy: 0.9537\n",
            "Epoch 18/400\n",
            "94/94 [==============================] - 0s 2ms/step - loss: 0.1509 - accuracy: 0.9546 - val_loss: 0.1481 - val_accuracy: 0.9550\n",
            "Epoch 19/400\n",
            "94/94 [==============================] - 0s 2ms/step - loss: 0.1494 - accuracy: 0.9542 - val_loss: 0.1479 - val_accuracy: 0.9543\n",
            "Epoch 20/400\n",
            "94/94 [==============================] - 0s 2ms/step - loss: 0.1486 - accuracy: 0.9555 - val_loss: 0.1457 - val_accuracy: 0.9557\n",
            "Epoch 21/400\n",
            "94/94 [==============================] - 0s 2ms/step - loss: 0.1473 - accuracy: 0.9556 - val_loss: 0.1440 - val_accuracy: 0.9567\n",
            "Epoch 22/400\n",
            "94/94 [==============================] - 0s 2ms/step - loss: 0.1463 - accuracy: 0.9565 - val_loss: 0.1435 - val_accuracy: 0.9553\n",
            "Epoch 23/400\n",
            "94/94 [==============================] - 0s 2ms/step - loss: 0.1453 - accuracy: 0.9565 - val_loss: 0.1434 - val_accuracy: 0.9550\n",
            "Epoch 24/400\n",
            "94/94 [==============================] - 0s 2ms/step - loss: 0.1442 - accuracy: 0.9563 - val_loss: 0.1436 - val_accuracy: 0.9530\n",
            "Epoch 25/400\n",
            "94/94 [==============================] - 0s 2ms/step - loss: 0.1434 - accuracy: 0.9557 - val_loss: 0.1417 - val_accuracy: 0.9590\n",
            "Epoch 26/400\n",
            "94/94 [==============================] - 0s 2ms/step - loss: 0.1420 - accuracy: 0.9564 - val_loss: 0.1422 - val_accuracy: 0.9557\n",
            "Epoch 27/400\n",
            "94/94 [==============================] - 0s 2ms/step - loss: 0.1413 - accuracy: 0.9564 - val_loss: 0.1418 - val_accuracy: 0.9577\n",
            "Epoch 28/400\n",
            "94/94 [==============================] - 0s 2ms/step - loss: 0.1403 - accuracy: 0.9577 - val_loss: 0.1396 - val_accuracy: 0.9593\n",
            "Epoch 29/400\n",
            "94/94 [==============================] - 0s 2ms/step - loss: 0.1395 - accuracy: 0.9572 - val_loss: 0.1394 - val_accuracy: 0.9563\n",
            "Epoch 30/400\n",
            "94/94 [==============================] - 0s 2ms/step - loss: 0.1383 - accuracy: 0.9573 - val_loss: 0.1395 - val_accuracy: 0.9573\n",
            "Epoch 31/400\n",
            "94/94 [==============================] - 0s 3ms/step - loss: 0.1371 - accuracy: 0.9572 - val_loss: 0.1387 - val_accuracy: 0.9573\n",
            "Epoch 32/400\n",
            "94/94 [==============================] - 0s 2ms/step - loss: 0.1364 - accuracy: 0.9574 - val_loss: 0.1374 - val_accuracy: 0.9580\n",
            "Epoch 33/400\n",
            "94/94 [==============================] - 0s 2ms/step - loss: 0.1356 - accuracy: 0.9588 - val_loss: 0.1378 - val_accuracy: 0.9593\n",
            "Epoch 34/400\n",
            "94/94 [==============================] - 0s 2ms/step - loss: 0.1348 - accuracy: 0.9583 - val_loss: 0.1380 - val_accuracy: 0.9560\n",
            "Epoch 35/400\n",
            "94/94 [==============================] - 0s 3ms/step - loss: 0.1340 - accuracy: 0.9587 - val_loss: 0.1367 - val_accuracy: 0.9590\n",
            "Epoch 36/400\n",
            "94/94 [==============================] - 0s 2ms/step - loss: 0.1331 - accuracy: 0.9591 - val_loss: 0.1373 - val_accuracy: 0.9610\n",
            "Epoch 37/400\n",
            "94/94 [==============================] - 0s 2ms/step - loss: 0.1323 - accuracy: 0.9588 - val_loss: 0.1369 - val_accuracy: 0.9567\n",
            "Epoch 38/400\n",
            "94/94 [==============================] - 0s 2ms/step - loss: 0.1316 - accuracy: 0.9590 - val_loss: 0.1361 - val_accuracy: 0.9587\n",
            "Epoch 39/400\n",
            "94/94 [==============================] - 0s 2ms/step - loss: 0.1308 - accuracy: 0.9594 - val_loss: 0.1357 - val_accuracy: 0.9610\n",
            "Epoch 40/400\n",
            "94/94 [==============================] - 0s 2ms/step - loss: 0.1302 - accuracy: 0.9596 - val_loss: 0.1364 - val_accuracy: 0.9597\n",
            "Epoch 41/400\n",
            "94/94 [==============================] - 0s 2ms/step - loss: 0.1297 - accuracy: 0.9591 - val_loss: 0.1355 - val_accuracy: 0.9587\n",
            "Epoch 42/400\n",
            "94/94 [==============================] - 0s 2ms/step - loss: 0.1289 - accuracy: 0.9597 - val_loss: 0.1367 - val_accuracy: 0.9573\n",
            "Epoch 43/400\n",
            "94/94 [==============================] - 0s 2ms/step - loss: 0.1285 - accuracy: 0.9597 - val_loss: 0.1344 - val_accuracy: 0.9597\n",
            "Epoch 44/400\n",
            "94/94 [==============================] - 0s 2ms/step - loss: 0.1276 - accuracy: 0.9600 - val_loss: 0.1348 - val_accuracy: 0.9617\n",
            "Epoch 45/400\n",
            "94/94 [==============================] - 0s 2ms/step - loss: 0.1273 - accuracy: 0.9592 - val_loss: 0.1340 - val_accuracy: 0.9597\n",
            "Epoch 46/400\n",
            "94/94 [==============================] - 0s 2ms/step - loss: 0.1267 - accuracy: 0.9603 - val_loss: 0.1340 - val_accuracy: 0.9580\n",
            "Epoch 47/400\n",
            "94/94 [==============================] - 0s 3ms/step - loss: 0.1261 - accuracy: 0.9602 - val_loss: 0.1329 - val_accuracy: 0.9623\n",
            "Epoch 48/400\n",
            "94/94 [==============================] - 0s 3ms/step - loss: 0.1256 - accuracy: 0.9607 - val_loss: 0.1345 - val_accuracy: 0.9570\n",
            "Epoch 49/400\n",
            "94/94 [==============================] - 0s 3ms/step - loss: 0.1252 - accuracy: 0.9601 - val_loss: 0.1326 - val_accuracy: 0.9610\n",
            "Epoch 50/400\n",
            "94/94 [==============================] - 0s 3ms/step - loss: 0.1246 - accuracy: 0.9597 - val_loss: 0.1323 - val_accuracy: 0.9610\n",
            "Epoch 51/400\n",
            "94/94 [==============================] - 0s 3ms/step - loss: 0.1241 - accuracy: 0.9608 - val_loss: 0.1334 - val_accuracy: 0.9597\n",
            "Epoch 52/400\n",
            "94/94 [==============================] - 0s 3ms/step - loss: 0.1235 - accuracy: 0.9615 - val_loss: 0.1331 - val_accuracy: 0.9593\n",
            "Epoch 53/400\n",
            "94/94 [==============================] - 0s 2ms/step - loss: 0.1231 - accuracy: 0.9612 - val_loss: 0.1334 - val_accuracy: 0.9630\n",
            "Epoch 54/400\n",
            "94/94 [==============================] - 0s 2ms/step - loss: 0.1227 - accuracy: 0.9617 - val_loss: 0.1321 - val_accuracy: 0.9597\n",
            "Epoch 55/400\n",
            "94/94 [==============================] - 0s 2ms/step - loss: 0.1223 - accuracy: 0.9607 - val_loss: 0.1313 - val_accuracy: 0.9623\n",
            "Epoch 56/400\n",
            "94/94 [==============================] - 0s 2ms/step - loss: 0.1217 - accuracy: 0.9618 - val_loss: 0.1316 - val_accuracy: 0.9613\n",
            "Epoch 57/400\n",
            "94/94 [==============================] - 0s 2ms/step - loss: 0.1214 - accuracy: 0.9616 - val_loss: 0.1316 - val_accuracy: 0.9617\n",
            "Epoch 58/400\n",
            "94/94 [==============================] - 0s 2ms/step - loss: 0.1207 - accuracy: 0.9611 - val_loss: 0.1296 - val_accuracy: 0.9640\n",
            "Epoch 59/400\n",
            "94/94 [==============================] - 0s 2ms/step - loss: 0.1204 - accuracy: 0.9624 - val_loss: 0.1316 - val_accuracy: 0.9647\n",
            "Epoch 60/400\n",
            "94/94 [==============================] - 0s 2ms/step - loss: 0.1199 - accuracy: 0.9627 - val_loss: 0.1305 - val_accuracy: 0.9620\n",
            "Epoch 61/400\n",
            "94/94 [==============================] - 0s 2ms/step - loss: 0.1197 - accuracy: 0.9622 - val_loss: 0.1303 - val_accuracy: 0.9620\n",
            "Epoch 62/400\n",
            "94/94 [==============================] - 0s 2ms/step - loss: 0.1191 - accuracy: 0.9621 - val_loss: 0.1296 - val_accuracy: 0.9640\n",
            "Epoch 63/400\n",
            "94/94 [==============================] - 0s 2ms/step - loss: 0.1187 - accuracy: 0.9621 - val_loss: 0.1293 - val_accuracy: 0.9620\n",
            "Epoch 64/400\n",
            "94/94 [==============================] - 0s 3ms/step - loss: 0.1184 - accuracy: 0.9623 - val_loss: 0.1291 - val_accuracy: 0.9630\n",
            "Epoch 65/400\n",
            "94/94 [==============================] - 0s 2ms/step - loss: 0.1179 - accuracy: 0.9623 - val_loss: 0.1312 - val_accuracy: 0.9607\n",
            "Epoch 66/400\n",
            "94/94 [==============================] - 0s 2ms/step - loss: 0.1176 - accuracy: 0.9624 - val_loss: 0.1296 - val_accuracy: 0.9610\n",
            "Epoch 67/400\n",
            "94/94 [==============================] - 0s 2ms/step - loss: 0.1174 - accuracy: 0.9628 - val_loss: 0.1298 - val_accuracy: 0.9620\n",
            "Epoch 68/400\n",
            "94/94 [==============================] - 0s 2ms/step - loss: 0.1169 - accuracy: 0.9631 - val_loss: 0.1291 - val_accuracy: 0.9650\n",
            "Epoch 69/400\n",
            "94/94 [==============================] - 0s 2ms/step - loss: 0.1167 - accuracy: 0.9633 - val_loss: 0.1294 - val_accuracy: 0.9630\n",
            "Epoch 70/400\n",
            "94/94 [==============================] - 0s 2ms/step - loss: 0.1162 - accuracy: 0.9635 - val_loss: 0.1282 - val_accuracy: 0.9627\n",
            "Epoch 71/400\n",
            "94/94 [==============================] - 0s 2ms/step - loss: 0.1158 - accuracy: 0.9634 - val_loss: 0.1294 - val_accuracy: 0.9620\n",
            "Epoch 72/400\n",
            "94/94 [==============================] - 0s 2ms/step - loss: 0.1155 - accuracy: 0.9637 - val_loss: 0.1290 - val_accuracy: 0.9640\n",
            "Epoch 73/400\n",
            "94/94 [==============================] - 0s 2ms/step - loss: 0.1151 - accuracy: 0.9642 - val_loss: 0.1274 - val_accuracy: 0.9643\n",
            "Epoch 74/400\n",
            "94/94 [==============================] - 0s 2ms/step - loss: 0.1149 - accuracy: 0.9637 - val_loss: 0.1281 - val_accuracy: 0.9630\n",
            "Epoch 75/400\n",
            "94/94 [==============================] - 0s 2ms/step - loss: 0.1145 - accuracy: 0.9627 - val_loss: 0.1276 - val_accuracy: 0.9637\n",
            "Epoch 76/400\n",
            "94/94 [==============================] - 0s 2ms/step - loss: 0.1141 - accuracy: 0.9635 - val_loss: 0.1266 - val_accuracy: 0.9657\n",
            "Epoch 77/400\n",
            "94/94 [==============================] - 0s 2ms/step - loss: 0.1138 - accuracy: 0.9645 - val_loss: 0.1278 - val_accuracy: 0.9633\n",
            "Epoch 78/400\n",
            "94/94 [==============================] - 0s 2ms/step - loss: 0.1137 - accuracy: 0.9632 - val_loss: 0.1276 - val_accuracy: 0.9627\n",
            "Epoch 79/400\n",
            "94/94 [==============================] - 0s 2ms/step - loss: 0.1134 - accuracy: 0.9641 - val_loss: 0.1267 - val_accuracy: 0.9633\n",
            "Epoch 80/400\n",
            "94/94 [==============================] - 0s 2ms/step - loss: 0.1128 - accuracy: 0.9648 - val_loss: 0.1260 - val_accuracy: 0.9650\n",
            "Epoch 81/400\n",
            "94/94 [==============================] - 0s 2ms/step - loss: 0.1121 - accuracy: 0.9645 - val_loss: 0.1263 - val_accuracy: 0.9613\n",
            "Epoch 82/400\n",
            "94/94 [==============================] - 0s 2ms/step - loss: 0.1121 - accuracy: 0.9637 - val_loss: 0.1269 - val_accuracy: 0.9637\n",
            "Epoch 83/400\n",
            "94/94 [==============================] - 0s 2ms/step - loss: 0.1118 - accuracy: 0.9650 - val_loss: 0.1260 - val_accuracy: 0.9623\n",
            "Epoch 84/400\n",
            "94/94 [==============================] - 0s 2ms/step - loss: 0.1112 - accuracy: 0.9652 - val_loss: 0.1263 - val_accuracy: 0.9643\n",
            "Epoch 85/400\n",
            "94/94 [==============================] - 0s 2ms/step - loss: 0.1110 - accuracy: 0.9647 - val_loss: 0.1268 - val_accuracy: 0.9630\n",
            "Epoch 86/400\n",
            "94/94 [==============================] - 0s 2ms/step - loss: 0.1109 - accuracy: 0.9643 - val_loss: 0.1259 - val_accuracy: 0.9637\n",
            "Epoch 87/400\n",
            "94/94 [==============================] - 0s 2ms/step - loss: 0.1103 - accuracy: 0.9647 - val_loss: 0.1269 - val_accuracy: 0.9607\n",
            "Epoch 88/400\n",
            "94/94 [==============================] - 0s 2ms/step - loss: 0.1098 - accuracy: 0.9642 - val_loss: 0.1256 - val_accuracy: 0.9623\n",
            "Epoch 89/400\n",
            "94/94 [==============================] - 0s 2ms/step - loss: 0.1095 - accuracy: 0.9653 - val_loss: 0.1253 - val_accuracy: 0.9623\n",
            "Epoch 90/400\n",
            "94/94 [==============================] - 0s 2ms/step - loss: 0.1092 - accuracy: 0.9657 - val_loss: 0.1247 - val_accuracy: 0.9643\n",
            "Epoch 91/400\n",
            "94/94 [==============================] - 0s 2ms/step - loss: 0.1085 - accuracy: 0.9649 - val_loss: 0.1251 - val_accuracy: 0.9637\n",
            "Epoch 92/400\n",
            "94/94 [==============================] - 0s 2ms/step - loss: 0.1082 - accuracy: 0.9654 - val_loss: 0.1279 - val_accuracy: 0.9603\n",
            "Epoch 93/400\n",
            "94/94 [==============================] - 0s 2ms/step - loss: 0.1081 - accuracy: 0.9658 - val_loss: 0.1235 - val_accuracy: 0.9643\n",
            "Epoch 94/400\n",
            "94/94 [==============================] - 0s 3ms/step - loss: 0.1080 - accuracy: 0.9663 - val_loss: 0.1228 - val_accuracy: 0.9637\n",
            "Epoch 95/400\n",
            "94/94 [==============================] - 0s 2ms/step - loss: 0.1072 - accuracy: 0.9662 - val_loss: 0.1237 - val_accuracy: 0.9623\n",
            "Epoch 96/400\n",
            "94/94 [==============================] - 0s 3ms/step - loss: 0.1070 - accuracy: 0.9657 - val_loss: 0.1242 - val_accuracy: 0.9640\n",
            "Epoch 97/400\n",
            "94/94 [==============================] - 0s 3ms/step - loss: 0.1065 - accuracy: 0.9666 - val_loss: 0.1239 - val_accuracy: 0.9630\n",
            "Epoch 98/400\n",
            "94/94 [==============================] - 0s 2ms/step - loss: 0.1061 - accuracy: 0.9668 - val_loss: 0.1239 - val_accuracy: 0.9657\n",
            "Epoch 99/400\n",
            "94/94 [==============================] - 0s 3ms/step - loss: 0.1063 - accuracy: 0.9664 - val_loss: 0.1237 - val_accuracy: 0.9637\n",
            "Epoch 100/400\n",
            "94/94 [==============================] - 0s 3ms/step - loss: 0.1057 - accuracy: 0.9662 - val_loss: 0.1235 - val_accuracy: 0.9637\n",
            "Epoch 101/400\n",
            "94/94 [==============================] - 0s 4ms/step - loss: 0.1053 - accuracy: 0.9667 - val_loss: 0.1217 - val_accuracy: 0.9660\n",
            "Epoch 102/400\n",
            "94/94 [==============================] - 0s 3ms/step - loss: 0.1049 - accuracy: 0.9669 - val_loss: 0.1217 - val_accuracy: 0.9660\n",
            "Epoch 103/400\n",
            "94/94 [==============================] - 0s 3ms/step - loss: 0.1047 - accuracy: 0.9673 - val_loss: 0.1222 - val_accuracy: 0.9673\n",
            "Epoch 104/400\n",
            "94/94 [==============================] - 0s 3ms/step - loss: 0.1038 - accuracy: 0.9679 - val_loss: 0.1247 - val_accuracy: 0.9617\n",
            "Epoch 105/400\n",
            "94/94 [==============================] - 0s 3ms/step - loss: 0.1038 - accuracy: 0.9668 - val_loss: 0.1215 - val_accuracy: 0.9640\n",
            "Epoch 106/400\n",
            "94/94 [==============================] - 0s 2ms/step - loss: 0.1035 - accuracy: 0.9673 - val_loss: 0.1235 - val_accuracy: 0.9617\n",
            "Epoch 107/400\n",
            "94/94 [==============================] - 0s 2ms/step - loss: 0.1031 - accuracy: 0.9665 - val_loss: 0.1223 - val_accuracy: 0.9677\n",
            "Epoch 108/400\n",
            "94/94 [==============================] - 0s 2ms/step - loss: 0.1027 - accuracy: 0.9681 - val_loss: 0.1227 - val_accuracy: 0.9627\n",
            "Epoch 109/400\n",
            "94/94 [==============================] - 0s 2ms/step - loss: 0.1027 - accuracy: 0.9677 - val_loss: 0.1227 - val_accuracy: 0.9657\n",
            "Epoch 110/400\n",
            "94/94 [==============================] - 0s 2ms/step - loss: 0.1025 - accuracy: 0.9674 - val_loss: 0.1215 - val_accuracy: 0.9657\n",
            "Epoch 111/400\n",
            "94/94 [==============================] - 0s 2ms/step - loss: 0.1023 - accuracy: 0.9670 - val_loss: 0.1220 - val_accuracy: 0.9653\n",
            "Epoch 112/400\n",
            "94/94 [==============================] - 0s 2ms/step - loss: 0.1023 - accuracy: 0.9673 - val_loss: 0.1221 - val_accuracy: 0.9640\n",
            "Epoch 113/400\n",
            "94/94 [==============================] - 0s 2ms/step - loss: 0.1020 - accuracy: 0.9669 - val_loss: 0.1212 - val_accuracy: 0.9657\n",
            "Epoch 114/400\n",
            "94/94 [==============================] - 0s 3ms/step - loss: 0.1015 - accuracy: 0.9680 - val_loss: 0.1215 - val_accuracy: 0.9660\n",
            "Epoch 115/400\n",
            "94/94 [==============================] - 0s 3ms/step - loss: 0.1014 - accuracy: 0.9680 - val_loss: 0.1208 - val_accuracy: 0.9653\n",
            "Epoch 116/400\n",
            "94/94 [==============================] - 0s 3ms/step - loss: 0.1012 - accuracy: 0.9681 - val_loss: 0.1225 - val_accuracy: 0.9657\n",
            "Epoch 117/400\n",
            "94/94 [==============================] - 0s 2ms/step - loss: 0.1011 - accuracy: 0.9687 - val_loss: 0.1213 - val_accuracy: 0.9647\n",
            "Epoch 118/400\n",
            "94/94 [==============================] - 0s 2ms/step - loss: 0.1005 - accuracy: 0.9686 - val_loss: 0.1208 - val_accuracy: 0.9653\n",
            "Epoch 119/400\n",
            "94/94 [==============================] - 0s 2ms/step - loss: 0.1007 - accuracy: 0.9689 - val_loss: 0.1202 - val_accuracy: 0.9663\n",
            "Epoch 120/400\n",
            "94/94 [==============================] - 0s 2ms/step - loss: 0.1006 - accuracy: 0.9678 - val_loss: 0.1215 - val_accuracy: 0.9663\n",
            "Epoch 121/400\n",
            "94/94 [==============================] - 0s 2ms/step - loss: 0.0998 - accuracy: 0.9677 - val_loss: 0.1225 - val_accuracy: 0.9650\n",
            "Epoch 122/400\n",
            "94/94 [==============================] - 0s 2ms/step - loss: 0.1000 - accuracy: 0.9678 - val_loss: 0.1222 - val_accuracy: 0.9687\n",
            "Epoch 123/400\n",
            "94/94 [==============================] - 0s 2ms/step - loss: 0.0998 - accuracy: 0.9687 - val_loss: 0.1232 - val_accuracy: 0.9657\n",
            "Epoch 124/400\n",
            "94/94 [==============================] - 0s 2ms/step - loss: 0.0995 - accuracy: 0.9687 - val_loss: 0.1217 - val_accuracy: 0.9660\n",
            "Epoch 125/400\n",
            "94/94 [==============================] - 0s 2ms/step - loss: 0.0990 - accuracy: 0.9688 - val_loss: 0.1215 - val_accuracy: 0.9663\n",
            "Epoch 126/400\n",
            "94/94 [==============================] - 0s 2ms/step - loss: 0.0989 - accuracy: 0.9687 - val_loss: 0.1223 - val_accuracy: 0.9657\n",
            "Epoch 127/400\n",
            "94/94 [==============================] - 0s 2ms/step - loss: 0.0986 - accuracy: 0.9692 - val_loss: 0.1231 - val_accuracy: 0.9647\n",
            "Epoch 128/400\n",
            "94/94 [==============================] - 0s 2ms/step - loss: 0.0989 - accuracy: 0.9688 - val_loss: 0.1215 - val_accuracy: 0.9653\n",
            "Epoch 129/400\n",
            "94/94 [==============================] - 0s 2ms/step - loss: 0.0983 - accuracy: 0.9687 - val_loss: 0.1229 - val_accuracy: 0.9660\n",
            "Epoch 129: early stopping\n"
          ]
        },
        {
          "output_type": "execute_result",
          "data": {
            "text/plain": [
              "<keras.callbacks.History at 0x7fae055841f0>"
            ]
          },
          "metadata": {},
          "execution_count": 59
        }
      ]
    },
    {
      "cell_type": "code",
      "source": [
        "loss_df=pd.DataFrame(model.history.history)\n",
        "loss_df[['loss','val_loss']].plot(legend=True)\n",
        "plt.show()"
      ],
      "metadata": {
        "colab": {
          "base_uri": "https://localhost:8080/",
          "height": 265
        },
        "id": "XNPNuLMqu2rj",
        "outputId": "c74c2361-ec04-4e96-b0f5-8368c7aafe7b"
      },
      "execution_count": 60,
      "outputs": [
        {
          "output_type": "display_data",
          "data": {
            "text/plain": [
              "<Figure size 432x288 with 1 Axes>"
            ],
            "image/png": "[encoded data removed]"
          },
          "metadata": {
            "needs_background": "light"
          }
        }
      ]
    },
    {
      "cell_type": "markdown",
      "source": [
        "2. Drop out\n",
        "\n",
        "Let's make a new model and add the drop out layer to that! "
      ],
      "metadata": {
        "id": "ieX6-6jnxtCw"
      }
    },
    {
      "cell_type": "code",
      "source": [
        "def build_model_with_dropout():\n",
        "  model=keras.Sequential(name='my_classification_model_with_Dropout')\n",
        "  model.add(layers.Input(shape=(X_train.shape[1],))) # this is the shape of each sample!\n",
        "  model.add(layers.Dense(units=20,activation='relu',name='first_layer'))\n",
        "  model.add(layers.Dropout(rate=0.5))# 50% of nuerons will be randomly dropped out.\n",
        "  model.add(layers.Dense(units=8,activation='relu',name='second_layer'))\n",
        "  model.add(layers.Dropout(rate=0.5))\n",
        "  #output layer\n",
        "  model.add(layers.Dense(units=1,activation='sigmoid',name='output_layer'))\n",
        "  model.compile(optimizer='rmsprop',loss='binary_crossentropy',metrics=['accuracy'])\n",
        "  return model"
      ],
      "metadata": {
        "id": "9oOwq9lKxuK8"
      },
      "execution_count": 61,
      "outputs": []
    },
    {
      "cell_type": "code",
      "source": [
        "model_with_dropout = build_model_with_dropout()\n",
        "model_with_dropout.summary()"
      ],
      "metadata": {
        "colab": {
          "base_uri": "https://localhost:8080/"
        },
        "id": "3wqEMdpc0G6g",
        "outputId": "2a391ade-37cd-465c-a9c0-adc5cdbe3250"
      },
      "execution_count": 62,
      "outputs": [
        {
          "output_type": "stream",
          "name": "stdout",
          "text": [
            "Model: \"my_classification_model_with_Dropout\"\n",
            "_________________________________________________________________\n",
            " Layer (type)                Output Shape              Param #   \n",
            "=================================================================\n",
            " first_layer (Dense)         (None, 20)                380       \n",
            "                                                                 \n",
            " dropout (Dropout)           (None, 20)                0         \n",
            "                                                                 \n",
            " second_layer (Dense)        (None, 8)                 168       \n",
            "                                                                 \n",
            " dropout_1 (Dropout)         (None, 8)                 0         \n",
            "                                                                 \n",
            " output_layer (Dense)        (None, 1)                 9         \n",
            "                                                                 \n",
            "=================================================================\n",
            "Total params: 557\n",
            "Trainable params: 557\n",
            "Non-trainable params: 0\n",
            "_________________________________________________________________\n"
          ]
        }
      ]
    },
    {
      "cell_type": "code",
      "source": [
        "model_with_dropout.fit(X_train,y_train,validation_data=(X_test,y_test),epochs=400,batch_size=128,callbacks=callback_list)"
      ],
      "metadata": {
        "colab": {
          "base_uri": "https://localhost:8080/"
        },
        "id": "TOw-X9Fd2E4P",
        "outputId": "c585673e-1211-4024-aa8c-84b96242d240"
      },
      "execution_count": 63,
      "outputs": [
        {
          "output_type": "stream",
          "name": "stdout",
          "text": [
            "Epoch 1/400\n",
            "94/94 [==============================] - 1s 3ms/step - loss: 0.6391 - accuracy: 0.6961 - val_loss: 0.5098 - val_accuracy: 0.7583\n",
            "Epoch 2/400\n",
            "94/94 [==============================] - 0s 2ms/step - loss: 0.5526 - accuracy: 0.7539 - val_loss: 0.4606 - val_accuracy: 0.7580\n",
            "Epoch 3/400\n",
            "94/94 [==============================] - 0s 2ms/step - loss: 0.5138 - accuracy: 0.7662 - val_loss: 0.4331 - val_accuracy: 0.7580\n",
            "Epoch 4/400\n",
            "94/94 [==============================] - 0s 3ms/step - loss: 0.4864 - accuracy: 0.7752 - val_loss: 0.4071 - val_accuracy: 0.7580\n",
            "Epoch 5/400\n",
            "94/94 [==============================] - 0s 2ms/step - loss: 0.4555 - accuracy: 0.7795 - val_loss: 0.3838 - val_accuracy: 0.7577\n",
            "Epoch 6/400\n",
            "94/94 [==============================] - 0s 2ms/step - loss: 0.4450 - accuracy: 0.7871 - val_loss: 0.3656 - val_accuracy: 0.7710\n",
            "Epoch 7/400\n",
            "94/94 [==============================] - 0s 2ms/step - loss: 0.4248 - accuracy: 0.7942 - val_loss: 0.3468 - val_accuracy: 0.8137\n",
            "Epoch 8/400\n",
            "94/94 [==============================] - 0s 2ms/step - loss: 0.4027 - accuracy: 0.8012 - val_loss: 0.3279 - val_accuracy: 0.8700\n",
            "Epoch 9/400\n",
            "94/94 [==============================] - 0s 2ms/step - loss: 0.3910 - accuracy: 0.8071 - val_loss: 0.3114 - val_accuracy: 0.8903\n",
            "Epoch 10/400\n",
            "94/94 [==============================] - 0s 3ms/step - loss: 0.3787 - accuracy: 0.8081 - val_loss: 0.2991 - val_accuracy: 0.8983\n",
            "Epoch 11/400\n",
            "94/94 [==============================] - 0s 2ms/step - loss: 0.3651 - accuracy: 0.8181 - val_loss: 0.2864 - val_accuracy: 0.9060\n",
            "Epoch 12/400\n",
            "94/94 [==============================] - 0s 2ms/step - loss: 0.3567 - accuracy: 0.8239 - val_loss: 0.2749 - val_accuracy: 0.9197\n",
            "Epoch 13/400\n",
            "94/94 [==============================] - 0s 2ms/step - loss: 0.3353 - accuracy: 0.8357 - val_loss: 0.2630 - val_accuracy: 0.9220\n",
            "Epoch 14/400\n",
            "94/94 [==============================] - 0s 2ms/step - loss: 0.3405 - accuracy: 0.8342 - val_loss: 0.2535 - val_accuracy: 0.9293\n",
            "Epoch 15/400\n",
            "94/94 [==============================] - 0s 2ms/step - loss: 0.3277 - accuracy: 0.8399 - val_loss: 0.2430 - val_accuracy: 0.9320\n",
            "Epoch 16/400\n",
            "94/94 [==============================] - 0s 2ms/step - loss: 0.3234 - accuracy: 0.8422 - val_loss: 0.2363 - val_accuracy: 0.9350\n",
            "Epoch 17/400\n",
            "94/94 [==============================] - 0s 2ms/step - loss: 0.3188 - accuracy: 0.8492 - val_loss: 0.2299 - val_accuracy: 0.9430\n",
            "Epoch 18/400\n",
            "94/94 [==============================] - 0s 2ms/step - loss: 0.3096 - accuracy: 0.8527 - val_loss: 0.2231 - val_accuracy: 0.9463\n",
            "Epoch 19/400\n",
            "94/94 [==============================] - 0s 3ms/step - loss: 0.3168 - accuracy: 0.8527 - val_loss: 0.2199 - val_accuracy: 0.9483\n",
            "Epoch 20/400\n",
            "94/94 [==============================] - 0s 3ms/step - loss: 0.3044 - accuracy: 0.8512 - val_loss: 0.2155 - val_accuracy: 0.9507\n",
            "Epoch 21/400\n",
            "94/94 [==============================] - 0s 3ms/step - loss: 0.2984 - accuracy: 0.8599 - val_loss: 0.2106 - val_accuracy: 0.9527\n",
            "Epoch 22/400\n",
            "94/94 [==============================] - 0s 3ms/step - loss: 0.2963 - accuracy: 0.8652 - val_loss: 0.2081 - val_accuracy: 0.9533\n",
            "Epoch 23/400\n",
            "94/94 [==============================] - 0s 3ms/step - loss: 0.2957 - accuracy: 0.8606 - val_loss: 0.2042 - val_accuracy: 0.9560\n",
            "Epoch 24/400\n",
            "94/94 [==============================] - 0s 3ms/step - loss: 0.2928 - accuracy: 0.8664 - val_loss: 0.2003 - val_accuracy: 0.9577\n",
            "Epoch 25/400\n",
            "94/94 [==============================] - 0s 2ms/step - loss: 0.2944 - accuracy: 0.8677 - val_loss: 0.1966 - val_accuracy: 0.9570\n",
            "Epoch 26/400\n",
            "94/94 [==============================] - 0s 2ms/step - loss: 0.2818 - accuracy: 0.8743 - val_loss: 0.1916 - val_accuracy: 0.9590\n",
            "Epoch 27/400\n",
            "94/94 [==============================] - 0s 2ms/step - loss: 0.2875 - accuracy: 0.8707 - val_loss: 0.1893 - val_accuracy: 0.9580\n",
            "Epoch 28/400\n",
            "94/94 [==============================] - 0s 2ms/step - loss: 0.2875 - accuracy: 0.8715 - val_loss: 0.1868 - val_accuracy: 0.9590\n",
            "Epoch 29/400\n",
            "94/94 [==============================] - 0s 2ms/step - loss: 0.2848 - accuracy: 0.8743 - val_loss: 0.1859 - val_accuracy: 0.9610\n",
            "Epoch 30/400\n",
            "94/94 [==============================] - 0s 2ms/step - loss: 0.2800 - accuracy: 0.8747 - val_loss: 0.1831 - val_accuracy: 0.9597\n",
            "Epoch 31/400\n",
            "94/94 [==============================] - 0s 2ms/step - loss: 0.2784 - accuracy: 0.8769 - val_loss: 0.1826 - val_accuracy: 0.9603\n",
            "Epoch 32/400\n",
            "94/94 [==============================] - 0s 2ms/step - loss: 0.2734 - accuracy: 0.8807 - val_loss: 0.1776 - val_accuracy: 0.9620\n",
            "Epoch 33/400\n",
            "94/94 [==============================] - 0s 2ms/step - loss: 0.2714 - accuracy: 0.8808 - val_loss: 0.1750 - val_accuracy: 0.9630\n",
            "Epoch 34/400\n",
            "94/94 [==============================] - 0s 2ms/step - loss: 0.2707 - accuracy: 0.8810 - val_loss: 0.1739 - val_accuracy: 0.9627\n",
            "Epoch 35/400\n",
            "94/94 [==============================] - 0s 2ms/step - loss: 0.2710 - accuracy: 0.8848 - val_loss: 0.1734 - val_accuracy: 0.9630\n",
            "Epoch 36/400\n",
            "94/94 [==============================] - 0s 2ms/step - loss: 0.2768 - accuracy: 0.8824 - val_loss: 0.1736 - val_accuracy: 0.9640\n",
            "Epoch 37/400\n",
            "94/94 [==============================] - 0s 2ms/step - loss: 0.2660 - accuracy: 0.8845 - val_loss: 0.1718 - val_accuracy: 0.9647\n",
            "Epoch 38/400\n",
            "94/94 [==============================] - 0s 2ms/step - loss: 0.2688 - accuracy: 0.8853 - val_loss: 0.1712 - val_accuracy: 0.9640\n",
            "Epoch 39/400\n",
            "94/94 [==============================] - 0s 2ms/step - loss: 0.2622 - accuracy: 0.8890 - val_loss: 0.1688 - val_accuracy: 0.9643\n",
            "Epoch 40/400\n",
            "94/94 [==============================] - 0s 2ms/step - loss: 0.2747 - accuracy: 0.8885 - val_loss: 0.1686 - val_accuracy: 0.9640\n",
            "Epoch 41/400\n",
            "94/94 [==============================] - 0s 2ms/step - loss: 0.2550 - accuracy: 0.8890 - val_loss: 0.1659 - val_accuracy: 0.9640\n",
            "Epoch 42/400\n",
            "94/94 [==============================] - 0s 2ms/step - loss: 0.2560 - accuracy: 0.8914 - val_loss: 0.1656 - val_accuracy: 0.9623\n",
            "Epoch 43/400\n",
            "94/94 [==============================] - 0s 2ms/step - loss: 0.2644 - accuracy: 0.8873 - val_loss: 0.1645 - val_accuracy: 0.9627\n",
            "Epoch 44/400\n",
            "94/94 [==============================] - 0s 2ms/step - loss: 0.2632 - accuracy: 0.8912 - val_loss: 0.1632 - val_accuracy: 0.9623\n",
            "Epoch 45/400\n",
            "94/94 [==============================] - 0s 2ms/step - loss: 0.2602 - accuracy: 0.8914 - val_loss: 0.1626 - val_accuracy: 0.9623\n",
            "Epoch 46/400\n",
            "94/94 [==============================] - 0s 2ms/step - loss: 0.2536 - accuracy: 0.9002 - val_loss: 0.1609 - val_accuracy: 0.9643\n",
            "Epoch 47/400\n",
            "94/94 [==============================] - 0s 2ms/step - loss: 0.2564 - accuracy: 0.8941 - val_loss: 0.1574 - val_accuracy: 0.9640\n",
            "Epoch 48/400\n",
            "94/94 [==============================] - 0s 2ms/step - loss: 0.2597 - accuracy: 0.8940 - val_loss: 0.1594 - val_accuracy: 0.9630\n",
            "Epoch 49/400\n",
            "94/94 [==============================] - 0s 3ms/step - loss: 0.2550 - accuracy: 0.8983 - val_loss: 0.1563 - val_accuracy: 0.9637\n",
            "Epoch 50/400\n",
            "94/94 [==============================] - 0s 2ms/step - loss: 0.2495 - accuracy: 0.9017 - val_loss: 0.1554 - val_accuracy: 0.9630\n",
            "Epoch 51/400\n",
            "94/94 [==============================] - 0s 2ms/step - loss: 0.2533 - accuracy: 0.9002 - val_loss: 0.1519 - val_accuracy: 0.9630\n",
            "Epoch 52/400\n",
            "94/94 [==============================] - 0s 2ms/step - loss: 0.2481 - accuracy: 0.9052 - val_loss: 0.1521 - val_accuracy: 0.9643\n",
            "Epoch 53/400\n",
            "94/94 [==============================] - 0s 2ms/step - loss: 0.2587 - accuracy: 0.8967 - val_loss: 0.1523 - val_accuracy: 0.9640\n",
            "Epoch 54/400\n",
            "94/94 [==============================] - 0s 2ms/step - loss: 0.2518 - accuracy: 0.9039 - val_loss: 0.1514 - val_accuracy: 0.9633\n",
            "Epoch 55/400\n",
            "94/94 [==============================] - 0s 2ms/step - loss: 0.2575 - accuracy: 0.8988 - val_loss: 0.1506 - val_accuracy: 0.9627\n",
            "Epoch 56/400\n",
            "94/94 [==============================] - 0s 2ms/step - loss: 0.2519 - accuracy: 0.9019 - val_loss: 0.1512 - val_accuracy: 0.9640\n",
            "Epoch 57/400\n",
            "94/94 [==============================] - 0s 2ms/step - loss: 0.2512 - accuracy: 0.9049 - val_loss: 0.1494 - val_accuracy: 0.9640\n",
            "Epoch 58/400\n",
            "94/94 [==============================] - 0s 2ms/step - loss: 0.2482 - accuracy: 0.9030 - val_loss: 0.1477 - val_accuracy: 0.9640\n",
            "Epoch 59/400\n",
            "94/94 [==============================] - 0s 2ms/step - loss: 0.2509 - accuracy: 0.9051 - val_loss: 0.1470 - val_accuracy: 0.9647\n",
            "Epoch 60/400\n",
            "94/94 [==============================] - 0s 2ms/step - loss: 0.2419 - accuracy: 0.9052 - val_loss: 0.1457 - val_accuracy: 0.9647\n",
            "Epoch 61/400\n",
            "94/94 [==============================] - 0s 2ms/step - loss: 0.2507 - accuracy: 0.9036 - val_loss: 0.1464 - val_accuracy: 0.9643\n",
            "Epoch 62/400\n",
            "94/94 [==============================] - 0s 2ms/step - loss: 0.2470 - accuracy: 0.9041 - val_loss: 0.1431 - val_accuracy: 0.9653\n",
            "Epoch 63/400\n",
            "94/94 [==============================] - 0s 3ms/step - loss: 0.2447 - accuracy: 0.9071 - val_loss: 0.1432 - val_accuracy: 0.9640\n",
            "Epoch 64/400\n",
            "94/94 [==============================] - 0s 3ms/step - loss: 0.2495 - accuracy: 0.9034 - val_loss: 0.1437 - val_accuracy: 0.9640\n",
            "Epoch 65/400\n",
            "94/94 [==============================] - 0s 2ms/step - loss: 0.2482 - accuracy: 0.9043 - val_loss: 0.1452 - val_accuracy: 0.9643\n",
            "Epoch 66/400\n",
            "94/94 [==============================] - 0s 2ms/step - loss: 0.2439 - accuracy: 0.9055 - val_loss: 0.1436 - val_accuracy: 0.9633\n",
            "Epoch 67/400\n",
            "94/94 [==============================] - 0s 2ms/step - loss: 0.2430 - accuracy: 0.9067 - val_loss: 0.1422 - val_accuracy: 0.9657\n",
            "Epoch 68/400\n",
            "94/94 [==============================] - 0s 2ms/step - loss: 0.2465 - accuracy: 0.9102 - val_loss: 0.1435 - val_accuracy: 0.9647\n",
            "Epoch 69/400\n",
            "94/94 [==============================] - 0s 3ms/step - loss: 0.2392 - accuracy: 0.9102 - val_loss: 0.1407 - val_accuracy: 0.9650\n",
            "Epoch 70/400\n",
            "94/94 [==============================] - 0s 2ms/step - loss: 0.2411 - accuracy: 0.9107 - val_loss: 0.1412 - val_accuracy: 0.9653\n",
            "Epoch 71/400\n",
            "94/94 [==============================] - 0s 3ms/step - loss: 0.2470 - accuracy: 0.9083 - val_loss: 0.1415 - val_accuracy: 0.9647\n",
            "Epoch 72/400\n",
            "94/94 [==============================] - 0s 3ms/step - loss: 0.2405 - accuracy: 0.9081 - val_loss: 0.1427 - val_accuracy: 0.9643\n",
            "Epoch 73/400\n",
            "94/94 [==============================] - 0s 3ms/step - loss: 0.2457 - accuracy: 0.9032 - val_loss: 0.1439 - val_accuracy: 0.9633\n",
            "Epoch 74/400\n",
            "94/94 [==============================] - 0s 3ms/step - loss: 0.2434 - accuracy: 0.9081 - val_loss: 0.1422 - val_accuracy: 0.9637\n",
            "Epoch 75/400\n",
            "94/94 [==============================] - 0s 3ms/step - loss: 0.2414 - accuracy: 0.9127 - val_loss: 0.1394 - val_accuracy: 0.9650\n",
            "Epoch 76/400\n",
            "94/94 [==============================] - 0s 3ms/step - loss: 0.2396 - accuracy: 0.9095 - val_loss: 0.1384 - val_accuracy: 0.9660\n",
            "Epoch 77/400\n",
            "94/94 [==============================] - 0s 2ms/step - loss: 0.2385 - accuracy: 0.9097 - val_loss: 0.1401 - val_accuracy: 0.9650\n",
            "Epoch 78/400\n",
            "94/94 [==============================] - 0s 2ms/step - loss: 0.2407 - accuracy: 0.9098 - val_loss: 0.1392 - val_accuracy: 0.9663\n",
            "Epoch 79/400\n",
            "94/94 [==============================] - 0s 2ms/step - loss: 0.2452 - accuracy: 0.9135 - val_loss: 0.1413 - val_accuracy: 0.9663\n",
            "Epoch 80/400\n",
            "94/94 [==============================] - 0s 2ms/step - loss: 0.2435 - accuracy: 0.9073 - val_loss: 0.1402 - val_accuracy: 0.9660\n",
            "Epoch 81/400\n",
            "94/94 [==============================] - 0s 2ms/step - loss: 0.2423 - accuracy: 0.9090 - val_loss: 0.1416 - val_accuracy: 0.9667\n",
            "Epoch 82/400\n",
            "94/94 [==============================] - 0s 2ms/step - loss: 0.2457 - accuracy: 0.9066 - val_loss: 0.1427 - val_accuracy: 0.9663\n",
            "Epoch 83/400\n",
            "94/94 [==============================] - 0s 2ms/step - loss: 0.2445 - accuracy: 0.9076 - val_loss: 0.1409 - val_accuracy: 0.9660\n",
            "Epoch 84/400\n",
            "94/94 [==============================] - 0s 2ms/step - loss: 0.2401 - accuracy: 0.9107 - val_loss: 0.1429 - val_accuracy: 0.9647\n",
            "Epoch 85/400\n",
            "94/94 [==============================] - 0s 3ms/step - loss: 0.2498 - accuracy: 0.9050 - val_loss: 0.1410 - val_accuracy: 0.9657\n",
            "Epoch 86/400\n",
            "94/94 [==============================] - 0s 2ms/step - loss: 0.2389 - accuracy: 0.9106 - val_loss: 0.1405 - val_accuracy: 0.9647\n",
            "Epoch 86: early stopping\n"
          ]
        },
        {
          "output_type": "execute_result",
          "data": {
            "text/plain": [
              "<keras.callbacks.History at 0x7fae053180a0>"
            ]
          },
          "metadata": {},
          "execution_count": 63
        }
      ]
    },
    {
      "cell_type": "code",
      "source": [
        "loss_df_with_dropout=pd.DataFrame(model_with_dropout.history.history)\n",
        "loss_df_with_dropout[['loss','val_loss']].plot(legend=True)\n",
        "plt.show()"
      ],
      "metadata": {
        "colab": {
          "base_uri": "https://localhost:8080/",
          "height": 265
        },
        "id": "5WfI1dPd3OiZ",
        "outputId": "cc778d4e-7939-46a6-bff7-b90a807e619d"
      },
      "execution_count": 64,
      "outputs": [
        {
          "output_type": "display_data",
          "data": {
            "text/plain": [
              "<Figure size 432x288 with 1 Axes>"
            ],
            "image/png": "[encoded data removed]"
          },
          "metadata": {
            "needs_background": "light"
          }
        }
      ]
    },
    {
      "cell_type": "markdown",
      "source": [
        "Important: Dropout is typically only applied during the training phase and not applied to the validation or test sets.\n",
        "\n",
        "Dropout is a regularization technique used to prevent overfitting in deep learning models. During training, dropout randomly drops out a certain fraction of neurons from the network, effectively training multiple smaller sub-networks and averaging their predictions to make the final prediction. This helps reduce overfitting by making the model more robust to specific neurons that may be memorizing the training data instead of learning to generalize.\n",
        "\n",
        "When evaluating the model on the validation or test set, it's important to use the full network without dropout to get an accurate estimate of the model's performance. This is because dropout is a random process, and applying it to the validation or test set would result in different predictions each time, making it difficult to compare the performance of different models.\n"
      ],
      "metadata": {
        "id": "OAG8nBsb4Zve"
      }
    },
    {
      "cell_type": "markdown",
      "source": [
        "Let's see model performance on test set:"
      ],
      "metadata": {
        "id": "UYFHj_K_4fJ4"
      }
    },
    {
      "cell_type": "code",
      "source": [
        "model.evaluate(X_test,y_test)"
      ],
      "metadata": {
        "colab": {
          "base_uri": "https://localhost:8080/"
        },
        "id": "0G-UZcxI4arE",
        "outputId": "f0448878-d0ad-4c0f-e42d-bded52c43194"
      },
      "execution_count": 65,
      "outputs": [
        {
          "output_type": "stream",
          "name": "stdout",
          "text": [
            "94/94 [==============================] - 0s 1ms/step - loss: 0.1229 - accuracy: 0.9660\n"
          ]
        },
        {
          "output_type": "execute_result",
          "data": {
            "text/plain": [
              "[0.1229357123374939, 0.9660000205039978]"
            ]
          },
          "metadata": {},
          "execution_count": 65
        }
      ]
    },
    {
      "cell_type": "code",
      "source": [
        "model_with_dropout.evaluate(X_test,y_test)"
      ],
      "metadata": {
        "colab": {
          "base_uri": "https://localhost:8080/"
        },
        "id": "OZXv408X4m7_",
        "outputId": "46adfdf8-7eda-4224-9510-02b9a27160b6"
      },
      "execution_count": 66,
      "outputs": [
        {
          "output_type": "stream",
          "name": "stdout",
          "text": [
            "94/94 [==============================] - 0s 1ms/step - loss: 0.1405 - accuracy: 0.9647\n"
          ]
        },
        {
          "output_type": "execute_result",
          "data": {
            "text/plain": [
              "[0.14046376943588257, 0.9646666646003723]"
            ]
          },
          "metadata": {},
          "execution_count": 66
        }
      ]
    },
    {
      "cell_type": "code",
      "source": [
        "y_test_probs=model_with_dropout.predict(X_test)"
      ],
      "metadata": {
        "colab": {
          "base_uri": "https://localhost:8080/"
        },
        "id": "2sChfPhB4zr7",
        "outputId": "720153a8-b7bf-4595-e8b6-e6dfa3e9e506"
      },
      "execution_count": 67,
      "outputs": [
        {
          "output_type": "stream",
          "name": "stdout",
          "text": [
            "94/94 [==============================] - 0s 1ms/step\n"
          ]
        }
      ]
    },
    {
      "cell_type": "code",
      "source": [
        "y_test_probs"
      ],
      "metadata": {
        "colab": {
          "base_uri": "https://localhost:8080/"
        },
        "id": "JWXrfTi05E4C",
        "outputId": "3ac95ad3-3882-4fa0-91fd-50eb3c166c5e"
      },
      "execution_count": 68,
      "outputs": [
        {
          "output_type": "execute_result",
          "data": {
            "text/plain": [
              "array([[0.12524328],\n",
              "       [0.00045739],\n",
              "       [0.00055537],\n",
              "       ...,\n",
              "       [0.1845822 ],\n",
              "       [0.00436602],\n",
              "       [0.06828737]], dtype=float32)"
            ]
          },
          "metadata": {},
          "execution_count": 68
        }
      ]
    },
    {
      "cell_type": "code",
      "source": [
        "predictions=pd.DataFrame({'y_test':y_test,'y_test_probs':y_test_probs.reshape(-1,)})\n",
        "predictions['y_test_predictions']=np.where(predictions['y_test_probs']>0.5,1,0)\n",
        "predictions.head()\n"
      ],
      "metadata": {
        "colab": {
          "base_uri": "https://localhost:8080/",
          "height": 206
        },
        "id": "6j-7OBBB5IKA",
        "outputId": "134b2661-0ef9-4fde-f6ce-ad779ab19db6"
      },
      "execution_count": 69,
      "outputs": [
        {
          "output_type": "execute_result",
          "data": {
            "text/plain": [
              "   y_test  y_test_probs  y_test_predictions\n",
              "0       0      0.125243                   0\n",
              "1       0      0.000457                   0\n",
              "2       0      0.000555                   0\n",
              "3       0      0.057479                   0\n",
              "4       0      0.103076                   0"
            ],
            "text/html": [
              "\n",
              "  <div id=\"df-ef683789-fdbb-45f8-8f7f-b6720ce8338c\">\n",
              "    <div class=\"colab-df-container\">\n",
              "      <div>\n",
              "<style scoped>\n",
              "    .dataframe tbody tr th:only-of-type {\n",
              "        vertical-align: middle;\n",
              "    }\n",
              "\n",
              "    .dataframe tbody tr th {\n",
              "        vertical-align: top;\n",
              "    }\n",
              "\n",
              "    .dataframe thead th {\n",
              "        text-align: right;\n",
              "    }\n",
              "</style>\n",
              "<table border=\"1\" class=\"dataframe\">\n",
              "  <thead>\n",
              "    <tr style=\"text-align: right;\">\n",
              "      <th></th>\n",
              "      <th>y_test</th>\n",
              "      <th>y_test_probs</th>\n",
              "      <th>y_test_predictions</th>\n",
              "    </tr>\n",
              "  </thead>\n",
              "  <tbody>\n",
              "    <tr>\n",
              "      <th>0</th>\n",
              "      <td>0</td>\n",
              "      <td>0.125243</td>\n",
              "      <td>0</td>\n",
              "    </tr>\n",
              "    <tr>\n",
              "      <th>1</th>\n",
              "      <td>0</td>\n",
              "      <td>0.000457</td>\n",
              "      <td>0</td>\n",
              "    </tr>\n",
              "    <tr>\n",
              "      <th>2</th>\n",
              "      <td>0</td>\n",
              "      <td>0.000555</td>\n",
              "      <td>0</td>\n",
              "    </tr>\n",
              "    <tr>\n",
              "      <th>3</th>\n",
              "      <td>0</td>\n",
              "      <td>0.057479</td>\n",
              "      <td>0</td>\n",
              "    </tr>\n",
              "    <tr>\n",
              "      <th>4</th>\n",
              "      <td>0</td>\n",
              "      <td>0.103076</td>\n",
              "      <td>0</td>\n",
              "    </tr>\n",
              "  </tbody>\n",
              "</table>\n",
              "</div>\n",
              "      <button class=\"colab-df-convert\" onclick=\"convertToInteractive('df-ef683789-fdbb-45f8-8f7f-b6720ce8338c')\"\n",
              "              title=\"Convert this dataframe to an interactive table.\"\n",
              "              style=\"display:none;\">\n",
              "        \n",
              "  <svg xmlns=\"http://www.w3.org/2000/svg\" height=\"24px\"viewBox=\"0 0 24 24\"\n",
              "       width=\"24px\">\n",
              "    <path d=\"M0 0h24v24H0V0z\" fill=\"none\"/>\n",
              "    <path d=\"M18.56 5.44l.94 2.06.94-2.06 2.06-.94-2.06-.94-.94-2.06-.94 2.06-2.06.94zm-11 1L8.5 8.5l.94-2.06 2.06-.94-2.06-.94L8.5 2.5l-.94 2.06-2.06.94zm10 10l.94 2.06.94-2.06 2.06-.94-2.06-.94-.94-2.06-.94 2.06-2.06.94z\"/><path d=\"M17.41 7.96l-1.37-1.37c-.4-.4-.92-.59-1.43-.59-.52 0-1.04.2-1.43.59L10.3 9.45l-7.72 7.72c-.78.78-.78 2.05 0 2.83L4 21.41c.39.39.9.59 1.41.59.51 0 1.02-.2 1.41-.59l7.78-7.78 2.81-2.81c.8-.78.8-2.07 0-2.86zM5.41 20L4 18.59l7.72-7.72 1.47 1.35L5.41 20z\"/>\n",
              "  </svg>\n",
              "      </button>\n",
              "      \n",
              "  <style>\n",
              "    .colab-df-container {\n",
              "      display:flex;\n",
              "      flex-wrap:wrap;\n",
              "      gap: 12px;\n",
              "    }\n",
              "\n",
              "    .colab-df-convert {\n",
              "      background-color: #E8F0FE;\n",
              "      border: none;\n",
              "      border-radius: 50%;\n",
              "      cursor: pointer;\n",
              "      display: none;\n",
              "      fill: #1967D2;\n",
              "      height: 32px;\n",
              "      padding: 0 0 0 0;\n",
              "      width: 32px;\n",
              "    }\n",
              "\n",
              "    .colab-df-convert:hover {\n",
              "      background-color: #E2EBFA;\n",
              "      box-shadow: 0px 1px 2px rgba(60, 64, 67, 0.3), 0px 1px 3px 1px rgba(60, 64, 67, 0.15);\n",
              "      fill: #174EA6;\n",
              "    }\n",
              "\n",
              "    [theme=dark] .colab-df-convert {\n",
              "      background-color: #3B4455;\n",
              "      fill: #D2E3FC;\n",
              "    }\n",
              "\n",
              "    [theme=dark] .colab-df-convert:hover {\n",
              "      background-color: #434B5C;\n",
              "      box-shadow: 0px 1px 3px 1px rgba(0, 0, 0, 0.15);\n",
              "      filter: drop-shadow(0px 1px 2px rgba(0, 0, 0, 0.3));\n",
              "      fill: #FFFFFF;\n",
              "    }\n",
              "  </style>\n",
              "\n",
              "      <script>\n",
              "        const buttonEl =\n",
              "          document.querySelector('#df-ef683789-fdbb-45f8-8f7f-b6720ce8338c button.colab-df-convert');\n",
              "        buttonEl.style.display =\n",
              "          google.colab.kernel.accessAllowed ? 'block' : 'none';\n",
              "\n",
              "        async function convertToInteractive(key) {\n",
              "          const element = document.querySelector('#df-ef683789-fdbb-45f8-8f7f-b6720ce8338c');\n",
              "          const dataTable =\n",
              "            await google.colab.kernel.invokeFunction('convertToInteractive',\n",
              "                                                     [key], {});\n",
              "          if (!dataTable) return;\n",
              "\n",
              "          const docLinkHtml = 'Like what you see? Visit the ' +\n",
              "            '<a target=\"_blank\" href=https://colab.research.google.com/notebooks/data_table.ipynb>data table notebook</a>'\n",
              "            + ' to learn more about interactive tables.';\n",
              "          element.innerHTML = '';\n",
              "          dataTable['output_type'] = 'display_data';\n",
              "          await google.colab.output.renderOutput(dataTable, element);\n",
              "          const docLink = document.createElement('div');\n",
              "          docLink.innerHTML = docLinkHtml;\n",
              "          element.appendChild(docLink);\n",
              "        }\n",
              "      </script>\n",
              "    </div>\n",
              "  </div>\n",
              "  "
            ]
          },
          "metadata": {},
          "execution_count": 69
        }
      ]
    },
    {
      "cell_type": "code",
      "source": [
        "from sklearn.metrics import classification_report, confusion_matrix"
      ],
      "metadata": {
        "id": "Fdy4U6jn6GKb"
      },
      "execution_count": 70,
      "outputs": []
    },
    {
      "cell_type": "code",
      "source": [
        "print(classification_report(y_true=predictions.y_test,y_pred=predictions.y_test_predictions))"
      ],
      "metadata": {
        "colab": {
          "base_uri": "https://localhost:8080/"
        },
        "id": "_80VAChN6N51",
        "outputId": "cc0093ed-4fdc-40c8-c6fe-b61f4bdbc4fb"
      },
      "execution_count": 71,
      "outputs": [
        {
          "output_type": "stream",
          "name": "stdout",
          "text": [
            "              precision    recall  f1-score   support\n",
            "\n",
            "           0       0.97      0.98      0.98      2274\n",
            "           1       0.94      0.91      0.93       726\n",
            "\n",
            "    accuracy                           0.96      3000\n",
            "   macro avg       0.96      0.95      0.95      3000\n",
            "weighted avg       0.96      0.96      0.96      3000\n",
            "\n"
          ]
        }
      ]
    },
    {
      "cell_type": "code",
      "source": [
        "print(confusion_matrix(y_true=predictions.y_test,y_pred=predictions.y_test_predictions))"
      ],
      "metadata": {
        "colab": {
          "base_uri": "https://localhost:8080/"
        },
        "id": "D5D4hU4cjGRf",
        "outputId": "b453246a-fae4-4279-9459-127086fbc3d7"
      },
      "execution_count": 72,
      "outputs": [
        {
          "output_type": "stream",
          "name": "stdout",
          "text": [
            "[[2234   40]\n",
            " [  66  660]]\n"
          ]
        }
      ]
    },
    {
      "cell_type": "markdown",
      "source": [
        "Save and load the model\n",
        "\n",
        "An entire model can be saved in two different file formats (SavedModel and HDF5). The TensorFlow SavedModel format is the default file format in TF2.x. However, models can be saved in HDF5 format. More details: https://www.tensorflow.org/tutorials/keras/save_and_load\n",
        "\n",
        "since we don't have custom objects here, we will be using the HDF5 format."
      ],
      "metadata": {
        "id": "10xrJ0F3j7yF"
      }
    },
    {
      "cell_type": "code",
      "source": [
        "from tensorflow.keras.models import load_model"
      ],
      "metadata": {
        "id": "yjxYTmd5j8up"
      },
      "execution_count": 73,
      "outputs": []
    },
    {
      "cell_type": "code",
      "source": [
        "model.save('my_DNN_classification.h5')\n",
        "model_with_dropout.save('my_DNN_withDropout_classification.h5')"
      ],
      "metadata": {
        "id": "fyHx2VmKkLnx"
      },
      "execution_count": 78,
      "outputs": []
    },
    {
      "cell_type": "code",
      "source": [
        "loaded_model = load_model('my_DNN_classification.h5')\n",
        "loaded_model_with_Dropout = load_model('my_DNN_withDropout_classification.h5')"
      ],
      "metadata": {
        "id": "kpZAq344kpwd"
      },
      "execution_count": 79,
      "outputs": []
    },
    {
      "cell_type": "code",
      "source": [
        "loaded_model.summary()"
      ],
      "metadata": {
        "colab": {
          "base_uri": "https://localhost:8080/"
        },
        "id": "CO3l0Gx4lS36",
        "outputId": "f35d9318-feb4-471d-ee70-49e19a409213"
      },
      "execution_count": 80,
      "outputs": [
        {
          "output_type": "stream",
          "name": "stdout",
          "text": [
            "Model: \"my_classification_model\"\n",
            "_________________________________________________________________\n",
            " Layer (type)                Output Shape              Param #   \n",
            "=================================================================\n",
            " first_layer (Dense)         (None, 20)                380       \n",
            "                                                                 \n",
            " second_layer (Dense)        (None, 8)                 168       \n",
            "                                                                 \n",
            " output_layer (Dense)        (None, 1)                 9         \n",
            "                                                                 \n",
            "=================================================================\n",
            "Total params: 557\n",
            "Trainable params: 557\n",
            "Non-trainable params: 0\n",
            "_________________________________________________________________\n"
          ]
        }
      ]
    },
    {
      "cell_type": "code",
      "source": [
        "loaded_model.predict(X_test)"
      ],
      "metadata": {
        "colab": {
          "base_uri": "https://localhost:8080/"
        },
        "id": "YyaLOVn5mMhn",
        "outputId": "efec137a-2a50-4842-a5b5-011d56cd0ec5"
      },
      "execution_count": 81,
      "outputs": [
        {
          "output_type": "stream",
          "name": "stdout",
          "text": [
            "94/94 [==============================] - 0s 1ms/step\n"
          ]
        },
        {
          "output_type": "execute_result",
          "data": {
            "text/plain": [
              "array([[2.3027905e-03],\n",
              "       [6.6093641e-04],\n",
              "       [3.4464740e-03],\n",
              "       ...,\n",
              "       [9.8498976e-01],\n",
              "       [9.3733968e-04],\n",
              "       [4.9309758e-04]], dtype=float32)"
            ]
          },
          "metadata": {},
          "execution_count": 81
        }
      ]
    },
    {
      "cell_type": "code",
      "source": [
        "loaded_model_with_Dropout.summary()"
      ],
      "metadata": {
        "colab": {
          "base_uri": "https://localhost:8080/"
        },
        "id": "96ByiJ99mSZH",
        "outputId": "323b6e37-5dd8-4a4c-a3ec-cf876ba10ac3"
      },
      "execution_count": 82,
      "outputs": [
        {
          "output_type": "stream",
          "name": "stdout",
          "text": [
            "Model: \"my_classification_model_with_Dropout\"\n",
            "_________________________________________________________________\n",
            " Layer (type)                Output Shape              Param #   \n",
            "=================================================================\n",
            " first_layer (Dense)         (None, 20)                380       \n",
            "                                                                 \n",
            " dropout (Dropout)           (None, 20)                0         \n",
            "                                                                 \n",
            " second_layer (Dense)        (None, 8)                 168       \n",
            "                                                                 \n",
            " dropout_1 (Dropout)         (None, 8)                 0         \n",
            "                                                                 \n",
            " output_layer (Dense)        (None, 1)                 9         \n",
            "                                                                 \n",
            "=================================================================\n",
            "Total params: 557\n",
            "Trainable params: 557\n",
            "Non-trainable params: 0\n",
            "_________________________________________________________________\n"
          ]
        }
      ]
    },
    {
      "cell_type": "code",
      "source": [
        "loaded_checkpoint = load_model(\"model_checkpoint.keras\")\n",
        "loaded_checkpoint.summary()"
      ],
      "metadata": {
        "colab": {
          "base_uri": "https://localhost:8080/"
        },
        "id": "DQyu-ApMmWCb",
        "outputId": "47d2b0c0-fa40-4d80-f312-e6c846a65954"
      },
      "execution_count": 83,
      "outputs": [
        {
          "output_type": "stream",
          "name": "stdout",
          "text": [
            "Model: \"my_classification_model\"\n",
            "_________________________________________________________________\n",
            " Layer (type)                Output Shape              Param #   \n",
            "=================================================================\n",
            " first_layer (Dense)         (None, 20)                380       \n",
            "                                                                 \n",
            " second_layer (Dense)        (None, 8)                 168       \n",
            "                                                                 \n",
            " output_layer (Dense)        (None, 1)                 9         \n",
            "                                                                 \n",
            "=================================================================\n",
            "Total params: 557\n",
            "Trainable params: 557\n",
            "Non-trainable params: 0\n",
            "_________________________________________________________________\n"
          ]
        }
      ]
    },
    {
      "cell_type": "markdown",
      "source": [
        "Additional Links:\n",
        "\n",
        "    keras optimizers: https://keras.io/api/optimizers/\n",
        "    keras loss functions: https://keras.io/api/losses/\n",
        "    keras metrics: https://keras.io/api/metrics/\n",
        "    Save model: https://www.tensorflow.org/tutorials/keras/save_and_load\n"
      ],
      "metadata": {
        "id": "ADJxw-ZQmmJI"
      }
    },
    {
      "cell_type": "code",
      "source": [],
      "metadata": {
        "id": "YdTwbvEQmm91"
      },
      "execution_count": null,
      "outputs": []
    }
  ]
}