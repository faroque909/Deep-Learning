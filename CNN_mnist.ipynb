{
  "nbformat": 4,
  "nbformat_minor": 0,
  "metadata": {
    "colab": {
      "provenance": [],
      "toc_visible": true
    },
    "kernelspec": {
      "name": "python3",
      "display_name": "Python 3"
    },
    "language_info": {
      "name": "python"
    },
    "accelerator": "GPU",
    "gpuClass": "standard"
  },
  "cells": [
    {
      "cell_type": "markdown",
      "source": [
        "Module 5- Deep Computer Vision- Convolutional Neural Networks (CNN)\n",
        "Installation\n",
        "\n",
        "    If you want to run your code on Google Colab, there is no installation required. (recommended for the course)\n",
        "    If you want to run your code locally, then you need to install tensorflow https://www.tensorflow.org/install\n",
        "\n"
      ],
      "metadata": {
        "id": "wNjg_dVeRvED"
      }
    },
    {
      "cell_type": "code",
      "source": [
        "import tensorflow\n",
        "tensorflow.__version__"
      ],
      "metadata": {
        "colab": {
          "base_uri": "https://localhost:8080/",
          "height": 35
        },
        "id": "5eOorJe_RwL3",
        "outputId": "3a3a67bf-6343-41f0-b607-81b2828e0fed"
      },
      "execution_count": 1,
      "outputs": [
        {
          "output_type": "execute_result",
          "data": {
            "text/plain": [
              "'2.11.0'"
            ],
            "application/vnd.google.colaboratory.intrinsic+json": {
              "type": "string"
            }
          },
          "metadata": {},
          "execution_count": 1
        }
      ]
    },
    {
      "cell_type": "code",
      "source": [
        "import pandas as pd\n",
        "import numpy as np\n",
        "import matplotlib.pyplot as plt"
      ],
      "metadata": {
        "id": "KeAxgCQJR_TH"
      },
      "execution_count": 2,
      "outputs": []
    },
    {
      "cell_type": "markdown",
      "source": [
        "Importing the data\n",
        "\n",
        "In this notebook, we will be working with mnist data set: https://en.wikipedia.org/wiki/MNIST_database\n",
        "\n",
        "    60,000 train images\n",
        "    10,000 test images\n",
        "    image size (28,28)\n"
      ],
      "metadata": {
        "id": "QUyhVOpESID4"
      }
    },
    {
      "cell_type": "code",
      "source": [
        "from tensorflow.keras.datasets import mnist\n",
        "(X_train,y_train),(X_test,y_test)=mnist.load_data()"
      ],
      "metadata": {
        "colab": {
          "base_uri": "https://localhost:8080/"
        },
        "id": "b3szM9ZXSJHq",
        "outputId": "1244713a-a48b-469b-bf6c-a7da3205f374"
      },
      "execution_count": 3,
      "outputs": [
        {
          "output_type": "stream",
          "name": "stdout",
          "text": [
            "Downloading data from https://storage.googleapis.com/tensorflow/tf-keras-datasets/mnist.npz\n",
            "11490434/11490434 [==============================] - 0s 0us/step\n"
          ]
        }
      ]
    },
    {
      "cell_type": "code",
      "source": [
        "X_train.shape"
      ],
      "metadata": {
        "colab": {
          "base_uri": "https://localhost:8080/"
        },
        "id": "RiQ-9IFhSsPP",
        "outputId": "050a1b3e-9e5a-4505-a92d-1c588014146b"
      },
      "execution_count": 4,
      "outputs": [
        {
          "output_type": "execute_result",
          "data": {
            "text/plain": [
              "(60000, 28, 28)"
            ]
          },
          "metadata": {},
          "execution_count": 4
        }
      ]
    },
    {
      "cell_type": "code",
      "source": [
        "X_test.shape"
      ],
      "metadata": {
        "colab": {
          "base_uri": "https://localhost:8080/"
        },
        "id": "ygx5BfimS7Bg",
        "outputId": "b79005ea-0b71-47e7-915a-86bd888d5805"
      },
      "execution_count": 5,
      "outputs": [
        {
          "output_type": "execute_result",
          "data": {
            "text/plain": [
              "(10000, 28, 28)"
            ]
          },
          "metadata": {},
          "execution_count": 5
        }
      ]
    },
    {
      "cell_type": "code",
      "source": [
        "X_train[0]"
      ],
      "metadata": {
        "colab": {
          "base_uri": "https://localhost:8080/"
        },
        "id": "ovsJxHSdS_O7",
        "outputId": "a322885d-dae9-4b76-f3db-5ceb6205e2b9"
      },
      "execution_count": 6,
      "outputs": [
        {
          "output_type": "execute_result",
          "data": {
            "text/plain": [
              "array([[  0,   0,   0,   0,   0,   0,   0,   0,   0,   0,   0,   0,   0,\n",
              "          0,   0,   0,   0,   0,   0,   0,   0,   0,   0,   0,   0,   0,\n",
              "          0,   0],\n",
              "       [  0,   0,   0,   0,   0,   0,   0,   0,   0,   0,   0,   0,   0,\n",
              "          0,   0,   0,   0,   0,   0,   0,   0,   0,   0,   0,   0,   0,\n",
              "          0,   0],\n",
              "       [  0,   0,   0,   0,   0,   0,   0,   0,   0,   0,   0,   0,   0,\n",
              "          0,   0,   0,   0,   0,   0,   0,   0,   0,   0,   0,   0,   0,\n",
              "          0,   0],\n",
              "       [  0,   0,   0,   0,   0,   0,   0,   0,   0,   0,   0,   0,   0,\n",
              "          0,   0,   0,   0,   0,   0,   0,   0,   0,   0,   0,   0,   0,\n",
              "          0,   0],\n",
              "       [  0,   0,   0,   0,   0,   0,   0,   0,   0,   0,   0,   0,   0,\n",
              "          0,   0,   0,   0,   0,   0,   0,   0,   0,   0,   0,   0,   0,\n",
              "          0,   0],\n",
              "       [  0,   0,   0,   0,   0,   0,   0,   0,   0,   0,   0,   0,   3,\n",
              "         18,  18,  18, 126, 136, 175,  26, 166, 255, 247, 127,   0,   0,\n",
              "          0,   0],\n",
              "       [  0,   0,   0,   0,   0,   0,   0,   0,  30,  36,  94, 154, 170,\n",
              "        253, 253, 253, 253, 253, 225, 172, 253, 242, 195,  64,   0,   0,\n",
              "          0,   0],\n",
              "       [  0,   0,   0,   0,   0,   0,   0,  49, 238, 253, 253, 253, 253,\n",
              "        253, 253, 253, 253, 251,  93,  82,  82,  56,  39,   0,   0,   0,\n",
              "          0,   0],\n",
              "       [  0,   0,   0,   0,   0,   0,   0,  18, 219, 253, 253, 253, 253,\n",
              "        253, 198, 182, 247, 241,   0,   0,   0,   0,   0,   0,   0,   0,\n",
              "          0,   0],\n",
              "       [  0,   0,   0,   0,   0,   0,   0,   0,  80, 156, 107, 253, 253,\n",
              "        205,  11,   0,  43, 154,   0,   0,   0,   0,   0,   0,   0,   0,\n",
              "          0,   0],\n",
              "       [  0,   0,   0,   0,   0,   0,   0,   0,   0,  14,   1, 154, 253,\n",
              "         90,   0,   0,   0,   0,   0,   0,   0,   0,   0,   0,   0,   0,\n",
              "          0,   0],\n",
              "       [  0,   0,   0,   0,   0,   0,   0,   0,   0,   0,   0, 139, 253,\n",
              "        190,   2,   0,   0,   0,   0,   0,   0,   0,   0,   0,   0,   0,\n",
              "          0,   0],\n",
              "       [  0,   0,   0,   0,   0,   0,   0,   0,   0,   0,   0,  11, 190,\n",
              "        253,  70,   0,   0,   0,   0,   0,   0,   0,   0,   0,   0,   0,\n",
              "          0,   0],\n",
              "       [  0,   0,   0,   0,   0,   0,   0,   0,   0,   0,   0,   0,  35,\n",
              "        241, 225, 160, 108,   1,   0,   0,   0,   0,   0,   0,   0,   0,\n",
              "          0,   0],\n",
              "       [  0,   0,   0,   0,   0,   0,   0,   0,   0,   0,   0,   0,   0,\n",
              "         81, 240, 253, 253, 119,  25,   0,   0,   0,   0,   0,   0,   0,\n",
              "          0,   0],\n",
              "       [  0,   0,   0,   0,   0,   0,   0,   0,   0,   0,   0,   0,   0,\n",
              "          0,  45, 186, 253, 253, 150,  27,   0,   0,   0,   0,   0,   0,\n",
              "          0,   0],\n",
              "       [  0,   0,   0,   0,   0,   0,   0,   0,   0,   0,   0,   0,   0,\n",
              "          0,   0,  16,  93, 252, 253, 187,   0,   0,   0,   0,   0,   0,\n",
              "          0,   0],\n",
              "       [  0,   0,   0,   0,   0,   0,   0,   0,   0,   0,   0,   0,   0,\n",
              "          0,   0,   0,   0, 249, 253, 249,  64,   0,   0,   0,   0,   0,\n",
              "          0,   0],\n",
              "       [  0,   0,   0,   0,   0,   0,   0,   0,   0,   0,   0,   0,   0,\n",
              "          0,  46, 130, 183, 253, 253, 207,   2,   0,   0,   0,   0,   0,\n",
              "          0,   0],\n",
              "       [  0,   0,   0,   0,   0,   0,   0,   0,   0,   0,   0,   0,  39,\n",
              "        148, 229, 253, 253, 253, 250, 182,   0,   0,   0,   0,   0,   0,\n",
              "          0,   0],\n",
              "       [  0,   0,   0,   0,   0,   0,   0,   0,   0,   0,  24, 114, 221,\n",
              "        253, 253, 253, 253, 201,  78,   0,   0,   0,   0,   0,   0,   0,\n",
              "          0,   0],\n",
              "       [  0,   0,   0,   0,   0,   0,   0,   0,  23,  66, 213, 253, 253,\n",
              "        253, 253, 198,  81,   2,   0,   0,   0,   0,   0,   0,   0,   0,\n",
              "          0,   0],\n",
              "       [  0,   0,   0,   0,   0,   0,  18, 171, 219, 253, 253, 253, 253,\n",
              "        195,  80,   9,   0,   0,   0,   0,   0,   0,   0,   0,   0,   0,\n",
              "          0,   0],\n",
              "       [  0,   0,   0,   0,  55, 172, 226, 253, 253, 253, 253, 244, 133,\n",
              "         11,   0,   0,   0,   0,   0,   0,   0,   0,   0,   0,   0,   0,\n",
              "          0,   0],\n",
              "       [  0,   0,   0,   0, 136, 253, 253, 253, 212, 135, 132,  16,   0,\n",
              "          0,   0,   0,   0,   0,   0,   0,   0,   0,   0,   0,   0,   0,\n",
              "          0,   0],\n",
              "       [  0,   0,   0,   0,   0,   0,   0,   0,   0,   0,   0,   0,   0,\n",
              "          0,   0,   0,   0,   0,   0,   0,   0,   0,   0,   0,   0,   0,\n",
              "          0,   0],\n",
              "       [  0,   0,   0,   0,   0,   0,   0,   0,   0,   0,   0,   0,   0,\n",
              "          0,   0,   0,   0,   0,   0,   0,   0,   0,   0,   0,   0,   0,\n",
              "          0,   0],\n",
              "       [  0,   0,   0,   0,   0,   0,   0,   0,   0,   0,   0,   0,   0,\n",
              "          0,   0,   0,   0,   0,   0,   0,   0,   0,   0,   0,   0,   0,\n",
              "          0,   0]], dtype=uint8)"
            ]
          },
          "metadata": {},
          "execution_count": 6
        }
      ]
    },
    {
      "cell_type": "code",
      "source": [
        "plt.imshow(X_train[0],cmap='Greys')\n",
        "plt.show()"
      ],
      "metadata": {
        "colab": {
          "base_uri": "https://localhost:8080/",
          "height": 265
        },
        "id": "vmOB0RClTDEL",
        "outputId": "dcb6302f-0b79-4042-9d10-342a2162b9d0"
      },
      "execution_count": 7,
      "outputs": [
        {
          "output_type": "display_data",
          "data": {
            "text/plain": [
              "<Figure size 432x288 with 1 Axes>"
            ],
            "image/png": "[encoded data removed]"
          },
          "metadata": {
            "needs_background": "light"
          }
        }
      ]
    },
    {
      "cell_type": "code",
      "source": [
        "y_train"
      ],
      "metadata": {
        "colab": {
          "base_uri": "https://localhost:8080/"
        },
        "id": "KHbZJY5RTipU",
        "outputId": "44a7843b-b154-4732-f8fd-76d307e7caa1"
      },
      "execution_count": 8,
      "outputs": [
        {
          "output_type": "execute_result",
          "data": {
            "text/plain": [
              "array([5, 0, 4, ..., 5, 6, 8], dtype=uint8)"
            ]
          },
          "metadata": {},
          "execution_count": 8
        }
      ]
    },
    {
      "cell_type": "markdown",
      "source": [
        "Convolutional Neural Networks (CNN)"
      ],
      "metadata": {
        "id": "iKFUrwG2YWtP"
      }
    },
    {
      "cell_type": "code",
      "source": [
        "import tensorflow as tf\n",
        "from tensorflow import keras\n",
        "from tensorflow.keras import layers"
      ],
      "metadata": {
        "id": "jq2EnzrXYZDr"
      },
      "execution_count": 9,
      "outputs": []
    },
    {
      "cell_type": "code",
      "source": [
        "# reshaping"
      ],
      "metadata": {
        "id": "SWF_I_yFYwAY"
      },
      "execution_count": 10,
      "outputs": []
    },
    {
      "cell_type": "code",
      "source": [
        "X_train.shape"
      ],
      "metadata": {
        "colab": {
          "base_uri": "https://localhost:8080/"
        },
        "id": "wufB33XxYxzT",
        "outputId": "a10f4011-58b6-4d16-db48-c0472467032d"
      },
      "execution_count": 11,
      "outputs": [
        {
          "output_type": "execute_result",
          "data": {
            "text/plain": [
              "(60000, 28, 28)"
            ]
          },
          "metadata": {},
          "execution_count": 11
        }
      ]
    },
    {
      "cell_type": "code",
      "source": [
        "X_train=X_train.reshape((60000,28,28,1))\n",
        "X_train=X_train/255\n",
        "X_test=X_test.reshape((10000,28,28,1))\n",
        "X_test=X_test/255"
      ],
      "metadata": {
        "id": "xXh7gnyMY4WP"
      },
      "execution_count": 12,
      "outputs": []
    },
    {
      "cell_type": "code",
      "source": [
        "X_train.shape"
      ],
      "metadata": {
        "colab": {
          "base_uri": "https://localhost:8080/"
        },
        "id": "xn777UEIZhAa",
        "outputId": "50a2544c-0c0f-4b8f-a686-f7ff6be67b20"
      },
      "execution_count": 13,
      "outputs": [
        {
          "output_type": "execute_result",
          "data": {
            "text/plain": [
              "(60000, 28, 28, 1)"
            ]
          },
          "metadata": {},
          "execution_count": 13
        }
      ]
    },
    {
      "cell_type": "code",
      "source": [
        "X_test.shape"
      ],
      "metadata": {
        "colab": {
          "base_uri": "https://localhost:8080/"
        },
        "id": "lSqsdqoiZkw-",
        "outputId": "4616bac5-6c66-462c-cc9d-8b8c6a0589c2"
      },
      "execution_count": 14,
      "outputs": [
        {
          "output_type": "execute_result",
          "data": {
            "text/plain": [
              "(10000, 28, 28, 1)"
            ]
          },
          "metadata": {},
          "execution_count": 14
        }
      ]
    },
    {
      "cell_type": "markdown",
      "source": [
        "Creating a CNN model:"
      ],
      "metadata": {
        "id": "6Jy3yE8WZxQn"
      }
    },
    {
      "cell_type": "code",
      "source": [
        "import tensorflow as tf\n",
        "from tensorflow import keras\n",
        "from tensorflow.keras import layers"
      ],
      "metadata": {
        "id": "ob6cOHYkZyPB"
      },
      "execution_count": 15,
      "outputs": []
    },
    {
      "cell_type": "code",
      "source": [
        "# we will be using functional api\n",
        "\n",
        "def CNN_builder():\n",
        "    inputs= keras.Input(shape=(28,28,1), name='Input layer')\n",
        "    x = layers.Conv2D(filters= 32, kernel_size = 3, strides = (1,1) , padding='valid',  activation='relu' ,name=\"conv_layer_1\")(inputs)\n",
        "    x = layers.MaxPool2D(pool_size=2, name=\"pooling_1\")(x)\n",
        "    x = layers.Conv2D(filters= 64, kernel_size = 3, activation='relu', name=\"conv_layer_2\")(x)\n",
        "    x = layers.MaxPool2D(pool_size=2, name=\"pooling_2\")(x)\n",
        "    x = layers.Conv2D(filters= 128, kernel_size = 3, activation='relu', name=\"conv_layer_3\")(x)\n",
        "    x = layers.Flatten(name=\"flattening_layer\")(x)\n",
        "    x = layers.Dense(units= 64, activation='relu')(x)\n",
        "    outputs = layers.Dense(units= 10, activation='softmax', name='output_layer')(x)\n",
        "\n",
        "    model = keras.Model(inputs= inputs , outputs=outputs, name='my_first_CNN_model')\n",
        "    model.compile(optimizer='rmsprop',\n",
        "                  loss='sparse_categorical_crossentropy',\n",
        "                  metrics=['accuracy'])\n",
        "\n",
        "       \n",
        "    return model"
      ],
      "metadata": {
        "id": "eW7_eyZtprVm"
      },
      "execution_count": 16,
      "outputs": []
    },
    {
      "cell_type": "code",
      "source": [
        "model=CNN_builder()\n",
        "model.summary()\n"
      ],
      "metadata": {
        "colab": {
          "base_uri": "https://localhost:8080/"
        },
        "id": "VCGe2qa7qWdA",
        "outputId": "c30bde3c-1276-425e-b4a4-b84769419603"
      },
      "execution_count": 17,
      "outputs": [
        {
          "output_type": "stream",
          "name": "stdout",
          "text": [
            "Model: \"my_first_CNN_model\"\n",
            "_________________________________________________________________\n",
            " Layer (type)                Output Shape              Param #   \n",
            "=================================================================\n",
            " Input layer (InputLayer)    [(None, 28, 28, 1)]       0         \n",
            "                                                                 \n",
            " conv_layer_1 (Conv2D)       (None, 26, 26, 32)        320       \n",
            "                                                                 \n",
            " pooling_1 (MaxPooling2D)    (None, 13, 13, 32)        0         \n",
            "                                                                 \n",
            " conv_layer_2 (Conv2D)       (None, 11, 11, 64)        18496     \n",
            "                                                                 \n",
            " pooling_2 (MaxPooling2D)    (None, 5, 5, 64)          0         \n",
            "                                                                 \n",
            " conv_layer_3 (Conv2D)       (None, 3, 3, 128)         73856     \n",
            "                                                                 \n",
            " flattening_layer (Flatten)  (None, 1152)              0         \n",
            "                                                                 \n",
            " dense (Dense)               (None, 64)                73792     \n",
            "                                                                 \n",
            " output_layer (Dense)        (None, 10)                650       \n",
            "                                                                 \n",
            "=================================================================\n",
            "Total params: 167,114\n",
            "Trainable params: 167,114\n",
            "Non-trainable params: 0\n",
            "_________________________________________________________________\n"
          ]
        }
      ]
    },
    {
      "cell_type": "code",
      "execution_count": 20,
      "metadata": {
        "id": "PCsGkLNdkQqY",
        "colab": {
          "base_uri": "https://localhost:8080/"
        },
        "outputId": "4f95f759-9975-4da1-8121-2c89d079edda"
      },
      "outputs": [
        {
          "output_type": "execute_result",
          "data": {
            "text/plain": [
              "320"
            ]
          },
          "metadata": {},
          "execution_count": 20
        }
      ],
      "source": [
        "# params\n",
        "1*(3*3)*32+32\n",
        "       "
      ]
    },
    {
      "cell_type": "code",
      "source": [
        "32*(3*3)*64+64"
      ],
      "metadata": {
        "colab": {
          "base_uri": "https://localhost:8080/"
        },
        "id": "h9dhvicsrrGw",
        "outputId": "2fd44990-2531-4d6f-a302-547e056e6ca0"
      },
      "execution_count": 21,
      "outputs": [
        {
          "output_type": "execute_result",
          "data": {
            "text/plain": [
              "18496"
            ]
          },
          "metadata": {},
          "execution_count": 21
        }
      ]
    },
    {
      "cell_type": "code",
      "source": [
        "64*(3*3)*128+128"
      ],
      "metadata": {
        "colab": {
          "base_uri": "https://localhost:8080/"
        },
        "id": "wWcCuagB-UcJ",
        "outputId": "e82d8cd4-0a80-4fd5-bec5-d6fe93a41291"
      },
      "execution_count": 22,
      "outputs": [
        {
          "output_type": "execute_result",
          "data": {
            "text/plain": [
              "73856"
            ]
          },
          "metadata": {},
          "execution_count": 22
        }
      ]
    },
    {
      "cell_type": "code",
      "source": [
        "3*3*128"
      ],
      "metadata": {
        "colab": {
          "base_uri": "https://localhost:8080/"
        },
        "id": "WTwIfkfZ-elJ",
        "outputId": "ce28edeb-57d1-4cdf-d315-1ef8bf7a1b9b"
      },
      "execution_count": 23,
      "outputs": [
        {
          "output_type": "execute_result",
          "data": {
            "text/plain": [
              "1152"
            ]
          },
          "metadata": {},
          "execution_count": 23
        }
      ]
    },
    {
      "cell_type": "code",
      "source": [
        "1152*64+64"
      ],
      "metadata": {
        "colab": {
          "base_uri": "https://localhost:8080/"
        },
        "id": "UdjKxa99-lAN",
        "outputId": "da5f32ae-e6ea-410b-c45e-a88b93ae971a"
      },
      "execution_count": 24,
      "outputs": [
        {
          "output_type": "execute_result",
          "data": {
            "text/plain": [
              "73792"
            ]
          },
          "metadata": {},
          "execution_count": 24
        }
      ]
    },
    {
      "cell_type": "code",
      "source": [
        "1152*10+10"
      ],
      "metadata": {
        "colab": {
          "base_uri": "https://localhost:8080/"
        },
        "id": "IogFRG9J-zxi",
        "outputId": "5494c263-2ec5-4884-b8df-54788367053c"
      },
      "execution_count": 25,
      "outputs": [
        {
          "output_type": "execute_result",
          "data": {
            "text/plain": [
              "11530"
            ]
          },
          "metadata": {},
          "execution_count": 25
        }
      ]
    },
    {
      "cell_type": "markdown",
      "source": [
        "output shape:\n",
        "\n",
        "    channels are the number of filters\n",
        "    output size = floor(ninput+2p−fs+1)\n",
        "    each pooling will half the width and height"
      ],
      "metadata": {
        "id": "3tmv5Z6c_ZXx"
      }
    },
    {
      "cell_type": "code",
      "source": [
        "# for example, the output shape of conv_layer 1 is (None, 26,26, 32) \n",
        "np.floor(((28+0-3)/1)+1)"
      ],
      "metadata": {
        "colab": {
          "base_uri": "https://localhost:8080/"
        },
        "id": "4Yk8fzHZ_a1O",
        "outputId": "e47b96d3-0f0c-4844-a7a1-b6bd9d08f8d5"
      },
      "execution_count": 26,
      "outputs": [
        {
          "output_type": "execute_result",
          "data": {
            "text/plain": [
              "26.0"
            ]
          },
          "metadata": {},
          "execution_count": 26
        }
      ]
    },
    {
      "cell_type": "markdown",
      "source": [
        "Model fit"
      ],
      "metadata": {
        "id": "gAdwvBmMDpEZ"
      }
    },
    {
      "cell_type": "code",
      "source": [
        "from tensorflow.keras.callbacks import ModelCheckpoint\n",
        "modelcheckpoint =ModelCheckpoint(filepath='first_CNN.h5',save_best_only=True,monitor='val_loss')"
      ],
      "metadata": {
        "id": "xfK6p3CqDqCr"
      },
      "execution_count": 27,
      "outputs": []
    },
    {
      "cell_type": "code",
      "source": [
        "history=model.fit(x=X_train,y=y_train,validation_data=(X_test,y_test),\n",
        "                  epochs=10,batch_size=64,callbacks=[modelcheckpoint])"
      ],
      "metadata": {
        "colab": {
          "base_uri": "https://localhost:8080/"
        },
        "id": "ZYzMq2OqEQgv",
        "outputId": "ae5556ff-4a5e-41f4-f406-4bf51aa6c4a9"
      },
      "execution_count": 30,
      "outputs": [
        {
          "output_type": "stream",
          "name": "stdout",
          "text": [
            "Epoch 1/10\n",
            "938/938 [==============================] - 15s 5ms/step - loss: 0.1638 - accuracy: 0.9487 - val_loss: 0.0390 - val_accuracy: 0.9873\n",
            "Epoch 2/10\n",
            "938/938 [==============================] - 5s 6ms/step - loss: 0.0436 - accuracy: 0.9868 - val_loss: 0.0419 - val_accuracy: 0.9863\n",
            "Epoch 3/10\n",
            "938/938 [==============================] - 5s 5ms/step - loss: 0.0306 - accuracy: 0.9906 - val_loss: 0.0277 - val_accuracy: 0.9916\n",
            "Epoch 4/10\n",
            "938/938 [==============================] - 5s 5ms/step - loss: 0.0226 - accuracy: 0.9932 - val_loss: 0.0432 - val_accuracy: 0.9866\n",
            "Epoch 5/10\n",
            "938/938 [==============================] - 5s 5ms/step - loss: 0.0175 - accuracy: 0.9948 - val_loss: 0.0241 - val_accuracy: 0.9918\n",
            "Epoch 6/10\n",
            "938/938 [==============================] - 5s 5ms/step - loss: 0.0135 - accuracy: 0.9957 - val_loss: 0.0301 - val_accuracy: 0.9912\n",
            "Epoch 7/10\n",
            "938/938 [==============================] - 5s 5ms/step - loss: 0.0106 - accuracy: 0.9967 - val_loss: 0.0377 - val_accuracy: 0.9910\n",
            "Epoch 8/10\n",
            "938/938 [==============================] - 5s 5ms/step - loss: 0.0095 - accuracy: 0.9972 - val_loss: 0.0317 - val_accuracy: 0.9933\n",
            "Epoch 9/10\n",
            "938/938 [==============================] - 5s 5ms/step - loss: 0.0070 - accuracy: 0.9979 - val_loss: 0.0407 - val_accuracy: 0.9915\n",
            "Epoch 10/10\n",
            "938/938 [==============================] - 4s 5ms/step - loss: 0.0064 - accuracy: 0.9981 - val_loss: 0.0343 - val_accuracy: 0.9923\n"
          ]
        }
      ]
    },
    {
      "cell_type": "code",
      "source": [
        "test_model=keras.models.load_model('first_CNN.h5')\n",
        "test_model.evaluate(X_test,y_test)"
      ],
      "metadata": {
        "colab": {
          "base_uri": "https://localhost:8080/"
        },
        "id": "njz2hygWE9ec",
        "outputId": "03400956-e8c4-42c9-a975-57736fdf97ce"
      },
      "execution_count": 32,
      "outputs": [
        {
          "output_type": "stream",
          "name": "stdout",
          "text": [
            "313/313 [==============================] - 1s 3ms/step - loss: 0.0241 - accuracy: 0.9918\n"
          ]
        },
        {
          "output_type": "execute_result",
          "data": {
            "text/plain": [
              "[0.024093758314847946, 0.9918000102043152]"
            ]
          },
          "metadata": {},
          "execution_count": 32
        }
      ]
    },
    {
      "cell_type": "markdown",
      "source": [
        "As you can see, this simple CNN performs really well in the test set with +99% accuracy"
      ],
      "metadata": {
        "id": "CJminG8LGHGW"
      }
    },
    {
      "cell_type": "code",
      "source": [
        "Model evaluation"
      ],
      "metadata": {
        "colab": {
          "base_uri": "https://localhost:8080/",
          "height": 132
        },
        "id": "o7W6bg0_GH9C",
        "outputId": "1e1c9b83-5494-41d4-aae0-3d549ab61f29"
      },
      "execution_count": 33,
      "outputs": [
        {
          "output_type": "error",
          "ename": "SyntaxError",
          "evalue": "ignored",
          "traceback": [
            "\u001b[0;36m  File \u001b[0;32m\"<ipython-input-33-988f0457bd76>\"\u001b[0;36m, line \u001b[0;32m1\u001b[0m\n\u001b[0;31m    Model evaluation\u001b[0m\n\u001b[0m          ^\u001b[0m\n\u001b[0;31mSyntaxError\u001b[0m\u001b[0;31m:\u001b[0m invalid syntax\n"
          ]
        }
      ]
    },
    {
      "cell_type": "code",
      "source": [
        "model.metrics_names"
      ],
      "metadata": {
        "colab": {
          "base_uri": "https://localhost:8080/"
        },
        "id": "-ohpLgYrGRQ_",
        "outputId": "126cdc12-66cb-4d52-d6f4-4cb837c3859b"
      },
      "execution_count": 34,
      "outputs": [
        {
          "output_type": "execute_result",
          "data": {
            "text/plain": [
              "['loss', 'accuracy']"
            ]
          },
          "metadata": {},
          "execution_count": 34
        }
      ]
    },
    {
      "cell_type": "code",
      "source": [
        "metrics=pd.DataFrame(history.history)"
      ],
      "metadata": {
        "id": "_w7PZFYgGV5W"
      },
      "execution_count": 35,
      "outputs": []
    },
    {
      "cell_type": "code",
      "source": [
        "metrics.head"
      ],
      "metadata": {
        "colab": {
          "base_uri": "https://localhost:8080/"
        },
        "id": "MV8emXUsGiDn",
        "outputId": "424ac227-7702-47ab-fb1b-026be29adb9c"
      },
      "execution_count": 36,
      "outputs": [
        {
          "output_type": "execute_result",
          "data": {
            "text/plain": [
              "<bound method NDFrame.head of        loss  accuracy  val_loss  val_accuracy\n",
              "0  0.163836  0.948717  0.039027        0.9873\n",
              "1  0.043575  0.986767  0.041885        0.9863\n",
              "2  0.030567  0.990600  0.027718        0.9916\n",
              "3  0.022617  0.993217  0.043203        0.9866\n",
              "4  0.017508  0.994783  0.024094        0.9918\n",
              "5  0.013459  0.995683  0.030112        0.9912\n",
              "6  0.010564  0.996700  0.037736        0.9910\n",
              "7  0.009476  0.997183  0.031657        0.9933\n",
              "8  0.007017  0.997900  0.040654        0.9915\n",
              "9  0.006364  0.998067  0.034311        0.9923>"
            ]
          },
          "metadata": {},
          "execution_count": 36
        }
      ]
    },
    {
      "cell_type": "code",
      "source": [
        "metrics[['accuracy','val_accuracy']].plot()\n",
        "plot.show()"
      ],
      "metadata": {
        "colab": {
          "base_uri": "https://localhost:8080/",
          "height": 436
        },
        "id": "1FTZXkV3Gmw4",
        "outputId": "e8328dbc-d2cd-4c27-a637-0f040a133264"
      },
      "execution_count": 37,
      "outputs": [
        {
          "output_type": "error",
          "ename": "NameError",
          "evalue": "ignored",
          "traceback": [
            "\u001b[0;31m---------------------------------------------------------------------------\u001b[0m",
            "\u001b[0;31mNameError\u001b[0m                                 Traceback (most recent call last)",
            "\u001b[0;32m<ipython-input-37-dae66189d222>\u001b[0m in \u001b[0;36m<module>\u001b[0;34m\u001b[0m\n\u001b[1;32m      1\u001b[0m \u001b[0mmetrics\u001b[0m\u001b[0;34m[\u001b[0m\u001b[0;34m[\u001b[0m\u001b[0;34m'accuracy'\u001b[0m\u001b[0;34m,\u001b[0m\u001b[0;34m'val_accuracy'\u001b[0m\u001b[0;34m]\u001b[0m\u001b[0;34m]\u001b[0m\u001b[0;34m.\u001b[0m\u001b[0mplot\u001b[0m\u001b[0;34m(\u001b[0m\u001b[0;34m)\u001b[0m\u001b[0;34m\u001b[0m\u001b[0;34m\u001b[0m\u001b[0m\n\u001b[0;32m----> 2\u001b[0;31m \u001b[0mplot\u001b[0m\u001b[0;34m.\u001b[0m\u001b[0mshow\u001b[0m\u001b[0;34m(\u001b[0m\u001b[0;34m)\u001b[0m\u001b[0;34m\u001b[0m\u001b[0;34m\u001b[0m\u001b[0m\n\u001b[0m",
            "\u001b[0;31mNameError\u001b[0m: name 'plot' is not defined"
          ]
        },
        {
          "output_type": "display_data",
          "data": {
            "text/plain": [
              "<Figure size 432x288 with 1 Axes>"
            ],
            "image/png": "[encoded data removed]"
          },
          "metadata": {
            "needs_background": "light"
          }
        }
      ]
    },
    {
      "cell_type": "code",
      "source": [
        "metrics[['loss','val_loss']].plot()\n",
        "plt.show()"
      ],
      "metadata": {
        "colab": {
          "base_uri": "https://localhost:8080/",
          "height": 265
        },
        "id": "AqsMnZG0G7JQ",
        "outputId": "0757cf39-3df4-4900-e542-1e8b8d7933a4"
      },
      "execution_count": 38,
      "outputs": [
        {
          "output_type": "display_data",
          "data": {
            "text/plain": [
              "<Figure size 432x288 with 1 Axes>"
            ],
            "image/png": "[encoded data removed]"
          },
          "metadata": {
            "needs_background": "light"
          }
        }
      ]
    },
    {
      "cell_type": "code",
      "source": [
        "predictions_prob=model.predict(X_test)\n",
        "predictions_prob[0]"
      ],
      "metadata": {
        "colab": {
          "base_uri": "https://localhost:8080/"
        },
        "id": "aMjIxX7hHNt_",
        "outputId": "3e25c271-697f-4fa8-9765-dfa713ea3464"
      },
      "execution_count": 39,
      "outputs": [
        {
          "output_type": "stream",
          "name": "stdout",
          "text": [
            "313/313 [==============================] - 1s 2ms/step\n"
          ]
        },
        {
          "output_type": "execute_result",
          "data": {
            "text/plain": [
              "array([1.7232955e-16, 1.3065316e-15, 2.5271329e-16, 5.4340704e-14,\n",
              "       1.4542541e-14, 1.6701680e-15, 8.2330967e-22, 1.0000000e+00,\n",
              "       9.6329559e-15, 1.1712613e-11], dtype=float32)"
            ]
          },
          "metadata": {},
          "execution_count": 39
        }
      ]
    },
    {
      "cell_type": "code",
      "source": [
        "y_test[0]"
      ],
      "metadata": {
        "colab": {
          "base_uri": "https://localhost:8080/"
        },
        "id": "BrAXqaaAHmY7",
        "outputId": "2311480c-7ce8-4304-8dc9-8472ec30bb59"
      },
      "execution_count": 40,
      "outputs": [
        {
          "output_type": "execute_result",
          "data": {
            "text/plain": [
              "7"
            ]
          },
          "metadata": {},
          "execution_count": 40
        }
      ]
    },
    {
      "cell_type": "markdown",
      "source": [
        "let's generate prediction classes:\n",
        "\n",
        "    For binary classification, np.where(y_pred > threshold, 1,0)\n",
        "    For multiclass classification, np.argmax(predictions, axis=1)\n",
        "\n",
        "https://stackoverflow.com/questions/68776790/model-predict-classes-is-deprecated-what-to-use-instead\n"
      ],
      "metadata": {
        "id": "B_TALmJ4H5Ko"
      }
    },
    {
      "cell_type": "code",
      "source": [
        "predictions=np.argmax(predictions_prob,axis=1)\n",
        "predictions[0:5]\n"
      ],
      "metadata": {
        "colab": {
          "base_uri": "https://localhost:8080/"
        },
        "id": "oj6dsRZPH57n",
        "outputId": "c1ddf391-13e3-4763-d9b1-3ad85ae3b806"
      },
      "execution_count": 41,
      "outputs": [
        {
          "output_type": "execute_result",
          "data": {
            "text/plain": [
              "array([7, 2, 1, 0, 4])"
            ]
          },
          "metadata": {},
          "execution_count": 41
        }
      ]
    },
    {
      "cell_type": "code",
      "source": [
        "from sklearn.metrics import classification_report,confusion_matrix"
      ],
      "metadata": {
        "id": "46RRs6-5IT4z"
      },
      "execution_count": 42,
      "outputs": []
    },
    {
      "cell_type": "code",
      "source": [
        "print(classification_report(y_test,predictions))"
      ],
      "metadata": {
        "colab": {
          "base_uri": "https://localhost:8080/"
        },
        "id": "BuGMMfwyIXkf",
        "outputId": "3cdf79f6-4a46-45ae-ff3b-435dec19ca52"
      },
      "execution_count": 43,
      "outputs": [
        {
          "output_type": "stream",
          "name": "stdout",
          "text": [
            "              precision    recall  f1-score   support\n",
            "\n",
            "           0       0.99      1.00      0.99       980\n",
            "           1       1.00      0.99      0.99      1135\n",
            "           2       0.99      1.00      0.99      1032\n",
            "           3       0.99      0.99      0.99      1010\n",
            "           4       1.00      0.99      0.99       982\n",
            "           5       0.99      0.99      0.99       892\n",
            "           6       0.99      0.99      0.99       958\n",
            "           7       1.00      0.98      0.99      1028\n",
            "           8       0.99      0.99      0.99       974\n",
            "           9       0.99      0.99      0.99      1009\n",
            "\n",
            "    accuracy                           0.99     10000\n",
            "   macro avg       0.99      0.99      0.99     10000\n",
            "weighted avg       0.99      0.99      0.99     10000\n",
            "\n"
          ]
        }
      ]
    },
    {
      "cell_type": "code",
      "source": [
        "confusion_matrix(y_test,predictions)"
      ],
      "metadata": {
        "colab": {
          "base_uri": "https://localhost:8080/"
        },
        "id": "l14QFkH2Iagk",
        "outputId": "c9f970ae-c03f-4ce2-90bc-95ab31aaf8f4"
      },
      "execution_count": 44,
      "outputs": [
        {
          "output_type": "execute_result",
          "data": {
            "text/plain": [
              "array([[ 977,    0,    0,    0,    0,    0,    1,    2,    0,    0],\n",
              "       [   2, 1125,    4,    1,    0,    1,    2,    0,    0,    0],\n",
              "       [   0,    0, 1028,    1,    0,    0,    0,    3,    0,    0],\n",
              "       [   1,    0,    1, 1001,    0,    5,    0,    0,    2,    0],\n",
              "       [   0,    0,    0,    0,  976,    0,    1,    0,    0,    5],\n",
              "       [   0,    0,    1,    3,    0,  885,    1,    0,    1,    1],\n",
              "       [   2,    1,    1,    0,    1,    1,  951,    0,    1,    0],\n",
              "       [   1,    2,    7,    0,    0,    1,    0, 1012,    2,    3],\n",
              "       [   1,    0,    1,    2,    0,    0,    1,    0,  966,    3],\n",
              "       [   0,    0,    0,    0,    3,    4,    0,    0,    0, 1002]])"
            ]
          },
          "metadata": {},
          "execution_count": 44
        }
      ]
    },
    {
      "cell_type": "code",
      "source": [
        "import seaborn as sns\n",
        "plt.figure(figsize=(10,6))\n",
        "sns.heatmap(confusion_matrix(y_test,predictions),annot=True)\n",
        "plt.show()"
      ],
      "metadata": {
        "colab": {
          "base_uri": "https://localhost:8080/",
          "height": 374
        },
        "id": "ydLq1KRqIeuN",
        "outputId": "9ee62282-4f08-485b-a350-13443c043dbf"
      },
      "execution_count": 45,
      "outputs": [
        {
          "output_type": "display_data",
          "data": {
            "text/plain": [
              "<Figure size 720x432 with 2 Axes>"
            ],
            "image/png": "[encoded data removed]"
          },
          "metadata": {
            "needs_background": "light"
          }
        }
      ]
    },
    {
      "cell_type": "markdown",
      "source": [
        "Let's look into some of the misclassified images!"
      ],
      "metadata": {
        "id": "VeVyyqRaIznd"
      }
    },
    {
      "cell_type": "code",
      "source": [
        "y_test!=predictions"
      ],
      "metadata": {
        "colab": {
          "base_uri": "https://localhost:8080/"
        },
        "id": "-SH5ro4jI0Wp",
        "outputId": "f15278df-d549-4a8b-f780-6b854724b7bf"
      },
      "execution_count": 47,
      "outputs": [
        {
          "output_type": "execute_result",
          "data": {
            "text/plain": [
              "array([False, False, False, ..., False, False, False])"
            ]
          },
          "metadata": {},
          "execution_count": 47
        }
      ]
    },
    {
      "cell_type": "code",
      "source": [
        "misclassified_images=[i for i,x in enumerate(y_test!=predictions) if x==True]\n",
        "misclassified_images[:9]"
      ],
      "metadata": {
        "colab": {
          "base_uri": "https://localhost:8080/"
        },
        "id": "0Dbw33BdI4c4",
        "outputId": "3e5f2c19-64e4-4d78-9d9c-a914f97456db"
      },
      "execution_count": 50,
      "outputs": [
        {
          "output_type": "execute_result",
          "data": {
            "text/plain": [
              "[18, 115, 340, 445, 449, 582, 659, 726, 883]"
            ]
          },
          "metadata": {},
          "execution_count": 50
        }
      ]
    },
    {
      "cell_type": "code",
      "source": [
        "for a, b in enumerate(misclassified_images[:9]):\n",
        "  print(a,b)"
      ],
      "metadata": {
        "colab": {
          "base_uri": "https://localhost:8080/"
        },
        "id": "vgREU6qOJnuO",
        "outputId": "ee1bb294-f1db-476d-936b-b6cbd1b822a6"
      },
      "execution_count": 51,
      "outputs": [
        {
          "output_type": "stream",
          "name": "stdout",
          "text": [
            "0 18\n",
            "1 115\n",
            "2 340\n",
            "3 445\n",
            "4 449\n",
            "5 582\n",
            "6 659\n",
            "7 726\n",
            "8 883\n"
          ]
        }
      ]
    },
    {
      "cell_type": "code",
      "source": [
        "plt.figure(figsize=(10,10))\n",
        "\n",
        "actuals = []\n",
        "for i , number in enumerate(misclassified_images[:9]):\n",
        "  ax = plt.subplot(3,3,i+1)\n",
        "  plt.imshow(X_test[number].reshape(28,28)) \n",
        "  actuals.append(y_test[number])\n",
        "plt.show() "
      ],
      "metadata": {
        "colab": {
          "base_uri": "https://localhost:8080/",
          "height": 593
        },
        "id": "4vCLmI-OKZqj",
        "outputId": "d9d6bc1c-285c-45f8-ee7c-e9ab586d9452"
      },
      "execution_count": 53,
      "outputs": [
        {
          "output_type": "display_data",
          "data": {
            "text/plain": [
              "<Figure size 720x720 with 9 Axes>"
            ],
            "image/png": "[encoded data removed]"
          },
          "metadata": {
            "needs_background": "light"
          }
        }
      ]
    },
    {
      "cell_type": "code",
      "source": [
        "actuals"
      ],
      "metadata": {
        "colab": {
          "base_uri": "https://localhost:8080/"
        },
        "id": "bSs-MlhAKoll",
        "outputId": "261d6aa0-3e2e-42fb-8e98-9b564b28bdff"
      },
      "execution_count": 54,
      "outputs": [
        {
          "output_type": "execute_result",
          "data": {
            "text/plain": [
              "[3, 4, 5, 6, 3, 8, 2, 7, 3]"
            ]
          },
          "metadata": {},
          "execution_count": 54
        }
      ]
    },
    {
      "cell_type": "code",
      "source": [
        "predictions[misclassified_images[:9]]"
      ],
      "metadata": {
        "colab": {
          "base_uri": "https://localhost:8080/"
        },
        "id": "h75Gv7U2KvsI",
        "outputId": "a5a80541-01ad-4d81-9f23-e9567a5d8030"
      },
      "execution_count": 55,
      "outputs": [
        {
          "output_type": "execute_result",
          "data": {
            "text/plain": [
              "array([8, 9, 3, 0, 5, 2, 7, 5, 5])"
            ]
          },
          "metadata": {},
          "execution_count": 55
        }
      ]
    },
    {
      "cell_type": "markdown",
      "source": [
        "Done"
      ],
      "metadata": {
        "id": "brCLCq5LK2ik"
      }
    },
    {
      "cell_type": "code",
      "source": [],
      "metadata": {
        "id": "_-zB6ykZK3sa"
      },
      "execution_count": null,
      "outputs": []
    }
  ]
}