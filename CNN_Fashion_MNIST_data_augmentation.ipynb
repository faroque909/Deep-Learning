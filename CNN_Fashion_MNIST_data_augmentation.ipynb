{
  "nbformat": 4,
  "nbformat_minor": 0,
  "metadata": {
    "colab": {
      "provenance": []
    },
    "kernelspec": {
      "name": "python3",
      "display_name": "Python 3"
    },
    "language_info": {
      "name": "python"
    },
    "accelerator": "GPU",
    "gpuClass": "standard"
  },
  "cells": [
    {
      "cell_type": "markdown",
      "source": [
        "Module 5- Deep Computer Vision- Convolutional Neural Networks (CNN)\n",
        "Installation\n",
        "\n",
        "    If you want to run your code on Google Colab, there is no installation required. (recommended for the course)\n",
        "    If you want to run your code locally, then you need to install tensorflow https://www.tensorflow.org/install\n",
        "\n"
      ],
      "metadata": {
        "id": "WRMeLB2Wj307"
      }
    },
    {
      "cell_type": "code",
      "source": [
        "import tensorflow \n",
        "tensorflow.__version__"
      ],
      "metadata": {
        "colab": {
          "base_uri": "https://localhost:8080/",
          "height": 35
        },
        "id": "wIsq6aJ1j4sH",
        "outputId": "4dda62c7-067c-4b0c-bdcb-1df8c30d12ad"
      },
      "execution_count": 2,
      "outputs": [
        {
          "output_type": "execute_result",
          "data": {
            "text/plain": [
              "'2.11.0'"
            ],
            "application/vnd.google.colaboratory.intrinsic+json": {
              "type": "string"
            }
          },
          "metadata": {},
          "execution_count": 2
        }
      ]
    },
    {
      "cell_type": "code",
      "source": [
        "import pandas as pd\n",
        "import numpy as np\n",
        "import matplotlib.pyplot as plt"
      ],
      "metadata": {
        "id": "lcM27Ha5j8n_"
      },
      "execution_count": 3,
      "outputs": []
    },
    {
      "cell_type": "markdown",
      "source": [
        "Importing the data\n",
        "\n",
        "In this notebook, we will be working with fashion mnist data set: https://www.kaggle.com/datasets/zalando-research/fashionmnist\n",
        "\n",
        "    60,000 train images\n",
        "    10,000 test images\n",
        "    image size (28,28)\n",
        "\n",
        "Labels\n",
        "\n",
        "    0 T-shirt/top\n",
        "    1 Trouser\n",
        "    2 Pullover\n",
        "    3 Dress\n",
        "    4 Coat\n",
        "    5 Sandal\n",
        "    6 Shirt\n",
        "    7 Sneaker\n",
        "    8 Bag\n",
        "    9 Ankle boot\n",
        "\n",
        "The data set is balanced!"
      ],
      "metadata": {
        "id": "zCYODLYskLmx"
      }
    },
    {
      "cell_type": "code",
      "source": [
        "from tensorflow.keras.datasets import fashion_mnist\n",
        "(x_train,y_train),(x_test,y_test)=fashion_mnist.load_data()"
      ],
      "metadata": {
        "colab": {
          "base_uri": "https://localhost:8080/"
        },
        "id": "6vWT5MJ-kM0a",
        "outputId": "3645dde2-7aa0-40ee-8dd5-c1c1f2cf6a84"
      },
      "execution_count": 4,
      "outputs": [
        {
          "output_type": "stream",
          "name": "stdout",
          "text": [
            "Downloading data from https://storage.googleapis.com/tensorflow/tf-keras-datasets/train-labels-idx1-ubyte.gz\n",
            "29515/29515 [==============================] - 0s 0us/step\n",
            "Downloading data from https://storage.googleapis.com/tensorflow/tf-keras-datasets/train-images-idx3-ubyte.gz\n",
            "26421880/26421880 [==============================] - 2s 0us/step\n",
            "Downloading data from https://storage.googleapis.com/tensorflow/tf-keras-datasets/t10k-labels-idx1-ubyte.gz\n",
            "5148/5148 [==============================] - 0s 0us/step\n",
            "Downloading data from https://storage.googleapis.com/tensorflow/tf-keras-datasets/t10k-images-idx3-ubyte.gz\n",
            "4422102/4422102 [==============================] - 0s 0us/step\n"
          ]
        }
      ]
    },
    {
      "cell_type": "code",
      "source": [
        "x_train.shape"
      ],
      "metadata": {
        "colab": {
          "base_uri": "https://localhost:8080/"
        },
        "id": "FOD0rXoenE2s",
        "outputId": "079c01f2-7e44-4c65-a11d-ae2e18f2e42a"
      },
      "execution_count": 5,
      "outputs": [
        {
          "output_type": "execute_result",
          "data": {
            "text/plain": [
              "(60000, 28, 28)"
            ]
          },
          "metadata": {},
          "execution_count": 5
        }
      ]
    },
    {
      "cell_type": "code",
      "source": [
        "y_train.shape"
      ],
      "metadata": {
        "colab": {
          "base_uri": "https://localhost:8080/"
        },
        "id": "Gp66rvo3rHds",
        "outputId": "2272539e-7ff8-4fb7-9b27-066730837c33"
      },
      "execution_count": 6,
      "outputs": [
        {
          "output_type": "execute_result",
          "data": {
            "text/plain": [
              "(60000,)"
            ]
          },
          "metadata": {},
          "execution_count": 6
        }
      ]
    },
    {
      "cell_type": "code",
      "source": [
        "x_test.shape"
      ],
      "metadata": {
        "colab": {
          "base_uri": "https://localhost:8080/"
        },
        "id": "ZCllZyZarKee",
        "outputId": "7bbe5716-6821-405c-99d8-64d2db18fd60"
      },
      "execution_count": 7,
      "outputs": [
        {
          "output_type": "execute_result",
          "data": {
            "text/plain": [
              "(10000, 28, 28)"
            ]
          },
          "metadata": {},
          "execution_count": 7
        }
      ]
    },
    {
      "cell_type": "code",
      "source": [
        "from collections import Counter\n",
        "Counter(y_train)"
      ],
      "metadata": {
        "colab": {
          "base_uri": "https://localhost:8080/"
        },
        "id": "P25UuAu6rRIA",
        "outputId": "d21ac06b-8ad1-48bc-d3c9-cdb02586d9b0"
      },
      "execution_count": 8,
      "outputs": [
        {
          "output_type": "execute_result",
          "data": {
            "text/plain": [
              "Counter({9: 6000,\n",
              "         0: 6000,\n",
              "         3: 6000,\n",
              "         2: 6000,\n",
              "         7: 6000,\n",
              "         5: 6000,\n",
              "         1: 6000,\n",
              "         6: 6000,\n",
              "         4: 6000,\n",
              "         8: 6000})"
            ]
          },
          "metadata": {},
          "execution_count": 8
        }
      ]
    },
    {
      "cell_type": "code",
      "source": [
        "plt.imshow(x_train[1],cmap='Greys')\n",
        "plt.show()"
      ],
      "metadata": {
        "colab": {
          "base_uri": "https://localhost:8080/",
          "height": 265
        },
        "id": "340j5jLRuHjd",
        "outputId": "baa03912-8410-4536-e21b-72bc5c079a98"
      },
      "execution_count": 9,
      "outputs": [
        {
          "output_type": "display_data",
          "data": {
            "text/plain": [
              "<Figure size 432x288 with 1 Axes>"
            ],
            "image/png": "[encoded data removed]"
          },
          "metadata": {
            "needs_background": "light"
          }
        }
      ]
    },
    {
      "cell_type": "code",
      "source": [
        "y_train[1]"
      ],
      "metadata": {
        "colab": {
          "base_uri": "https://localhost:8080/"
        },
        "id": "9fmAcbVAu2Eu",
        "outputId": "cdf0e399-1d39-45a7-a3ab-31f3d3c05c4c"
      },
      "execution_count": 10,
      "outputs": [
        {
          "output_type": "execute_result",
          "data": {
            "text/plain": [
              "0"
            ]
          },
          "metadata": {},
          "execution_count": 10
        }
      ]
    },
    {
      "cell_type": "markdown",
      "source": [],
      "metadata": {
        "id": "rCO0NtidvzdC"
      }
    },
    {
      "cell_type": "markdown",
      "source": [
        "There are two ways we can handle the target variable:\n",
        "\n",
        "    Using one-hot encoding + categorical_crossentropy loss function\n",
        "    Using integer labels + sparse_categorical_crossentropy loss function.\n",
        "\n",
        "When it comes to multi-class classification, it may not make a big difference whether you use integer labels or one-hot encoded labels, as long as the model is able to learn to predict the correct class. However, there are several benefits to using one-hot encoding for categorical variables in general:\n",
        "\n",
        "    No implied ordering\n",
        "    Better generalization: One-hot encoding can lead to better generalization to new data because it allows the model to learn more distinct boundaries between the classes. With integer labels, the model may be tempted to interpolate between adjacent classes, which can lead to overfitting on the training data.\n",
        "    Easier to interpret: One-hot encoding provides a clear and interpretable representation of the classes. Each class is represented by a binary vector, where each element corresponds to a different class. "
      ],
      "metadata": {
        "id": "5WmBVQpFvzuM"
      }
    },
    {
      "cell_type": "code",
      "source": [
        "y_train.shape"
      ],
      "metadata": {
        "colab": {
          "base_uri": "https://localhost:8080/"
        },
        "id": "Io-CKLU1v1C2",
        "outputId": "081d6714-15e3-4406-8294-07652e85337d"
      },
      "execution_count": 11,
      "outputs": [
        {
          "output_type": "execute_result",
          "data": {
            "text/plain": [
              "(60000,)"
            ]
          },
          "metadata": {},
          "execution_count": 11
        }
      ]
    },
    {
      "cell_type": "code",
      "source": [
        "from tensorflow.keras.utils import to_categorical\n",
        "y_train_ohe=to_categorical(y_train,num_classes=10)\n",
        "y_train_ohe.shape"
      ],
      "metadata": {
        "colab": {
          "base_uri": "https://localhost:8080/"
        },
        "id": "OvxxeEHzwVBn",
        "outputId": "155841ff-48e4-4cf2-9086-284adef28948"
      },
      "execution_count": 12,
      "outputs": [
        {
          "output_type": "execute_result",
          "data": {
            "text/plain": [
              "(60000, 10)"
            ]
          },
          "metadata": {},
          "execution_count": 12
        }
      ]
    },
    {
      "cell_type": "code",
      "source": [
        "# alternative way to do one hot encoding\n",
        "import tensorflow as tf\n",
        "y_test_ohe=tf.one_hot(y_test,depth=10)\n",
        "y_test_ohe.shape"
      ],
      "metadata": {
        "colab": {
          "base_uri": "https://localhost:8080/"
        },
        "id": "tXaHPJ7Gw4Aj",
        "outputId": "6f671fe0-d7bd-438a-8feb-c6df609dc38d"
      },
      "execution_count": 13,
      "outputs": [
        {
          "output_type": "execute_result",
          "data": {
            "text/plain": [
              "TensorShape([10000, 10])"
            ]
          },
          "metadata": {},
          "execution_count": 13
        }
      ]
    },
    {
      "cell_type": "markdown",
      "source": [
        "Creating an ANN model as benchmark\n",
        "\n",
        "let's start by an ANN model and see how we can improve that. We are not trying to optimize the ANN model, so let's do a quick sequential approach."
      ],
      "metadata": {
        "id": "cWGoKLhgql-f"
      }
    },
    {
      "cell_type": "code",
      "source": [
        "import tensorflow as tf\n",
        "from tensorflow import keras\n",
        "from tensorflow.keras import layers"
      ],
      "metadata": {
        "id": "U8e6pqJAqmzR"
      },
      "execution_count": 14,
      "outputs": []
    },
    {
      "cell_type": "code",
      "source": [
        "print(f'Train set shape is:{x_train.shape}')\n",
        "print(f'Test set shape is:{x_test.shape}')"
      ],
      "metadata": {
        "colab": {
          "base_uri": "https://localhost:8080/"
        },
        "id": "3o8zxtBKquMV",
        "outputId": "954d9352-8e9a-4008-8353-3e656a0bc1bc"
      },
      "execution_count": 15,
      "outputs": [
        {
          "output_type": "stream",
          "name": "stdout",
          "text": [
            "Train set shape is:(60000, 28, 28)\n",
            "Test set shape is:(10000, 28, 28)\n"
          ]
        }
      ]
    },
    {
      "cell_type": "code",
      "source": [
        "# we need to flatten images and pass it to a FCN. \n",
        "x_train_ann=x_train.reshape(60000,28*28)\n",
        "x_train_ann=x_train_ann/255\n",
        "x_test_ann=x_test.reshape(10000,28*28)\n",
        "x_test_ann=x_test_ann/255"
      ],
      "metadata": {
        "id": "E5urJweGrGIG"
      },
      "execution_count": 16,
      "outputs": []
    },
    {
      "cell_type": "code",
      "source": [
        "x_train_ann.shape"
      ],
      "metadata": {
        "colab": {
          "base_uri": "https://localhost:8080/"
        },
        "id": "RtOXTt2Trzyf",
        "outputId": "557f2752-abce-4d09-ed12-ed13146c64b7"
      },
      "execution_count": 17,
      "outputs": [
        {
          "output_type": "execute_result",
          "data": {
            "text/plain": [
              "(60000, 784)"
            ]
          },
          "metadata": {},
          "execution_count": 17
        }
      ]
    },
    {
      "cell_type": "code",
      "source": [
        "#input layer\n",
        "ann_model=keras.Sequential(name='ann_mnist')\n",
        "ann_model.add(layers.Input(shape=(784,))) # this is the shape of each sample! \n",
        "ann_model.add(layers.Dense(units=512,activation='relu',name='first_layer'))\n",
        "#output layer\n",
        "ann_model.add(layers.Dense(units=10,activation='softmax',name='output_layer'))"
      ],
      "metadata": {
        "id": "2GBuxzhzr4tB"
      },
      "execution_count": 18,
      "outputs": []
    },
    {
      "cell_type": "code",
      "source": [
        "ann_model.summary()"
      ],
      "metadata": {
        "colab": {
          "base_uri": "https://localhost:8080/"
        },
        "id": "JKWBY6mItB35",
        "outputId": "eef5404e-4dcc-46b6-bd79-bdba254394db"
      },
      "execution_count": 19,
      "outputs": [
        {
          "output_type": "stream",
          "name": "stdout",
          "text": [
            "Model: \"ann_mnist\"\n",
            "_________________________________________________________________\n",
            " Layer (type)                Output Shape              Param #   \n",
            "=================================================================\n",
            " first_layer (Dense)         (None, 512)               401920    \n",
            "                                                                 \n",
            " output_layer (Dense)        (None, 10)                5130      \n",
            "                                                                 \n",
            "=================================================================\n",
            "Total params: 407,050\n",
            "Trainable params: 407,050\n",
            "Non-trainable params: 0\n",
            "_________________________________________________________________\n"
          ]
        }
      ]
    },
    {
      "cell_type": "code",
      "source": [
        "#params \n",
        "784*512+512"
      ],
      "metadata": {
        "colab": {
          "base_uri": "https://localhost:8080/"
        },
        "id": "Em5q5JYFtV-u",
        "outputId": "2c67fbb9-3aa3-425a-a041-be72e9c88f2b"
      },
      "execution_count": 20,
      "outputs": [
        {
          "output_type": "execute_result",
          "data": {
            "text/plain": [
              "401920"
            ]
          },
          "metadata": {},
          "execution_count": 20
        }
      ]
    },
    {
      "cell_type": "code",
      "source": [
        "512*10+10"
      ],
      "metadata": {
        "colab": {
          "base_uri": "https://localhost:8080/"
        },
        "id": "uQQHxCNUtfvO",
        "outputId": "b4eae4d9-b4ba-4bd6-90c5-a274e4f1af58"
      },
      "execution_count": 21,
      "outputs": [
        {
          "output_type": "execute_result",
          "data": {
            "text/plain": [
              "5130"
            ]
          },
          "metadata": {},
          "execution_count": 21
        }
      ]
    },
    {
      "cell_type": "code",
      "source": [
        "ann_model.compile(optimizer='rmsprop',loss='categorical_crossentropy',metrics=['accuracy'])"
      ],
      "metadata": {
        "id": "h2m64-R7tmd-"
      },
      "execution_count": 22,
      "outputs": []
    },
    {
      "cell_type": "code",
      "source": [
        "from tensorflow.keras.callbacks import ModelCheckpoint\n",
        "modelcheckpoint=ModelCheckpoint(filepath='ANN_benchmark.keras',save_best_only=True,monitor='val_loss')\n",
        "callback_list=[modelcheckpoint]"
      ],
      "metadata": {
        "id": "16UllnG1uIq4"
      },
      "execution_count": 23,
      "outputs": []
    },
    {
      "cell_type": "code",
      "source": [
        "ann_model.fit(x_train_ann, y_train_ohe, validation_data=(x_test_ann, y_test_ohe), epochs=20, batch_size=128, callbacks=callback_list)"
      ],
      "metadata": {
        "colab": {
          "base_uri": "https://localhost:8080/"
        },
        "id": "M6nyioLvuzZI",
        "outputId": "e7516660-a560-4b44-e8a9-dc15d2ed93e0"
      },
      "execution_count": 24,
      "outputs": [
        {
          "output_type": "stream",
          "name": "stdout",
          "text": [
            "Epoch 1/20\n",
            "469/469 [==============================] - 6s 4ms/step - loss: 0.5550 - accuracy: 0.8020 - val_loss: 0.4614 - val_accuracy: 0.8334\n",
            "Epoch 2/20\n",
            "469/469 [==============================] - 2s 5ms/step - loss: 0.3856 - accuracy: 0.8604 - val_loss: 0.4698 - val_accuracy: 0.8198\n",
            "Epoch 3/20\n",
            "469/469 [==============================] - 3s 5ms/step - loss: 0.3416 - accuracy: 0.8743 - val_loss: 0.3656 - val_accuracy: 0.8707\n",
            "Epoch 4/20\n",
            "469/469 [==============================] - 3s 5ms/step - loss: 0.3122 - accuracy: 0.8846 - val_loss: 0.3438 - val_accuracy: 0.8778\n",
            "Epoch 5/20\n",
            "469/469 [==============================] - 3s 7ms/step - loss: 0.2939 - accuracy: 0.8912 - val_loss: 0.3627 - val_accuracy: 0.8714\n",
            "Epoch 6/20\n",
            "469/469 [==============================] - 3s 5ms/step - loss: 0.2802 - accuracy: 0.8968 - val_loss: 0.3420 - val_accuracy: 0.8755\n",
            "Epoch 7/20\n",
            "469/469 [==============================] - 2s 5ms/step - loss: 0.2651 - accuracy: 0.9011 - val_loss: 0.3972 - val_accuracy: 0.8629\n",
            "Epoch 8/20\n",
            "469/469 [==============================] - 2s 5ms/step - loss: 0.2542 - accuracy: 0.9039 - val_loss: 0.3311 - val_accuracy: 0.8843\n",
            "Epoch 9/20\n",
            "469/469 [==============================] - 2s 3ms/step - loss: 0.2444 - accuracy: 0.9079 - val_loss: 0.3293 - val_accuracy: 0.8859\n",
            "Epoch 10/20\n",
            "469/469 [==============================] - 2s 4ms/step - loss: 0.2345 - accuracy: 0.9123 - val_loss: 0.3397 - val_accuracy: 0.8872\n",
            "Epoch 11/20\n",
            "469/469 [==============================] - 2s 5ms/step - loss: 0.2282 - accuracy: 0.9152 - val_loss: 0.3398 - val_accuracy: 0.8827\n",
            "Epoch 12/20\n",
            "469/469 [==============================] - 3s 6ms/step - loss: 0.2183 - accuracy: 0.9190 - val_loss: 0.3440 - val_accuracy: 0.8910\n",
            "Epoch 13/20\n",
            "469/469 [==============================] - 2s 5ms/step - loss: 0.2113 - accuracy: 0.9220 - val_loss: 0.3443 - val_accuracy: 0.8882\n",
            "Epoch 14/20\n",
            "469/469 [==============================] - 2s 3ms/step - loss: 0.2032 - accuracy: 0.9241 - val_loss: 0.3456 - val_accuracy: 0.8845\n",
            "Epoch 15/20\n",
            "469/469 [==============================] - 2s 4ms/step - loss: 0.1983 - accuracy: 0.9274 - val_loss: 0.3685 - val_accuracy: 0.8813\n",
            "Epoch 16/20\n",
            "469/469 [==============================] - 2s 4ms/step - loss: 0.1921 - accuracy: 0.9295 - val_loss: 0.3720 - val_accuracy: 0.8842\n",
            "Epoch 17/20\n",
            "469/469 [==============================] - 2s 3ms/step - loss: 0.1866 - accuracy: 0.9305 - val_loss: 0.3356 - val_accuracy: 0.8921\n",
            "Epoch 18/20\n",
            "469/469 [==============================] - 2s 5ms/step - loss: 0.1808 - accuracy: 0.9323 - val_loss: 0.3462 - val_accuracy: 0.8919\n",
            "Epoch 19/20\n",
            "469/469 [==============================] - 2s 5ms/step - loss: 0.1760 - accuracy: 0.9350 - val_loss: 0.3481 - val_accuracy: 0.8945\n",
            "Epoch 20/20\n",
            "469/469 [==============================] - 1s 3ms/step - loss: 0.1718 - accuracy: 0.9369 - val_loss: 0.3694 - val_accuracy: 0.8874\n"
          ]
        },
        {
          "output_type": "execute_result",
          "data": {
            "text/plain": [
              "<keras.callbacks.History at 0x7fce10b611f0>"
            ]
          },
          "metadata": {},
          "execution_count": 24
        }
      ]
    },
    {
      "cell_type": "code",
      "source": [
        "test_model=keras.models.load_model('ANN_benchmark.keras')\n",
        "test_model.evaluate(x_test_ann,y_test_ohe)"
      ],
      "metadata": {
        "colab": {
          "base_uri": "https://localhost:8080/"
        },
        "id": "-foc4_Myvn-o",
        "outputId": "aae691f1-440e-4a26-e2ab-63472a98a919"
      },
      "execution_count": 25,
      "outputs": [
        {
          "output_type": "stream",
          "name": "stdout",
          "text": [
            "313/313 [==============================] - 2s 4ms/step - loss: 0.3293 - accuracy: 0.8859\n"
          ]
        },
        {
          "output_type": "execute_result",
          "data": {
            "text/plain": [
              "[0.32932624220848083, 0.8859000205993652]"
            ]
          },
          "metadata": {},
          "execution_count": 25
        }
      ]
    },
    {
      "cell_type": "markdown",
      "source": [
        "ANN accuracy in the test set is around 89%. We want to see how CNN improves this accuracy. "
      ],
      "metadata": {
        "id": "UhKTwN2FwkCt"
      }
    },
    {
      "cell_type": "markdown",
      "source": [
        "Convolutional Neural Networks (CNN)"
      ],
      "metadata": {
        "id": "j8bElw0PfMpy"
      }
    },
    {
      "cell_type": "code",
      "source": [
        "# reshaping \n",
        "x_train.shape"
      ],
      "metadata": {
        "colab": {
          "base_uri": "https://localhost:8080/"
        },
        "id": "BqxTmuHtwk8M",
        "outputId": "e6bd4111-2700-444a-9258-bdbe3418f0d0"
      },
      "execution_count": 26,
      "outputs": [
        {
          "output_type": "execute_result",
          "data": {
            "text/plain": [
              "(60000, 28, 28)"
            ]
          },
          "metadata": {},
          "execution_count": 26
        }
      ]
    },
    {
      "cell_type": "code",
      "source": [
        "x_train=x_train.reshape(60000,28,28,1)"
      ],
      "metadata": {
        "id": "kitU_k1VfVTk"
      },
      "execution_count": 27,
      "outputs": []
    },
    {
      "cell_type": "code",
      "source": [
        "x_train=x_train/255\n",
        "x_test=x_test.reshape(10000,28,28,1)\n",
        "x_test=x_test/255"
      ],
      "metadata": {
        "id": "k99KbsWhfs7B"
      },
      "execution_count": 28,
      "outputs": []
    },
    {
      "cell_type": "code",
      "source": [
        "x_train.shape"
      ],
      "metadata": {
        "colab": {
          "base_uri": "https://localhost:8080/"
        },
        "id": "P7hnsic7gG2o",
        "outputId": "72e0d5ee-9a9d-4732-fa4d-0a5c99144542"
      },
      "execution_count": 29,
      "outputs": [
        {
          "output_type": "execute_result",
          "data": {
            "text/plain": [
              "(60000, 28, 28, 1)"
            ]
          },
          "metadata": {},
          "execution_count": 29
        }
      ]
    },
    {
      "cell_type": "code",
      "source": [
        "x_test.shape"
      ],
      "metadata": {
        "colab": {
          "base_uri": "https://localhost:8080/"
        },
        "id": "vmsDeK7tgLH5",
        "outputId": "6c2abc25-c0bd-4a59-ed91-f0c258e88dfe"
      },
      "execution_count": 30,
      "outputs": [
        {
          "output_type": "execute_result",
          "data": {
            "text/plain": [
              "(10000, 28, 28, 1)"
            ]
          },
          "metadata": {},
          "execution_count": 30
        }
      ]
    },
    {
      "cell_type": "markdown",
      "source": [
        "Creating a CNN model:\n",
        "\n",
        "This is the benchmark CNN we build. No regularization (no drop out or data augmentation)"
      ],
      "metadata": {
        "id": "L7FsWZx2gTvN"
      }
    },
    {
      "cell_type": "code",
      "source": [
        "import tensorflow as tf\n",
        "from tensorflow import keras\n",
        "from tensorflow.keras import layers"
      ],
      "metadata": {
        "id": "-WOCnoLLgUr-"
      },
      "execution_count": 31,
      "outputs": []
    },
    {
      "cell_type": "code",
      "source": [
        "# we will be using functional api\n",
        "def CNN_builder():\n",
        "  inputs=keras.Input(shape=(28,28,1),name='Input layer')\n",
        "  x= layers.Conv2D(filters=32,kernel_size=3,strides=(1,1),padding='valid',activation='relu',name='conv_layer_1')(inputs)\n",
        "  x=layers.MaxPool2D(pool_size=2,name='pooling_1')(x)\n",
        "  x=layers.Conv2D(filters=64,kernel_size=3,activation='relu',name='conv_layer_2')(x)\n",
        "  x=layers.MaxPool2D(pool_size=2,name='pooling_2')(x)\n",
        "  x=layers.Conv2D(filters=128,kernel_size=3,activation='relu',name='conv_layer_3')(x)\n",
        "  x=layers.Flatten(name='flattening_layer')(x)\n",
        "  outputs=layers.Dense(units=10,activation='softmax',name='output_layer')(x)\n",
        "  model=keras.Model(inputs=inputs,outputs=outputs,name='my_first_CNN_model')\n",
        "  model.compile(optimizer='rmsprop',loss='categorical_crossentropy',metrics=['accuracy'])\n",
        "  return model"
      ],
      "metadata": {
        "id": "fxpSZiNygZiP"
      },
      "execution_count": 32,
      "outputs": []
    },
    {
      "cell_type": "code",
      "source": [
        "model=CNN_builder()\n",
        "model.summary()"
      ],
      "metadata": {
        "colab": {
          "base_uri": "https://localhost:8080/"
        },
        "id": "sWyLgHConL3f",
        "outputId": "c5be9a22-0839-4051-b583-efcde4d16ca2"
      },
      "execution_count": 33,
      "outputs": [
        {
          "output_type": "stream",
          "name": "stdout",
          "text": [
            "Model: \"my_first_CNN_model\"\n",
            "_________________________________________________________________\n",
            " Layer (type)                Output Shape              Param #   \n",
            "=================================================================\n",
            " Input layer (InputLayer)    [(None, 28, 28, 1)]       0         \n",
            "                                                                 \n",
            " conv_layer_1 (Conv2D)       (None, 26, 26, 32)        320       \n",
            "                                                                 \n",
            " pooling_1 (MaxPooling2D)    (None, 13, 13, 32)        0         \n",
            "                                                                 \n",
            " conv_layer_2 (Conv2D)       (None, 11, 11, 64)        18496     \n",
            "                                                                 \n",
            " pooling_2 (MaxPooling2D)    (None, 5, 5, 64)          0         \n",
            "                                                                 \n",
            " conv_layer_3 (Conv2D)       (None, 3, 3, 128)         73856     \n",
            "                                                                 \n",
            " flattening_layer (Flatten)  (None, 1152)              0         \n",
            "                                                                 \n",
            " output_layer (Dense)        (None, 10)                11530     \n",
            "                                                                 \n",
            "=================================================================\n",
            "Total params: 104,202\n",
            "Trainable params: 104,202\n",
            "Non-trainable params: 0\n",
            "_________________________________________________________________\n"
          ]
        }
      ]
    },
    {
      "cell_type": "code",
      "source": [
        "# params\n",
        "1*(3*3)*32 + 32 "
      ],
      "metadata": {
        "colab": {
          "base_uri": "https://localhost:8080/"
        },
        "id": "AK8v7SlWne5W",
        "outputId": "db12df66-bd9e-4442-9f13-7227e3b55b01"
      },
      "execution_count": 34,
      "outputs": [
        {
          "output_type": "execute_result",
          "data": {
            "text/plain": [
              "320"
            ]
          },
          "metadata": {},
          "execution_count": 34
        }
      ]
    },
    {
      "cell_type": "code",
      "source": [
        "32*(3*3)*64+64"
      ],
      "metadata": {
        "colab": {
          "base_uri": "https://localhost:8080/"
        },
        "id": "OxBZFxZkoDJS",
        "outputId": "1b5d314e-ce06-4355-8d16-dddca19043bf"
      },
      "execution_count": 35,
      "outputs": [
        {
          "output_type": "execute_result",
          "data": {
            "text/plain": [
              "18496"
            ]
          },
          "metadata": {},
          "execution_count": 35
        }
      ]
    },
    {
      "cell_type": "code",
      "source": [
        "64*(3*3)*128+128"
      ],
      "metadata": {
        "colab": {
          "base_uri": "https://localhost:8080/"
        },
        "id": "xSHrpEOyoJtV",
        "outputId": "ce657c57-1fd1-447a-fda8-e29b5e18a5f0"
      },
      "execution_count": 36,
      "outputs": [
        {
          "output_type": "execute_result",
          "data": {
            "text/plain": [
              "73856"
            ]
          },
          "metadata": {},
          "execution_count": 36
        }
      ]
    },
    {
      "cell_type": "code",
      "source": [
        "3*3*128"
      ],
      "metadata": {
        "colab": {
          "base_uri": "https://localhost:8080/"
        },
        "id": "pqz1DPoyoS_X",
        "outputId": "687a08f8-600d-41a5-c979-193ed15cd3c7"
      },
      "execution_count": 37,
      "outputs": [
        {
          "output_type": "execute_result",
          "data": {
            "text/plain": [
              "1152"
            ]
          },
          "metadata": {},
          "execution_count": 37
        }
      ]
    },
    {
      "cell_type": "code",
      "source": [
        "1152*10+10"
      ],
      "metadata": {
        "colab": {
          "base_uri": "https://localhost:8080/"
        },
        "id": "_DAXmcmPoVAm",
        "outputId": "c7298366-6f31-4ba3-d7c8-879b7e22182e"
      },
      "execution_count": 38,
      "outputs": [
        {
          "output_type": "execute_result",
          "data": {
            "text/plain": [
              "11530"
            ]
          },
          "metadata": {},
          "execution_count": 38
        }
      ]
    },
    {
      "cell_type": "markdown",
      "source": [
        "output shape:\n",
        "\n",
        "    channels are the number of filters\n",
        "    new size = floor(nold+2p−fs+1)\n",
        "    each pooling will half the width and height\n",
        "\n"
      ],
      "metadata": {
        "id": "hP7RZftdoapa"
      }
    },
    {
      "cell_type": "code",
      "source": [
        "# for example, the output shape of conv_layer 1 is (None, 26,26, 32) \n",
        "np.floor(((28+0-3)/1)+1)"
      ],
      "metadata": {
        "colab": {
          "base_uri": "https://localhost:8080/"
        },
        "id": "MS1Oggs6obkh",
        "outputId": "0dcae493-bbe9-4497-b5ba-22c2e05c53d5"
      },
      "execution_count": 39,
      "outputs": [
        {
          "output_type": "execute_result",
          "data": {
            "text/plain": [
              "26.0"
            ]
          },
          "metadata": {},
          "execution_count": 39
        }
      ]
    },
    {
      "cell_type": "markdown",
      "source": [
        "Model fit"
      ],
      "metadata": {
        "id": "CmiS1a1Loldp"
      }
    },
    {
      "cell_type": "code",
      "source": [
        "from tensorflow.keras.callbacks import ModelCheckpoint\n",
        "modelcheckpoint=ModelCheckpoint(filepath='CNN_basic.keras',save_best_only=True,monitor='val_loss')\n",
        "callback_list=[modelcheckpoint]"
      ],
      "metadata": {
        "id": "-TJ68GGMomQy"
      },
      "execution_count": 40,
      "outputs": []
    },
    {
      "cell_type": "code",
      "source": [
        "history=model.fit(x=x_train,y=y_train_ohe,validation_data=(x_test,y_test_ohe),epochs=20,batch_size=128,callbacks=callback_list)"
      ],
      "metadata": {
        "colab": {
          "base_uri": "https://localhost:8080/"
        },
        "id": "0NSZjEMYpU02",
        "outputId": "73ae3614-4993-43c6-c091-9c85ee0debcf"
      },
      "execution_count": 41,
      "outputs": [
        {
          "output_type": "stream",
          "name": "stdout",
          "text": [
            "Epoch 1/20\n",
            "469/469 [==============================] - 11s 7ms/step - loss: 0.5903 - accuracy: 0.7839 - val_loss: 0.4175 - val_accuracy: 0.8523\n",
            "Epoch 2/20\n",
            "469/469 [==============================] - 3s 7ms/step - loss: 0.3594 - accuracy: 0.8691 - val_loss: 0.3762 - val_accuracy: 0.8626\n",
            "Epoch 3/20\n",
            "469/469 [==============================] - 3s 6ms/step - loss: 0.3082 - accuracy: 0.8869 - val_loss: 0.3257 - val_accuracy: 0.8799\n",
            "Epoch 4/20\n",
            "469/469 [==============================] - 3s 6ms/step - loss: 0.2749 - accuracy: 0.9000 - val_loss: 0.2920 - val_accuracy: 0.8917\n",
            "Epoch 5/20\n",
            "469/469 [==============================] - 3s 7ms/step - loss: 0.2507 - accuracy: 0.9094 - val_loss: 0.2729 - val_accuracy: 0.9041\n",
            "Epoch 6/20\n",
            "469/469 [==============================] - 4s 8ms/step - loss: 0.2296 - accuracy: 0.9164 - val_loss: 0.2726 - val_accuracy: 0.9049\n",
            "Epoch 7/20\n",
            "469/469 [==============================] - 3s 6ms/step - loss: 0.2137 - accuracy: 0.9219 - val_loss: 0.2679 - val_accuracy: 0.9007\n",
            "Epoch 8/20\n",
            "469/469 [==============================] - 3s 5ms/step - loss: 0.1984 - accuracy: 0.9273 - val_loss: 0.2507 - val_accuracy: 0.9125\n",
            "Epoch 9/20\n",
            "469/469 [==============================] - 2s 5ms/step - loss: 0.1834 - accuracy: 0.9328 - val_loss: 0.2535 - val_accuracy: 0.9100\n",
            "Epoch 10/20\n",
            "469/469 [==============================] - 3s 6ms/step - loss: 0.1703 - accuracy: 0.9366 - val_loss: 0.2530 - val_accuracy: 0.9096\n",
            "Epoch 11/20\n",
            "469/469 [==============================] - 4s 8ms/step - loss: 0.1583 - accuracy: 0.9416 - val_loss: 0.2663 - val_accuracy: 0.9097\n",
            "Epoch 12/20\n",
            "469/469 [==============================] - 4s 8ms/step - loss: 0.1474 - accuracy: 0.9462 - val_loss: 0.2538 - val_accuracy: 0.9132\n",
            "Epoch 13/20\n",
            "469/469 [==============================] - 3s 7ms/step - loss: 0.1360 - accuracy: 0.9509 - val_loss: 0.2639 - val_accuracy: 0.9122\n",
            "Epoch 14/20\n",
            "469/469 [==============================] - 3s 6ms/step - loss: 0.1255 - accuracy: 0.9542 - val_loss: 0.2613 - val_accuracy: 0.9127\n",
            "Epoch 15/20\n",
            "469/469 [==============================] - 3s 5ms/step - loss: 0.1162 - accuracy: 0.9575 - val_loss: 0.2680 - val_accuracy: 0.9183\n",
            "Epoch 16/20\n",
            "469/469 [==============================] - 3s 7ms/step - loss: 0.1072 - accuracy: 0.9610 - val_loss: 0.2810 - val_accuracy: 0.9150\n",
            "Epoch 17/20\n",
            "469/469 [==============================] - 3s 6ms/step - loss: 0.0994 - accuracy: 0.9639 - val_loss: 0.2909 - val_accuracy: 0.9148\n",
            "Epoch 18/20\n",
            "469/469 [==============================] - 3s 7ms/step - loss: 0.0920 - accuracy: 0.9665 - val_loss: 0.2996 - val_accuracy: 0.9101\n",
            "Epoch 19/20\n",
            "469/469 [==============================] - 2s 5ms/step - loss: 0.0849 - accuracy: 0.9695 - val_loss: 0.3087 - val_accuracy: 0.9116\n",
            "Epoch 20/20\n",
            "469/469 [==============================] - 2s 5ms/step - loss: 0.0768 - accuracy: 0.9726 - val_loss: 0.3115 - val_accuracy: 0.9168\n"
          ]
        }
      ]
    },
    {
      "cell_type": "code",
      "source": [
        "test_model=keras.models.load_model('CNN_basic.keras')\n",
        "test_model.evaluate(x_test,y_test_ohe)"
      ],
      "metadata": {
        "colab": {
          "base_uri": "https://localhost:8080/"
        },
        "id": "4whIbNhLp1Oq",
        "outputId": "49f675c4-4ab0-4b9a-f265-f1702f6c8f97"
      },
      "execution_count": 42,
      "outputs": [
        {
          "output_type": "stream",
          "name": "stdout",
          "text": [
            "313/313 [==============================] - 1s 3ms/step - loss: 0.2507 - accuracy: 0.9125\n"
          ]
        },
        {
          "output_type": "execute_result",
          "data": {
            "text/plain": [
              "[0.2506980895996094, 0.9125000238418579]"
            ]
          },
          "metadata": {},
          "execution_count": 42
        }
      ]
    },
    {
      "cell_type": "markdown",
      "source": [
        "As you can see, the CNN performs better in the test set with 91% accuracy."
      ],
      "metadata": {
        "id": "2IOp3O2cqWPq"
      }
    },
    {
      "cell_type": "markdown",
      "source": [
        "Model evaluation"
      ],
      "metadata": {
        "id": "Yrw0jz0IqZ2a"
      }
    },
    {
      "cell_type": "code",
      "source": [
        "model.metrics_names"
      ],
      "metadata": {
        "colab": {
          "base_uri": "https://localhost:8080/"
        },
        "id": "aB47sKK0qam_",
        "outputId": "cf7a720a-5182-4e1f-b685-5f8ddabf14df"
      },
      "execution_count": 43,
      "outputs": [
        {
          "output_type": "execute_result",
          "data": {
            "text/plain": [
              "['loss', 'accuracy']"
            ]
          },
          "metadata": {},
          "execution_count": 43
        }
      ]
    },
    {
      "cell_type": "code",
      "source": [
        "metrics=pd.DataFrame(history.history)"
      ],
      "metadata": {
        "id": "85RDyW93vRoA"
      },
      "execution_count": 44,
      "outputs": []
    },
    {
      "cell_type": "code",
      "source": [
        "metrics.head()"
      ],
      "metadata": {
        "colab": {
          "base_uri": "https://localhost:8080/",
          "height": 206
        },
        "id": "qY1Gvw1ZvfFW",
        "outputId": "59cb9db1-6cb6-40d3-8ef3-548b8d4b376b"
      },
      "execution_count": 45,
      "outputs": [
        {
          "output_type": "execute_result",
          "data": {
            "text/plain": [
              "       loss  accuracy  val_loss  val_accuracy\n",
              "0  0.590289  0.783933  0.417485        0.8523\n",
              "1  0.359360  0.869117  0.376226        0.8626\n",
              "2  0.308174  0.886933  0.325699        0.8799\n",
              "3  0.274868  0.899983  0.291995        0.8917\n",
              "4  0.250737  0.909400  0.272930        0.9041"
            ],
            "text/html": [
              "\n",
              "  <div id=\"df-4717464c-1496-4620-ad76-0d00a34d62de\">\n",
              "    <div class=\"colab-df-container\">\n",
              "      <div>\n",
              "<style scoped>\n",
              "    .dataframe tbody tr th:only-of-type {\n",
              "        vertical-align: middle;\n",
              "    }\n",
              "\n",
              "    .dataframe tbody tr th {\n",
              "        vertical-align: top;\n",
              "    }\n",
              "\n",
              "    .dataframe thead th {\n",
              "        text-align: right;\n",
              "    }\n",
              "</style>\n",
              "<table border=\"1\" class=\"dataframe\">\n",
              "  <thead>\n",
              "    <tr style=\"text-align: right;\">\n",
              "      <th></th>\n",
              "      <th>loss</th>\n",
              "      <th>accuracy</th>\n",
              "      <th>val_loss</th>\n",
              "      <th>val_accuracy</th>\n",
              "    </tr>\n",
              "  </thead>\n",
              "  <tbody>\n",
              "    <tr>\n",
              "      <th>0</th>\n",
              "      <td>0.590289</td>\n",
              "      <td>0.783933</td>\n",
              "      <td>0.417485</td>\n",
              "      <td>0.8523</td>\n",
              "    </tr>\n",
              "    <tr>\n",
              "      <th>1</th>\n",
              "      <td>0.359360</td>\n",
              "      <td>0.869117</td>\n",
              "      <td>0.376226</td>\n",
              "      <td>0.8626</td>\n",
              "    </tr>\n",
              "    <tr>\n",
              "      <th>2</th>\n",
              "      <td>0.308174</td>\n",
              "      <td>0.886933</td>\n",
              "      <td>0.325699</td>\n",
              "      <td>0.8799</td>\n",
              "    </tr>\n",
              "    <tr>\n",
              "      <th>3</th>\n",
              "      <td>0.274868</td>\n",
              "      <td>0.899983</td>\n",
              "      <td>0.291995</td>\n",
              "      <td>0.8917</td>\n",
              "    </tr>\n",
              "    <tr>\n",
              "      <th>4</th>\n",
              "      <td>0.250737</td>\n",
              "      <td>0.909400</td>\n",
              "      <td>0.272930</td>\n",
              "      <td>0.9041</td>\n",
              "    </tr>\n",
              "  </tbody>\n",
              "</table>\n",
              "</div>\n",
              "      <button class=\"colab-df-convert\" onclick=\"convertToInteractive('df-4717464c-1496-4620-ad76-0d00a34d62de')\"\n",
              "              title=\"Convert this dataframe to an interactive table.\"\n",
              "              style=\"display:none;\">\n",
              "        \n",
              "  <svg xmlns=\"http://www.w3.org/2000/svg\" height=\"24px\"viewBox=\"0 0 24 24\"\n",
              "       width=\"24px\">\n",
              "    <path d=\"M0 0h24v24H0V0z\" fill=\"none\"/>\n",
              "    <path d=\"M18.56 5.44l.94 2.06.94-2.06 2.06-.94-2.06-.94-.94-2.06-.94 2.06-2.06.94zm-11 1L8.5 8.5l.94-2.06 2.06-.94-2.06-.94L8.5 2.5l-.94 2.06-2.06.94zm10 10l.94 2.06.94-2.06 2.06-.94-2.06-.94-.94-2.06-.94 2.06-2.06.94z\"/><path d=\"M17.41 7.96l-1.37-1.37c-.4-.4-.92-.59-1.43-.59-.52 0-1.04.2-1.43.59L10.3 9.45l-7.72 7.72c-.78.78-.78 2.05 0 2.83L4 21.41c.39.39.9.59 1.41.59.51 0 1.02-.2 1.41-.59l7.78-7.78 2.81-2.81c.8-.78.8-2.07 0-2.86zM5.41 20L4 18.59l7.72-7.72 1.47 1.35L5.41 20z\"/>\n",
              "  </svg>\n",
              "      </button>\n",
              "      \n",
              "  <style>\n",
              "    .colab-df-container {\n",
              "      display:flex;\n",
              "      flex-wrap:wrap;\n",
              "      gap: 12px;\n",
              "    }\n",
              "\n",
              "    .colab-df-convert {\n",
              "      background-color: #E8F0FE;\n",
              "      border: none;\n",
              "      border-radius: 50%;\n",
              "      cursor: pointer;\n",
              "      display: none;\n",
              "      fill: #1967D2;\n",
              "      height: 32px;\n",
              "      padding: 0 0 0 0;\n",
              "      width: 32px;\n",
              "    }\n",
              "\n",
              "    .colab-df-convert:hover {\n",
              "      background-color: #E2EBFA;\n",
              "      box-shadow: 0px 1px 2px rgba(60, 64, 67, 0.3), 0px 1px 3px 1px rgba(60, 64, 67, 0.15);\n",
              "      fill: #174EA6;\n",
              "    }\n",
              "\n",
              "    [theme=dark] .colab-df-convert {\n",
              "      background-color: #3B4455;\n",
              "      fill: #D2E3FC;\n",
              "    }\n",
              "\n",
              "    [theme=dark] .colab-df-convert:hover {\n",
              "      background-color: #434B5C;\n",
              "      box-shadow: 0px 1px 3px 1px rgba(0, 0, 0, 0.15);\n",
              "      filter: drop-shadow(0px 1px 2px rgba(0, 0, 0, 0.3));\n",
              "      fill: #FFFFFF;\n",
              "    }\n",
              "  </style>\n",
              "\n",
              "      <script>\n",
              "        const buttonEl =\n",
              "          document.querySelector('#df-4717464c-1496-4620-ad76-0d00a34d62de button.colab-df-convert');\n",
              "        buttonEl.style.display =\n",
              "          google.colab.kernel.accessAllowed ? 'block' : 'none';\n",
              "\n",
              "        async function convertToInteractive(key) {\n",
              "          const element = document.querySelector('#df-4717464c-1496-4620-ad76-0d00a34d62de');\n",
              "          const dataTable =\n",
              "            await google.colab.kernel.invokeFunction('convertToInteractive',\n",
              "                                                     [key], {});\n",
              "          if (!dataTable) return;\n",
              "\n",
              "          const docLinkHtml = 'Like what you see? Visit the ' +\n",
              "            '<a target=\"_blank\" href=https://colab.research.google.com/notebooks/data_table.ipynb>data table notebook</a>'\n",
              "            + ' to learn more about interactive tables.';\n",
              "          element.innerHTML = '';\n",
              "          dataTable['output_type'] = 'display_data';\n",
              "          await google.colab.output.renderOutput(dataTable, element);\n",
              "          const docLink = document.createElement('div');\n",
              "          docLink.innerHTML = docLinkHtml;\n",
              "          element.appendChild(docLink);\n",
              "        }\n",
              "      </script>\n",
              "    </div>\n",
              "  </div>\n",
              "  "
            ]
          },
          "metadata": {},
          "execution_count": 45
        }
      ]
    },
    {
      "cell_type": "code",
      "source": [
        "metrics[['accuracy','val_accuracy']].plot()\n",
        "plt.show()"
      ],
      "metadata": {
        "colab": {
          "base_uri": "https://localhost:8080/",
          "height": 265
        },
        "id": "qm4QzlcgvmYi",
        "outputId": "2abebb44-96d3-4955-9163-a6ebcc182175"
      },
      "execution_count": 46,
      "outputs": [
        {
          "output_type": "display_data",
          "data": {
            "text/plain": [
              "<Figure size 432x288 with 1 Axes>"
            ],
            "image/png": "[encoded data removed]"
          },
          "metadata": {
            "needs_background": "light"
          }
        }
      ]
    },
    {
      "cell_type": "code",
      "source": [
        "metrics[['loss','val_loss']].plot()\n",
        "plt.show()"
      ],
      "metadata": {
        "colab": {
          "base_uri": "https://localhost:8080/",
          "height": 265
        },
        "id": "ICjxjyMSv3c8",
        "outputId": "7ee6d197-7068-4767-b0c6-8a7a9dccb60d"
      },
      "execution_count": 47,
      "outputs": [
        {
          "output_type": "display_data",
          "data": {
            "text/plain": [
              "<Figure size 432x288 with 1 Axes>"
            ],
            "image/png": "[encoded data removed]"
          },
          "metadata": {
            "needs_background": "light"
          }
        }
      ]
    },
    {
      "cell_type": "code",
      "source": [],
      "metadata": {
        "id": "6R9WX7F3wOHS"
      },
      "execution_count": 47,
      "outputs": []
    },
    {
      "cell_type": "markdown",
      "source": [
        "Data Augmentation\n",
        "\n",
        "We will be using Data augmentation as a regularization technique to avoid overfitting caused by having too few samples to learn from. In Keras, this can be done by adding a number of data augmentation layers at the start of your model.\n",
        "\n",
        "image augmentation layers in keras!\n",
        "\n",
        "Note: ImageDataGenerator is deprecated in tensorflow 2.1: https://www.tensorflow.org/api_docs/python/tf/keras/preprocessing/image/ImageDataGenerator"
      ],
      "metadata": {
        "id": "1mgv6voVwRxC"
      }
    },
    {
      "cell_type": "code",
      "source": [
        "data_augmentation=keras.Sequential(\n",
        "    [\n",
        "        layers.RandomFlip('horizontal'),\n",
        "        #layers.RandomRotation(0.1),\n",
        "        #layers.RandomZoom(0.2),\n",
        "    ]\n",
        ")"
      ],
      "metadata": {
        "id": "PXkmmHJwwSl7"
      },
      "execution_count": 59,
      "outputs": []
    },
    {
      "cell_type": "code",
      "source": [
        "plt.imshow(x_train[0].reshape(28,28))\n",
        "plt.show()"
      ],
      "metadata": {
        "colab": {
          "base_uri": "https://localhost:8080/",
          "height": 265
        },
        "id": "e6loB2PWxB3K",
        "outputId": "68a360bf-5179-4892-ecd6-80f09998cbd4"
      },
      "execution_count": 49,
      "outputs": [
        {
          "output_type": "display_data",
          "data": {
            "text/plain": [
              "<Figure size 432x288 with 1 Axes>"
            ],
            "image/png": "[encoded data removed]"
          },
          "metadata": {
            "needs_background": "light"
          }
        }
      ]
    },
    {
      "cell_type": "code",
      "source": [
        "image=x_train[0]\n",
        "image.shape"
      ],
      "metadata": {
        "colab": {
          "base_uri": "https://localhost:8080/"
        },
        "id": "3araEQOPxdXt",
        "outputId": "0cd9908a-8d74-46a2-d9e2-5ec33f4ea542"
      },
      "execution_count": 50,
      "outputs": [
        {
          "output_type": "execute_result",
          "data": {
            "text/plain": [
              "(28, 28, 1)"
            ]
          },
          "metadata": {},
          "execution_count": 50
        }
      ]
    },
    {
      "cell_type": "code",
      "source": [
        "plt.figure(figsize=(10,10))\n",
        "for i in range(9):\n",
        "  augmented_images=data_augmentation(image)\n",
        "  ax=plt.subplot(3,3,i+1)\n",
        "  plt.imshow(augmented_images.numpy().reshape(28,28))\n",
        "  plt.axis('off')"
      ],
      "metadata": {
        "colab": {
          "base_uri": "https://localhost:8080/",
          "height": 575
        },
        "id": "kzoSvj0GxoUS",
        "outputId": "9fbd917d-2c97-4027-d7f9-9b38252eebf6"
      },
      "execution_count": 51,
      "outputs": [
        {
          "output_type": "display_data",
          "data": {
            "text/plain": [
              "<Figure size 720x720 with 9 Axes>"
            ],
            "image/png": "[encoded data removed]"
          },
          "metadata": {
            "needs_background": "light"
          }
        }
      ]
    },
    {
      "cell_type": "code",
      "source": [
        "x= data_augmentation(x_train)\n",
        "x.shape"
      ],
      "metadata": {
        "colab": {
          "base_uri": "https://localhost:8080/"
        },
        "id": "lFxvZL9Hyeva",
        "outputId": "42e70fda-36bf-487f-cf9f-4cb73bb42c60"
      },
      "execution_count": 52,
      "outputs": [
        {
          "output_type": "execute_result",
          "data": {
            "text/plain": [
              "TensorShape([60000, 28, 28])"
            ]
          },
          "metadata": {},
          "execution_count": 52
        }
      ]
    },
    {
      "cell_type": "code",
      "source": [
        "x=tf.expand_dims(x,axis=-1)\n",
        "x.shape"
      ],
      "metadata": {
        "colab": {
          "base_uri": "https://localhost:8080/"
        },
        "id": "zyghfPjvynYK",
        "outputId": "054bb809-df83-4c12-94eb-089b4250fde2"
      },
      "execution_count": 53,
      "outputs": [
        {
          "output_type": "execute_result",
          "data": {
            "text/plain": [
              "TensorShape([60000, 28, 28, 1])"
            ]
          },
          "metadata": {},
          "execution_count": 53
        }
      ]
    },
    {
      "cell_type": "code",
      "source": [
        "x=tf.squeeze(x,axis=-1)\n",
        "x.shape"
      ],
      "metadata": {
        "colab": {
          "base_uri": "https://localhost:8080/"
        },
        "id": "T0AgnHSLy2j1",
        "outputId": "ea73041c-a448-4c53-f752-a1c1e3d9766f"
      },
      "execution_count": 54,
      "outputs": [
        {
          "output_type": "execute_result",
          "data": {
            "text/plain": [
              "TensorShape([60000, 28, 28])"
            ]
          },
          "metadata": {},
          "execution_count": 54
        }
      ]
    },
    {
      "cell_type": "code",
      "source": [
        "def CNN_builder_augmented():\n",
        "  inputs= keras.Input(shape=(28,28,1), name='Input layer')\n",
        "  x = data_augmentation(inputs)\n",
        "  x = layers.Conv2D(filters= 32, kernel_size = 3, strides = (1,1) , padding='valid',  activation='relu' ,name=\"conv_layer_1\")(x)\n",
        "  x = layers.MaxPool2D(pool_size=2, name=\"pooling_1\")(x)\n",
        "  x = layers.Conv2D(filters= 64, kernel_size = 3, activation='relu', name=\"conv_layer_2\")(x)\n",
        "  x = layers.MaxPool2D(pool_size=2, name=\"pooling_2\")(x)\n",
        "  x = layers.Conv2D(filters= 128, kernel_size = 3, activation='relu', name=\"conv_layer_3\")(x)\n",
        "  x = layers.Flatten(name=\"flattening_layer\")(x)\n",
        "  x = layers.Dropout(0.5)(x)\n",
        "\n",
        "  outputs = layers.Dense(units= 10, activation='softmax', name='output_layer')(x)\n",
        "\n",
        "  model = keras.Model(inputs= inputs , outputs=outputs, name='CNN_augmented_model')\n",
        "  \n",
        "  model.compile(optimizer='rmsprop',\n",
        "                loss='categorical_crossentropy',\n",
        "                metrics=['accuracy'])\n",
        "  return model "
      ],
      "metadata": {
        "id": "0MolzQOczBvO"
      },
      "execution_count": 55,
      "outputs": []
    },
    {
      "cell_type": "code",
      "source": [
        "model_augmented = CNN_builder_augmented()\n",
        "model_augmented.summary()\n",
        "# if you got an incompatible shape error in the first conv layer, this is because you are using the augmented data. Try using different augmentation techniques or use the original data. "
      ],
      "metadata": {
        "colab": {
          "base_uri": "https://localhost:8080/"
        },
        "id": "7aPyQVzWzUWg",
        "outputId": "7a33fdf2-cb25-4b6e-8f3f-ea719094d434"
      },
      "execution_count": 60,
      "outputs": [
        {
          "output_type": "stream",
          "name": "stdout",
          "text": [
            "Model: \"CNN_augmented_model\"\n",
            "_________________________________________________________________\n",
            " Layer (type)                Output Shape              Param #   \n",
            "=================================================================\n",
            " Input layer (InputLayer)    [(None, 28, 28, 1)]       0         \n",
            "                                                                 \n",
            " sequential_1 (Sequential)   (None, 28, 28, 1)         0         \n",
            "                                                                 \n",
            " conv_layer_1 (Conv2D)       (None, 26, 26, 32)        320       \n",
            "                                                                 \n",
            " pooling_1 (MaxPooling2D)    (None, 13, 13, 32)        0         \n",
            "                                                                 \n",
            " conv_layer_2 (Conv2D)       (None, 11, 11, 64)        18496     \n",
            "                                                                 \n",
            " pooling_2 (MaxPooling2D)    (None, 5, 5, 64)          0         \n",
            "                                                                 \n",
            " conv_layer_3 (Conv2D)       (None, 3, 3, 128)         73856     \n",
            "                                                                 \n",
            " flattening_layer (Flatten)  (None, 1152)              0         \n",
            "                                                                 \n",
            " dropout (Dropout)           (None, 1152)              0         \n",
            "                                                                 \n",
            " output_layer (Dense)        (None, 10)                11530     \n",
            "                                                                 \n",
            "=================================================================\n",
            "Total params: 104,202\n",
            "Trainable params: 104,202\n",
            "Non-trainable params: 0\n",
            "_________________________________________________________________\n"
          ]
        }
      ]
    },
    {
      "cell_type": "code",
      "source": [
        "model_augmented = CNN_builder_augmented()\n",
        "model_augmented.summary()"
      ],
      "metadata": {
        "colab": {
          "base_uri": "https://localhost:8080/"
        },
        "id": "KuNA57ByzhX7",
        "outputId": "1b53679b-a289-42e9-de81-0f05cfd92c5a"
      },
      "execution_count": 61,
      "outputs": [
        {
          "output_type": "stream",
          "name": "stdout",
          "text": [
            "Model: \"CNN_augmented_model\"\n",
            "_________________________________________________________________\n",
            " Layer (type)                Output Shape              Param #   \n",
            "=================================================================\n",
            " Input layer (InputLayer)    [(None, 28, 28, 1)]       0         \n",
            "                                                                 \n",
            " sequential_1 (Sequential)   (None, 28, 28, 1)         0         \n",
            "                                                                 \n",
            " conv_layer_1 (Conv2D)       (None, 26, 26, 32)        320       \n",
            "                                                                 \n",
            " pooling_1 (MaxPooling2D)    (None, 13, 13, 32)        0         \n",
            "                                                                 \n",
            " conv_layer_2 (Conv2D)       (None, 11, 11, 64)        18496     \n",
            "                                                                 \n",
            " pooling_2 (MaxPooling2D)    (None, 5, 5, 64)          0         \n",
            "                                                                 \n",
            " conv_layer_3 (Conv2D)       (None, 3, 3, 128)         73856     \n",
            "                                                                 \n",
            " flattening_layer (Flatten)  (None, 1152)              0         \n",
            "                                                                 \n",
            " dropout_1 (Dropout)         (None, 1152)              0         \n",
            "                                                                 \n",
            " output_layer (Dense)        (None, 10)                11530     \n",
            "                                                                 \n",
            "=================================================================\n",
            "Total params: 104,202\n",
            "Trainable params: 104,202\n",
            "Non-trainable params: 0\n",
            "_________________________________________________________________\n"
          ]
        }
      ]
    },
    {
      "cell_type": "markdown",
      "source": [
        "Model fit"
      ],
      "metadata": {
        "id": "haR5XNQJsKjI"
      }
    },
    {
      "cell_type": "code",
      "source": [
        "from tensorflow.keras.callbacks import ModelCheckpoint\n",
        "modelcheckpoint = ModelCheckpoint(filepath='CNN_augmented.keras',save_best_only=True,monitor='val_loss')\n",
        "callback_list=[modelcheckpoint]"
      ],
      "metadata": {
        "id": "DBe23EFYsLaG"
      },
      "execution_count": 62,
      "outputs": []
    },
    {
      "cell_type": "code",
      "source": [
        "history=model_augmented.fit(x=x_train,y=y_train_ohe,validation_data=(x_test,y_test_ohe),epochs=20,batch_size=128,callbacks=callback_list)"
      ],
      "metadata": {
        "colab": {
          "base_uri": "https://localhost:8080/"
        },
        "id": "gEeaxe80s7hM",
        "outputId": "cbf09f5d-7a15-48c5-f2bc-49e48732cd50"
      },
      "execution_count": 63,
      "outputs": [
        {
          "output_type": "stream",
          "name": "stdout",
          "text": [
            "Epoch 1/20\n",
            "469/469 [==============================] - 20s 40ms/step - loss: 0.6409 - accuracy: 0.7643 - val_loss: 0.4365 - val_accuracy: 0.8408\n",
            "Epoch 2/20\n",
            "469/469 [==============================] - 20s 43ms/step - loss: 0.4102 - accuracy: 0.8498 - val_loss: 0.3703 - val_accuracy: 0.8684\n",
            "Epoch 3/20\n",
            "469/469 [==============================] - 21s 46ms/step - loss: 0.3546 - accuracy: 0.8715 - val_loss: 0.3481 - val_accuracy: 0.8717\n",
            "Epoch 4/20\n",
            "469/469 [==============================] - 26s 56ms/step - loss: 0.3221 - accuracy: 0.8820 - val_loss: 0.3311 - val_accuracy: 0.8797\n",
            "Epoch 5/20\n",
            "469/469 [==============================] - 33s 71ms/step - loss: 0.3010 - accuracy: 0.8898 - val_loss: 0.2995 - val_accuracy: 0.8903\n",
            "Epoch 6/20\n",
            "469/469 [==============================] - 20s 43ms/step - loss: 0.2807 - accuracy: 0.8978 - val_loss: 0.2857 - val_accuracy: 0.8957\n",
            "Epoch 7/20\n",
            "469/469 [==============================] - 26s 56ms/step - loss: 0.2676 - accuracy: 0.9019 - val_loss: 0.2771 - val_accuracy: 0.8985\n",
            "Epoch 8/20\n",
            "469/469 [==============================] - 32s 67ms/step - loss: 0.2542 - accuracy: 0.9066 - val_loss: 0.3033 - val_accuracy: 0.8916\n",
            "Epoch 9/20\n",
            "469/469 [==============================] - 23s 48ms/step - loss: 0.2453 - accuracy: 0.9110 - val_loss: 0.2732 - val_accuracy: 0.9011\n",
            "Epoch 10/20\n",
            "469/469 [==============================] - 28s 59ms/step - loss: 0.2335 - accuracy: 0.9140 - val_loss: 0.2604 - val_accuracy: 0.9079\n",
            "Epoch 11/20\n",
            "469/469 [==============================] - 25s 54ms/step - loss: 0.2259 - accuracy: 0.9165 - val_loss: 0.2833 - val_accuracy: 0.9010\n",
            "Epoch 12/20\n",
            "469/469 [==============================] - 21s 45ms/step - loss: 0.2186 - accuracy: 0.9196 - val_loss: 0.2509 - val_accuracy: 0.9102\n",
            "Epoch 13/20\n",
            "469/469 [==============================] - 35s 76ms/step - loss: 0.2092 - accuracy: 0.9235 - val_loss: 0.2569 - val_accuracy: 0.9087\n",
            "Epoch 14/20\n",
            "469/469 [==============================] - 30s 64ms/step - loss: 0.2033 - accuracy: 0.9262 - val_loss: 0.2624 - val_accuracy: 0.9078\n",
            "Epoch 15/20\n",
            "469/469 [==============================] - 25s 53ms/step - loss: 0.1981 - accuracy: 0.9278 - val_loss: 0.2626 - val_accuracy: 0.9088\n",
            "Epoch 16/20\n",
            "469/469 [==============================] - 25s 54ms/step - loss: 0.1913 - accuracy: 0.9302 - val_loss: 0.2444 - val_accuracy: 0.9144\n",
            "Epoch 17/20\n",
            "469/469 [==============================] - 26s 55ms/step - loss: 0.1849 - accuracy: 0.9331 - val_loss: 0.2565 - val_accuracy: 0.9150\n",
            "Epoch 18/20\n",
            "469/469 [==============================] - 20s 43ms/step - loss: 0.1827 - accuracy: 0.9332 - val_loss: 0.2757 - val_accuracy: 0.9086\n",
            "Epoch 19/20\n",
            "469/469 [==============================] - 20s 43ms/step - loss: 0.1780 - accuracy: 0.9338 - val_loss: 0.2535 - val_accuracy: 0.9126\n",
            "Epoch 20/20\n",
            "469/469 [==============================] - 19s 40ms/step - loss: 0.1709 - accuracy: 0.9378 - val_loss: 0.2516 - val_accuracy: 0.9143\n"
          ]
        }
      ]
    },
    {
      "cell_type": "markdown",
      "source": [
        "For this dataset, the data augmentation was not that helpful because of multiple reasons:\n",
        "\n",
        "    The original train set is not that small (60k images)\n",
        "    very low resolution and centered data!\n",
        "    we added the drop out layer to avoid overfitting, this means that we need to run the model for more epochs (50 at least).\n",
        "\n",
        "Besides, it is not efficient to do data augmentation like this! because we are not taking advantage of GPU computation. In the next notebook, I show you how to do data augmentation using batches for a small dataset.\n"
      ],
      "metadata": {
        "id": "cBcU102stqwn"
      }
    },
    {
      "cell_type": "markdown",
      "source": [
        "Model evaluation"
      ],
      "metadata": {
        "id": "tQLaYi71tvpR"
      }
    },
    {
      "cell_type": "code",
      "source": [
        "metrics=pd.DataFrame(history.history)"
      ],
      "metadata": {
        "id": "mHaiUD_0trvF"
      },
      "execution_count": 64,
      "outputs": []
    },
    {
      "cell_type": "code",
      "source": [
        "metrics.head()"
      ],
      "metadata": {
        "colab": {
          "base_uri": "https://localhost:8080/",
          "height": 206
        },
        "id": "U-tcFcpEt_fn",
        "outputId": "16b7480b-7009-40e6-9968-51f3758acee6"
      },
      "execution_count": 65,
      "outputs": [
        {
          "output_type": "execute_result",
          "data": {
            "text/plain": [
              "       loss  accuracy  val_loss  val_accuracy\n",
              "0  0.640859  0.764317  0.436470        0.8408\n",
              "1  0.410242  0.849767  0.370314        0.8684\n",
              "2  0.354647  0.871450  0.348125        0.8717\n",
              "3  0.322106  0.882033  0.331099        0.8797\n",
              "4  0.301003  0.889833  0.299507        0.8903"
            ],
            "text/html": [
              "\n",
              "  <div id=\"df-5a329908-d99d-4de5-8a1d-ee8aa7b50b82\">\n",
              "    <div class=\"colab-df-container\">\n",
              "      <div>\n",
              "<style scoped>\n",
              "    .dataframe tbody tr th:only-of-type {\n",
              "        vertical-align: middle;\n",
              "    }\n",
              "\n",
              "    .dataframe tbody tr th {\n",
              "        vertical-align: top;\n",
              "    }\n",
              "\n",
              "    .dataframe thead th {\n",
              "        text-align: right;\n",
              "    }\n",
              "</style>\n",
              "<table border=\"1\" class=\"dataframe\">\n",
              "  <thead>\n",
              "    <tr style=\"text-align: right;\">\n",
              "      <th></th>\n",
              "      <th>loss</th>\n",
              "      <th>accuracy</th>\n",
              "      <th>val_loss</th>\n",
              "      <th>val_accuracy</th>\n",
              "    </tr>\n",
              "  </thead>\n",
              "  <tbody>\n",
              "    <tr>\n",
              "      <th>0</th>\n",
              "      <td>0.640859</td>\n",
              "      <td>0.764317</td>\n",
              "      <td>0.436470</td>\n",
              "      <td>0.8408</td>\n",
              "    </tr>\n",
              "    <tr>\n",
              "      <th>1</th>\n",
              "      <td>0.410242</td>\n",
              "      <td>0.849767</td>\n",
              "      <td>0.370314</td>\n",
              "      <td>0.8684</td>\n",
              "    </tr>\n",
              "    <tr>\n",
              "      <th>2</th>\n",
              "      <td>0.354647</td>\n",
              "      <td>0.871450</td>\n",
              "      <td>0.348125</td>\n",
              "      <td>0.8717</td>\n",
              "    </tr>\n",
              "    <tr>\n",
              "      <th>3</th>\n",
              "      <td>0.322106</td>\n",
              "      <td>0.882033</td>\n",
              "      <td>0.331099</td>\n",
              "      <td>0.8797</td>\n",
              "    </tr>\n",
              "    <tr>\n",
              "      <th>4</th>\n",
              "      <td>0.301003</td>\n",
              "      <td>0.889833</td>\n",
              "      <td>0.299507</td>\n",
              "      <td>0.8903</td>\n",
              "    </tr>\n",
              "  </tbody>\n",
              "</table>\n",
              "</div>\n",
              "      <button class=\"colab-df-convert\" onclick=\"convertToInteractive('df-5a329908-d99d-4de5-8a1d-ee8aa7b50b82')\"\n",
              "              title=\"Convert this dataframe to an interactive table.\"\n",
              "              style=\"display:none;\">\n",
              "        \n",
              "  <svg xmlns=\"http://www.w3.org/2000/svg\" height=\"24px\"viewBox=\"0 0 24 24\"\n",
              "       width=\"24px\">\n",
              "    <path d=\"M0 0h24v24H0V0z\" fill=\"none\"/>\n",
              "    <path d=\"M18.56 5.44l.94 2.06.94-2.06 2.06-.94-2.06-.94-.94-2.06-.94 2.06-2.06.94zm-11 1L8.5 8.5l.94-2.06 2.06-.94-2.06-.94L8.5 2.5l-.94 2.06-2.06.94zm10 10l.94 2.06.94-2.06 2.06-.94-2.06-.94-.94-2.06-.94 2.06-2.06.94z\"/><path d=\"M17.41 7.96l-1.37-1.37c-.4-.4-.92-.59-1.43-.59-.52 0-1.04.2-1.43.59L10.3 9.45l-7.72 7.72c-.78.78-.78 2.05 0 2.83L4 21.41c.39.39.9.59 1.41.59.51 0 1.02-.2 1.41-.59l7.78-7.78 2.81-2.81c.8-.78.8-2.07 0-2.86zM5.41 20L4 18.59l7.72-7.72 1.47 1.35L5.41 20z\"/>\n",
              "  </svg>\n",
              "      </button>\n",
              "      \n",
              "  <style>\n",
              "    .colab-df-container {\n",
              "      display:flex;\n",
              "      flex-wrap:wrap;\n",
              "      gap: 12px;\n",
              "    }\n",
              "\n",
              "    .colab-df-convert {\n",
              "      background-color: #E8F0FE;\n",
              "      border: none;\n",
              "      border-radius: 50%;\n",
              "      cursor: pointer;\n",
              "      display: none;\n",
              "      fill: #1967D2;\n",
              "      height: 32px;\n",
              "      padding: 0 0 0 0;\n",
              "      width: 32px;\n",
              "    }\n",
              "\n",
              "    .colab-df-convert:hover {\n",
              "      background-color: #E2EBFA;\n",
              "      box-shadow: 0px 1px 2px rgba(60, 64, 67, 0.3), 0px 1px 3px 1px rgba(60, 64, 67, 0.15);\n",
              "      fill: #174EA6;\n",
              "    }\n",
              "\n",
              "    [theme=dark] .colab-df-convert {\n",
              "      background-color: #3B4455;\n",
              "      fill: #D2E3FC;\n",
              "    }\n",
              "\n",
              "    [theme=dark] .colab-df-convert:hover {\n",
              "      background-color: #434B5C;\n",
              "      box-shadow: 0px 1px 3px 1px rgba(0, 0, 0, 0.15);\n",
              "      filter: drop-shadow(0px 1px 2px rgba(0, 0, 0, 0.3));\n",
              "      fill: #FFFFFF;\n",
              "    }\n",
              "  </style>\n",
              "\n",
              "      <script>\n",
              "        const buttonEl =\n",
              "          document.querySelector('#df-5a329908-d99d-4de5-8a1d-ee8aa7b50b82 button.colab-df-convert');\n",
              "        buttonEl.style.display =\n",
              "          google.colab.kernel.accessAllowed ? 'block' : 'none';\n",
              "\n",
              "        async function convertToInteractive(key) {\n",
              "          const element = document.querySelector('#df-5a329908-d99d-4de5-8a1d-ee8aa7b50b82');\n",
              "          const dataTable =\n",
              "            await google.colab.kernel.invokeFunction('convertToInteractive',\n",
              "                                                     [key], {});\n",
              "          if (!dataTable) return;\n",
              "\n",
              "          const docLinkHtml = 'Like what you see? Visit the ' +\n",
              "            '<a target=\"_blank\" href=https://colab.research.google.com/notebooks/data_table.ipynb>data table notebook</a>'\n",
              "            + ' to learn more about interactive tables.';\n",
              "          element.innerHTML = '';\n",
              "          dataTable['output_type'] = 'display_data';\n",
              "          await google.colab.output.renderOutput(dataTable, element);\n",
              "          const docLink = document.createElement('div');\n",
              "          docLink.innerHTML = docLinkHtml;\n",
              "          element.appendChild(docLink);\n",
              "        }\n",
              "      </script>\n",
              "    </div>\n",
              "  </div>\n",
              "  "
            ]
          },
          "metadata": {},
          "execution_count": 65
        }
      ]
    },
    {
      "cell_type": "code",
      "source": [
        "metrics[['accuracy','val_accuracy']].plot()\n",
        "plt.show()"
      ],
      "metadata": {
        "colab": {
          "base_uri": "https://localhost:8080/",
          "height": 265
        },
        "id": "7CRqMf5vuCCH",
        "outputId": "f3bcf636-7d4b-4061-db32-476bf1d988df"
      },
      "execution_count": 66,
      "outputs": [
        {
          "output_type": "display_data",
          "data": {
            "text/plain": [
              "<Figure size 432x288 with 1 Axes>"
            ],
            "image/png": "[encoded data removed]"
          },
          "metadata": {
            "needs_background": "light"
          }
        }
      ]
    },
    {
      "cell_type": "code",
      "source": [
        "metrics[['loss','val_loss']].plot()\n",
        "plt.show()"
      ],
      "metadata": {
        "colab": {
          "base_uri": "https://localhost:8080/",
          "height": 265
        },
        "id": "wJcf2e7kuOSw",
        "outputId": "143ffc52-b586-4c91-b5d4-50818a5a3400"
      },
      "execution_count": 67,
      "outputs": [
        {
          "output_type": "display_data",
          "data": {
            "text/plain": [
              "<Figure size 432x288 with 1 Axes>"
            ],
            "image/png": "[encoded data removed]"
          },
          "metadata": {
            "needs_background": "light"
          }
        }
      ]
    },
    {
      "cell_type": "markdown",
      "source": [],
      "metadata": {
        "id": "7nF7RiTmur2x"
      }
    },
    {
      "cell_type": "markdown",
      "source": [
        "these plots suggest that we should let the model run for more epochs! "
      ],
      "metadata": {
        "id": "WS3DoX5cuvvH"
      }
    },
    {
      "cell_type": "markdown",
      "source": [
        "Model predictions"
      ],
      "metadata": {
        "id": "UtF0fwdtu3ua"
      }
    },
    {
      "cell_type": "code",
      "source": [
        "model=keras.models.load_model('CNN_basic.keras')"
      ],
      "metadata": {
        "id": "w4NeeUQbu4rD"
      },
      "execution_count": 68,
      "outputs": []
    },
    {
      "cell_type": "code",
      "source": [
        "model.summary()"
      ],
      "metadata": {
        "colab": {
          "base_uri": "https://localhost:8080/"
        },
        "id": "KviLU6w1CHj3",
        "outputId": "0eb41682-728f-44e6-be93-859361515d26"
      },
      "execution_count": 69,
      "outputs": [
        {
          "output_type": "stream",
          "name": "stdout",
          "text": [
            "Model: \"my_first_CNN_model\"\n",
            "_________________________________________________________________\n",
            " Layer (type)                Output Shape              Param #   \n",
            "=================================================================\n",
            " Input layer (InputLayer)    [(None, 28, 28, 1)]       0         \n",
            "                                                                 \n",
            " conv_layer_1 (Conv2D)       (None, 26, 26, 32)        320       \n",
            "                                                                 \n",
            " pooling_1 (MaxPooling2D)    (None, 13, 13, 32)        0         \n",
            "                                                                 \n",
            " conv_layer_2 (Conv2D)       (None, 11, 11, 64)        18496     \n",
            "                                                                 \n",
            " pooling_2 (MaxPooling2D)    (None, 5, 5, 64)          0         \n",
            "                                                                 \n",
            " conv_layer_3 (Conv2D)       (None, 3, 3, 128)         73856     \n",
            "                                                                 \n",
            " flattening_layer (Flatten)  (None, 1152)              0         \n",
            "                                                                 \n",
            " output_layer (Dense)        (None, 10)                11530     \n",
            "                                                                 \n",
            "=================================================================\n",
            "Total params: 104,202\n",
            "Trainable params: 104,202\n",
            "Non-trainable params: 0\n",
            "_________________________________________________________________\n"
          ]
        }
      ]
    },
    {
      "cell_type": "code",
      "source": [
        "prediction_prob=model.predict(x_test)\n",
        "prediction_prob[0]"
      ],
      "metadata": {
        "colab": {
          "base_uri": "https://localhost:8080/"
        },
        "id": "Vh7fv8ASCLJ_",
        "outputId": "b9c08486-2b46-4c5b-94a1-163e2dfc467f"
      },
      "execution_count": 70,
      "outputs": [
        {
          "output_type": "stream",
          "name": "stdout",
          "text": [
            "313/313 [==============================] - 1s 3ms/step\n"
          ]
        },
        {
          "output_type": "execute_result",
          "data": {
            "text/plain": [
              "array([2.8291508e-08, 6.8580830e-10, 8.1411927e-10, 1.9705805e-08,\n",
              "       5.9038452e-10, 1.7046522e-04, 3.8120507e-09, 6.2899117e-04,\n",
              "       9.9640938e-06, 9.9919051e-01], dtype=float32)"
            ]
          },
          "metadata": {},
          "execution_count": 70
        }
      ]
    },
    {
      "cell_type": "code",
      "source": [
        "prediction_prob[0].argmax()"
      ],
      "metadata": {
        "colab": {
          "base_uri": "https://localhost:8080/"
        },
        "id": "x0TUgu1BCb96",
        "outputId": "00107e72-a8d8-4e30-e23a-9ea7fcad142e"
      },
      "execution_count": 71,
      "outputs": [
        {
          "output_type": "execute_result",
          "data": {
            "text/plain": [
              "9"
            ]
          },
          "metadata": {},
          "execution_count": 71
        }
      ]
    },
    {
      "cell_type": "code",
      "source": [
        "y_test[0]"
      ],
      "metadata": {
        "colab": {
          "base_uri": "https://localhost:8080/"
        },
        "id": "4swtdJVtCl4e",
        "outputId": "bc75b645-d5e6-4c83-a693-a654ed731ed1"
      },
      "execution_count": 57,
      "outputs": [
        {
          "output_type": "execute_result",
          "data": {
            "text/plain": [
              "9"
            ]
          },
          "metadata": {},
          "execution_count": 57
        }
      ]
    },
    {
      "cell_type": "markdown",
      "source": [
        "let's generate prediction classes:\n",
        "\n",
        "    For binary classification, np.where(y_pred > threshold, 1,0)\n",
        "    For multiclass classification, np.argmax(predictions, axis=1)\n",
        "\n",
        "https://stackoverflow.com/questions/68776790/model-predict-classes-is-deprecated-what-to-use-instead\n"
      ],
      "metadata": {
        "id": "mGSo2h3zDU1x"
      }
    },
    {
      "cell_type": "code",
      "source": [
        "predictions=np.argmax(prediction_prob,axis=1)\n",
        "predictions[0:5]"
      ],
      "metadata": {
        "colab": {
          "base_uri": "https://localhost:8080/"
        },
        "id": "yLSh6fV9DVuM",
        "outputId": "f21142a9-1652-4430-e8b7-6e701788d2d7"
      },
      "execution_count": 74,
      "outputs": [
        {
          "output_type": "execute_result",
          "data": {
            "text/plain": [
              "array([9, 2, 1, 1, 6])"
            ]
          },
          "metadata": {},
          "execution_count": 74
        }
      ]
    },
    {
      "cell_type": "code",
      "source": [
        "from sklearn.metrics import classification_report,confusion_matrix"
      ],
      "metadata": {
        "id": "Zr0OHurIDlnF"
      },
      "execution_count": 75,
      "outputs": []
    },
    {
      "cell_type": "code",
      "source": [
        "print(classification_report(y_test,predictions))"
      ],
      "metadata": {
        "colab": {
          "base_uri": "https://localhost:8080/"
        },
        "id": "4Sw77lwADpUN",
        "outputId": "55d8da08-30f9-47e3-b2b3-89048f0246dc"
      },
      "execution_count": 76,
      "outputs": [
        {
          "output_type": "stream",
          "name": "stdout",
          "text": [
            "              precision    recall  f1-score   support\n",
            "\n",
            "           0       0.87      0.84      0.86      1000\n",
            "           1       1.00      0.97      0.99      1000\n",
            "           2       0.84      0.89      0.86      1000\n",
            "           3       0.91      0.93      0.92      1000\n",
            "           4       0.84      0.88      0.86      1000\n",
            "           5       0.99      0.97      0.98      1000\n",
            "           6       0.78      0.72      0.75      1000\n",
            "           7       0.94      0.98      0.96      1000\n",
            "           8       0.97      0.98      0.98      1000\n",
            "           9       0.98      0.96      0.97      1000\n",
            "\n",
            "    accuracy                           0.91     10000\n",
            "   macro avg       0.91      0.91      0.91     10000\n",
            "weighted avg       0.91      0.91      0.91     10000\n",
            "\n"
          ]
        }
      ]
    },
    {
      "cell_type": "code",
      "source": [
        "confusion_matrix(y_test,predictions)"
      ],
      "metadata": {
        "colab": {
          "base_uri": "https://localhost:8080/"
        },
        "id": "SHckTu_xD5_W",
        "outputId": "94088a0a-d461-46cf-8916-0d31defc3842"
      },
      "execution_count": 77,
      "outputs": [
        {
          "output_type": "execute_result",
          "data": {
            "text/plain": [
              "array([[845,   0,  19,  22,   4,   0, 103,   0,   7,   0],\n",
              "       [  2, 974,   1,  15,   3,   0,   2,   0,   3,   0],\n",
              "       [ 16,   0, 888,   8,  44,   0,  43,   0,   1,   0],\n",
              "       [ 11,   1,   7, 929,  31,   0,  17,   0,   4,   0],\n",
              "       [  2,   0,  60,  19, 881,   0,  36,   0,   2,   0],\n",
              "       [  0,   0,   0,   0,   0, 969,   0,  22,   0,   9],\n",
              "       [ 87,   0,  78,  26,  81,   0, 716,   0,  12,   0],\n",
              "       [  0,   0,   0,   0,   0,   5,   0, 983,   0,  12],\n",
              "       [  2,   0,   3,   4,   3,   1,   2,   2, 983,   0],\n",
              "       [  1,   0,   0,   0,   0,   3,   0,  39,   0, 957]])"
            ]
          },
          "metadata": {},
          "execution_count": 77
        }
      ]
    },
    {
      "cell_type": "code",
      "source": [
        "import seaborn as sns\n",
        "plt.figure(figsize=(10,6))\n",
        "sns.heatmap(confusion_matrix(y_test,predictions),annot=True)\n",
        "plt.show()"
      ],
      "metadata": {
        "colab": {
          "base_uri": "https://localhost:8080/",
          "height": 374
        },
        "id": "qwWqlwsHEFs3",
        "outputId": "4883d735-925b-448b-8f46-53f95b9a0769"
      },
      "execution_count": 78,
      "outputs": [
        {
          "output_type": "display_data",
          "data": {
            "text/plain": [
              "<Figure size 720x432 with 2 Axes>"
            ],
            "image/png": "[encoded data removed]"
          },
          "metadata": {
            "needs_background": "light"
          }
        }
      ]
    },
    {
      "cell_type": "markdown",
      "source": [
        "it seems that our basic CNN model has hard time distinguishing T-shirt, Shirts, pullover, dress and coat which makes sense. "
      ],
      "metadata": {
        "id": "4XN67Gt1EuNY"
      }
    },
    {
      "cell_type": "markdown",
      "source": [
        "Recall: Labels\n",
        "\n",
        "    0 T-shirt/top\n",
        "    1 Trouser\n",
        "    2 Pullover\n",
        "    3 Dress\n",
        "    4 Coat\n",
        "    5 Sandal\n",
        "    6 Shirt\n",
        "    7 Sneaker\n",
        "    8 Bag\n",
        "    9 Ankle boot\n",
        "\n"
      ],
      "metadata": {
        "id": "W3jZfVjAEz0o"
      }
    },
    {
      "cell_type": "markdown",
      "source": [
        "Let's look into some of the misclassified images!"
      ],
      "metadata": {
        "id": "sOvug5SME4TY"
      }
    },
    {
      "cell_type": "markdown",
      "source": [],
      "metadata": {
        "id": "rcDYl7OcE4jb"
      }
    },
    {
      "cell_type": "code",
      "source": [
        "y_test!=predictions"
      ],
      "metadata": {
        "colab": {
          "base_uri": "https://localhost:8080/"
        },
        "id": "SitEq9_NFg3q",
        "outputId": "318e8d44-9fa5-4f3f-b8e5-335493655339"
      },
      "execution_count": 79,
      "outputs": [
        {
          "output_type": "execute_result",
          "data": {
            "text/plain": [
              "array([False, False, False, ..., False, False, False])"
            ]
          },
          "metadata": {},
          "execution_count": 79
        }
      ]
    },
    {
      "cell_type": "code",
      "source": [
        "misclassified_images=[i for i,x in enumerate (y_test!=predictions)if x==True]"
      ],
      "metadata": {
        "id": "CSQhkcUEFmz2"
      },
      "execution_count": 80,
      "outputs": []
    },
    {
      "cell_type": "code",
      "source": [
        "misclassified_images[:9]"
      ],
      "metadata": {
        "colab": {
          "base_uri": "https://localhost:8080/"
        },
        "id": "8Bmw5N5kGGcS",
        "outputId": "49bc8d88-d68f-4ef1-acae-5383cebf7d3c"
      },
      "execution_count": 81,
      "outputs": [
        {
          "output_type": "execute_result",
          "data": {
            "text/plain": [
              "[21, 23, 25, 27, 42, 44, 49, 57, 66]"
            ]
          },
          "metadata": {},
          "execution_count": 81
        }
      ]
    },
    {
      "cell_type": "code",
      "source": [
        "plt.figure(figsize=(10,10))\n",
        "actuals=[]\n",
        "for i, number in enumerate(misclassified_images[:9]):\n",
        "  ax=plt.subplot(3,3,i+1)\n",
        "  plt.imshow(x_test[number].reshape(28,28))\n",
        "  actuals.append(y_test[number])\n",
        "plt.show()  "
      ],
      "metadata": {
        "colab": {
          "base_uri": "https://localhost:8080/",
          "height": 593
        },
        "id": "HFFL4gzmGPNY",
        "outputId": "b629a9f3-49ae-4571-e024-2304098e9c22"
      },
      "execution_count": 82,
      "outputs": [
        {
          "output_type": "display_data",
          "data": {
            "text/plain": [
              "<Figure size 720x720 with 9 Axes>"
            ],
            "image/png": "[encoded data removed]"
          },
          "metadata": {
            "needs_background": "light"
          }
        }
      ]
    },
    {
      "cell_type": "code",
      "source": [
        "list(predictions[misclassified_images[:9]])"
      ],
      "metadata": {
        "colab": {
          "base_uri": "https://localhost:8080/"
        },
        "id": "z5pIcNp4HXbE",
        "outputId": "2de2f897-3cdf-48af-dc88-f97548915f3f"
      },
      "execution_count": 83,
      "outputs": [
        {
          "output_type": "execute_result",
          "data": {
            "text/plain": [
              "[7, 5, 2, 6, 6, 4, 6, 6, 6]"
            ]
          },
          "metadata": {},
          "execution_count": 83
        }
      ]
    },
    {
      "cell_type": "code",
      "source": [
        "actuals"
      ],
      "metadata": {
        "colab": {
          "base_uri": "https://localhost:8080/"
        },
        "id": "SY05MOCQHkwR",
        "outputId": "76837eb4-3f28-4099-8f5d-f60a89fc9729"
      },
      "execution_count": 84,
      "outputs": [
        {
          "output_type": "execute_result",
          "data": {
            "text/plain": [
              "[5, 9, 4, 0, 3, 6, 2, 4, 2]"
            ]
          },
          "metadata": {},
          "execution_count": 84
        }
      ]
    },
    {
      "cell_type": "markdown",
      "source": [
        "Recall: Labels\n",
        "\n",
        "    0 T-shirt/top\n",
        "    1 Trouser\n",
        "    2 Pullover\n",
        "    3 Dress\n",
        "    4 Coat\n",
        "    5 Sandal\n",
        "    6 Shirt\n",
        "    7 Sneaker\n",
        "    8 Bag\n",
        "    9 Ankle boot\n",
        "\n"
      ],
      "metadata": {
        "id": "vTuxYJ1KHuhp"
      }
    },
    {
      "cell_type": "markdown",
      "source": [
        "Done"
      ],
      "metadata": {
        "id": "e2EZXt64Hxqq"
      }
    }
  ]
}